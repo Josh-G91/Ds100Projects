{
 "cells": [
  {
   "cell_type": "markdown",
   "metadata": {},
   "source": [
    "Before you turn this problem in, make sure everything runs as expected. First, **restart the kernel** (in the menubar, select Kernel$\\rightarrow$Restart) and then **run all cells** (in the menubar, select Cell$\\rightarrow$Run All).\n",
    "\n",
    "Make sure you fill in any place that says `YOUR CODE HERE` or \"YOUR ANSWER HERE\", as well as your name and collaborators below:"
   ]
  },
  {
   "cell_type": "code",
   "execution_count": 1,
   "metadata": {},
   "outputs": [],
   "source": [
    "NAME = \"Joshua Gonzalez\"\n",
    "COLLABORATORS = \"\""
   ]
  },
  {
   "cell_type": "markdown",
   "metadata": {},
   "source": [
    "---"
   ]
  },
  {
   "cell_type": "markdown",
   "metadata": {
    "deletable": false,
    "editable": false,
    "nbgrader": {
     "cell_type": "markdown",
     "checksum": "851a1167a43648157d50a63c9bf36e69",
     "grade": false,
     "grade_id": "intro",
     "locked": true,
     "schema_version": 2,
     "solution": false
    }
   },
   "source": [
    "# Project 1: Trump, Twitter, and Text\n",
    "\n",
    "Welcome to the first project of Data 100! In this project, we will work with the Twitter API in order to analyze Donald Trump's tweets.\n",
    "\n",
    "**The project is due 11:59pm Tuesday, October 23, California Time.**\n",
    "\n",
    "You do not have to work on this project before the midterm, but you might find it helpful, since it goes over a lot of pandas materials that we haven't used in a while.\n",
    "\n",
    "**Fun:**\n",
    "\n",
    "We intend this project to be fun! You will analyze actual data from the Twitter API. You will also draw conclusions about the current (and often controversial) US President's tweet behavior. If you find yourself getting frustrated or stuck on one problem for too long, we suggest coming into office hours and working with friends in the class.\n",
    "\n",
    "With that in mind, let's get started!"
   ]
  },
  {
   "cell_type": "code",
   "execution_count": 2,
   "metadata": {
    "deletable": false,
    "editable": false,
    "nbgrader": {
     "cell_type": "code",
     "checksum": "39a1c52c1b5855b6bd9b10e6a7802072",
     "grade": false,
     "grade_id": "import",
     "locked": true,
     "schema_version": 2,
     "solution": false
    }
   },
   "outputs": [],
   "source": [
    "# Run this cell to set up your notebook\n",
    "import csv\n",
    "import numpy as np\n",
    "import pandas as pd\n",
    "import matplotlib.pyplot as plt\n",
    "import zipfile\n",
    "\n",
    "# Ensure that Pandas shows at least 280 characters in columns, so we can see full tweets\n",
    "pd.set_option('max_colwidth', 280)\n",
    "\n",
    "%matplotlib inline\n",
    "plt.style.use('fivethirtyeight')\n",
    "import seaborn as sns\n",
    "sns.set()\n",
    "sns.set_context(\"talk\")\n",
    "import re"
   ]
  },
  {
   "cell_type": "markdown",
   "metadata": {
    "deletable": false,
    "editable": false,
    "nbgrader": {
     "cell_type": "markdown",
     "checksum": "69812bdeba1101e72f0c2c49d4e05e7e",
     "grade": false,
     "grade_id": "tweepy-intro",
     "locked": true,
     "schema_version": 2,
     "solution": false
    }
   },
   "source": [
    "# Downloading Recent Tweets\n",
    "\n",
    "---\n",
    "\n",
    "Since we'll be looking at Twitter data, we need to download the data from Twitter!\n",
    "\n",
    "Twitter provides an API for downloading tweet data in large batches.  The `tweepy` package makes it fairly easy to use."
   ]
  },
  {
   "cell_type": "code",
   "execution_count": 3,
   "metadata": {
    "deletable": false,
    "editable": false,
    "nbgrader": {
     "cell_type": "code",
     "checksum": "727d86148491e8268741fb9ad1182f32",
     "grade": false,
     "grade_id": "tweepy",
     "locked": true,
     "schema_version": 2,
     "solution": false
    }
   },
   "outputs": [],
   "source": [
    "## Make sure you are in your data100 conda environment if you are working locally.\n",
    "# The following should run:\n",
    "import tweepy"
   ]
  },
  {
   "cell_type": "markdown",
   "metadata": {
    "deletable": false,
    "editable": false,
    "nbgrader": {
     "cell_type": "markdown",
     "checksum": "be71d5e18529a33a68df98dba32c6b98",
     "grade": false,
     "grade_id": "instructions",
     "locked": true,
     "schema_version": 2,
     "solution": false
    }
   },
   "source": [
    "There are instructions on using `tweepy` [here](http://tweepy.readthedocs.io/en/v3.5.0/getting_started.html), but we will give you example code.\n",
    "\n",
    "Twitter requires you to have authentication keys to access their API.  To get your keys, you'll have to sign up as a Twitter developer.  The next question will walk you through this process."
   ]
  },
  {
   "cell_type": "markdown",
   "metadata": {
    "deletable": false,
    "editable": false,
    "nbgrader": {
     "cell_type": "markdown",
     "checksum": "d7f77217a61748b66ee95e547435218f",
     "grade": false,
     "grade_id": "q1",
     "locked": true,
     "schema_version": 2,
     "solution": false
    }
   },
   "source": [
    "## Question 1\n",
    "\n",
    "Follow the instructions below to get your Twitter API keys.  **Read the instructions completely before starting.**\n",
    "\n",
    "1. [Create a Twitter account](https://twitter.com).  You can use an existing account if you have one; if you prefer to not do this assignment under your regular account, feel free to create a throw-away account.\n",
    "2. Under account settings, add your phone number to the account.\n",
    "3. [Create a Twitter developer account](https://dev.twitter.com/resources/signup) by clicking the 'Apply' button on the top right of the page. Attach it to your Twitter account. You'll have to fill out a form describing what you want to do with the developer account. Explain that you are doing this for a class at UC Berkeley and that you don't know exactly what you're building yet and just need the account to get started. These applications are approved by some sort of AI system, so it doesn't matter exactly what you write. Just don't enter a bunch of alweiofalwiuhflawiuehflawuihflaiwhfe type stuff or you might get rejected.\n",
    "4. Once you're logged into your developer account, [create an application for this assignment](https://apps.twitter.com/app/new).  You can call it whatever you want, and you can write any URL when it asks for a web site.  You don't need to provide a callback URL.\n",
    "5. On the page for that application, find your Consumer Key and Consumer Secret.\n",
    "6. On the same page, create an Access Token.  Record the resulting Access Token and Access Token Secret.\n",
    "7. Edit the file [keys.json](keys.json) and replace the placeholders with your keys.  "
   ]
  },
  {
   "cell_type": "markdown",
   "metadata": {
    "deletable": false,
    "editable": false,
    "nbgrader": {
     "cell_type": "markdown",
     "checksum": "660b295179b4972ddbe15e607eab658b",
     "grade": false,
     "grade_id": "warning",
     "locked": true,
     "schema_version": 2,
     "solution": false
    }
   },
   "source": [
    "\n",
    "## WARNING (Please Read) !!!!\n",
    "\n",
    "\n",
    "### Protect your Twitter Keys\n",
    "<span style=\"color:red\">\n",
    "If someone has your authentication keys, they can access your Twitter account and post as you!  So don't give them to anyone, and **don't write them down in this notebook**. \n",
    "</span>\n",
    "The usual way to store sensitive information like this is to put it in a separate file and read it programmatically.  That way, you can share the rest of your code without sharing your keys.  That's why we're asking you to put your keys in `keys.json` for this assignment.\n",
    "\n",
    "\n",
    "### Avoid making too many API calls.\n",
    "\n",
    "<span style=\"color:red\">\n",
    "Twitter limits developers to a certain rate of requests for data.  If you make too many requests in a short period of time, you'll have to wait awhile (around 15 minutes) before you can make more.  </span> \n",
    "So carefully follow the code examples you see and don't rerun cells without thinking.  Instead, always save the data you've collected to a file.  We've provided templates to help you do that.\n",
    "\n",
    "\n",
    "### Be careful about which functions you call!\n",
    "\n",
    "<span style=\"color:red\">\n",
    "This API can retweet tweets, follow and unfollow people, and modify your twitter settings.  Be careful which functions you invoke! </span> One of the sp18 instructors accidentally re-tweeted some tweets because that instructor typed `retweet` instead of `retweet_count`. \n",
    "</span>\n"
   ]
  },
  {
   "cell_type": "code",
   "execution_count": 4,
   "metadata": {
    "deletable": false,
    "editable": false,
    "nbgrader": {
     "cell_type": "code",
     "checksum": "c2eb5fb9a1af6832165a365b0aad21ab",
     "grade": false,
     "grade_id": "keys",
     "locked": true,
     "schema_version": 2,
     "solution": false
    }
   },
   "outputs": [],
   "source": [
    "import json\n",
    "key_file = 'keys.json'\n",
    "# Loading your keys from keys.json (which you should have filled\n",
    "# in in question 1):\n",
    "with open(key_file) as f:\n",
    "    keys = json.load(f)\n",
    "# if you print or view the contents of keys be sure to delete the cell!"
   ]
  },
  {
   "cell_type": "markdown",
   "metadata": {
    "deletable": false,
    "editable": false,
    "nbgrader": {
     "cell_type": "markdown",
     "checksum": "118d21c4ccbbf942c9f2707840908cca",
     "grade": false,
     "grade_id": "tweepy-auth-note",
     "locked": true,
     "schema_version": 2,
     "solution": false
    }
   },
   "source": [
    "This cell tests the Twitter authentication. It should run without errors or warnings and display your Twitter username."
   ]
  },
  {
   "cell_type": "code",
   "execution_count": 5,
   "metadata": {
    "deletable": false,
    "editable": false,
    "nbgrader": {
     "cell_type": "code",
     "checksum": "66806331fe1cb852ab300e98459cb2d4",
     "grade": false,
     "grade_id": "twitter-auth",
     "locked": true,
     "schema_version": 2,
     "solution": false
    }
   },
   "outputs": [
    {
     "ename": "TypeError",
     "evalue": "list indices must be integers or slices, not str",
     "output_type": "error",
     "traceback": [
      "\u001b[0;31m---------------------------------------------------------------------------\u001b[0m",
      "\u001b[0;31mTypeError\u001b[0m                                 Traceback (most recent call last)",
      "\u001b[0;32m<ipython-input-5-cbc4803d4576>\u001b[0m in \u001b[0;36m<module>\u001b[0;34m()\u001b[0m\n\u001b[1;32m      4\u001b[0m \u001b[0;34m\u001b[0m\u001b[0m\n\u001b[1;32m      5\u001b[0m \u001b[0;32mtry\u001b[0m\u001b[0;34m:\u001b[0m\u001b[0;34m\u001b[0m\u001b[0m\n\u001b[0;32m----> 6\u001b[0;31m     \u001b[0mauth\u001b[0m \u001b[0;34m=\u001b[0m \u001b[0mtweepy\u001b[0m\u001b[0;34m.\u001b[0m\u001b[0mOAuthHandler\u001b[0m\u001b[0;34m(\u001b[0m\u001b[0mkeys\u001b[0m\u001b[0;34m[\u001b[0m\u001b[0;34m\"consumer_key\"\u001b[0m\u001b[0;34m]\u001b[0m\u001b[0;34m,\u001b[0m \u001b[0mkeys\u001b[0m\u001b[0;34m[\u001b[0m\u001b[0;34m\"consumer_secret\"\u001b[0m\u001b[0;34m]\u001b[0m\u001b[0;34m)\u001b[0m\u001b[0;34m\u001b[0m\u001b[0m\n\u001b[0m\u001b[1;32m      7\u001b[0m     \u001b[0mauth\u001b[0m\u001b[0;34m.\u001b[0m\u001b[0mset_access_token\u001b[0m\u001b[0;34m(\u001b[0m\u001b[0mkeys\u001b[0m\u001b[0;34m[\u001b[0m\u001b[0;34m\"access_token\"\u001b[0m\u001b[0;34m]\u001b[0m\u001b[0;34m,\u001b[0m \u001b[0mkeys\u001b[0m\u001b[0;34m[\u001b[0m\u001b[0;34m\"access_token_secret\"\u001b[0m\u001b[0;34m]\u001b[0m\u001b[0;34m)\u001b[0m\u001b[0;34m\u001b[0m\u001b[0m\n\u001b[1;32m      8\u001b[0m     \u001b[0mapi\u001b[0m \u001b[0;34m=\u001b[0m \u001b[0mtweepy\u001b[0m\u001b[0;34m.\u001b[0m\u001b[0mAPI\u001b[0m\u001b[0;34m(\u001b[0m\u001b[0mauth\u001b[0m\u001b[0;34m)\u001b[0m\u001b[0;34m\u001b[0m\u001b[0m\n",
      "\u001b[0;31mTypeError\u001b[0m: list indices must be integers or slices, not str"
     ]
    }
   ],
   "source": [
    "import tweepy\n",
    "from tweepy import TweepError\n",
    "import logging\n",
    "\n",
    "try:\n",
    "    auth = tweepy.OAuthHandler(keys[\"consumer_key\"], keys[\"consumer_secret\"])\n",
    "    auth.set_access_token(keys[\"access_token\"], keys[\"access_token_secret\"])\n",
    "    api = tweepy.API(auth)\n",
    "    print(\"Your username is:\", api.auth.get_username())\n",
    "except TweepError as e:\n",
    "    logging.warning(\"There was a Tweepy error. Double check your API keys and try again.\")\n",
    "    logging.warning(e)"
   ]
  },
  {
   "cell_type": "markdown",
   "metadata": {
    "deletable": false,
    "editable": false,
    "nbgrader": {
     "cell_type": "markdown",
     "checksum": "b738ef5c6ffad625b8d5a61b66719ad6",
     "grade": false,
     "grade_id": "q2",
     "locked": true,
     "schema_version": 2,
     "solution": false
    }
   },
   "source": [
    "## Question 2\n",
    "\n",
    "In the example below, we have loaded some tweets by @BerkeleyData.  Run it and read the code."
   ]
  },
  {
   "cell_type": "code",
   "execution_count": 6,
   "metadata": {
    "deletable": false,
    "editable": false,
    "nbgrader": {
     "cell_type": "code",
     "checksum": "3defce91d655ee59ae318cc20133476a",
     "grade": false,
     "grade_id": "load-berkeley-tweets",
     "locked": true,
     "schema_version": 2,
     "solution": false
    }
   },
   "outputs": [],
   "source": [
    "from pathlib import Path\n",
    "import json\n",
    "\n",
    "ds_tweets_save_path = \"BerkeleyData_recent_tweets.json\"\n",
    "# Guarding against attempts to download the data multiple\n",
    "# times:\n",
    "if not Path(ds_tweets_save_path).is_file():\n",
    "    # Getting as many recent tweets by @BerkeleyData as Twitter will let us have.\n",
    "    # We use tweet_mode='extended' so that Twitter gives us full 280 character tweets.\n",
    "    # This was a change introduced in September 2017.\n",
    "    \n",
    "    # The tweepy Cursor API actually returns \"sophisticated\" Status objects but we \n",
    "    # will use the basic Python dictionaries stored in the _json field. \n",
    "    example_tweets = [t._json for t in tweepy.Cursor(api.user_timeline, id=\"BerkeleyData\", \n",
    "                                             tweet_mode='extended').items()]\n",
    "    \n",
    "    # Saving the tweets to a json file on disk for future analysis\n",
    "    with open(ds_tweets_save_path, \"w\") as f:        \n",
    "        json.dump(example_tweets, f)\n",
    "\n",
    "# Re-loading the json file:\n",
    "with open(ds_tweets_save_path, \"r\") as f:\n",
    "    example_tweets = json.load(f)"
   ]
  },
  {
   "cell_type": "markdown",
   "metadata": {
    "deletable": false,
    "editable": false,
    "nbgrader": {
     "cell_type": "markdown",
     "checksum": "7dc93f6841b3ecdb826a8ff12ebb2030",
     "grade": false,
     "grade_id": "first-tweet-did-it-workk",
     "locked": true,
     "schema_version": 2,
     "solution": false
    }
   },
   "source": [
    "Assuming everything ran correctly you should be able to look at the first tweet by running the cell below.\n",
    "\n",
    "<span style=\"color:red\">\n",
    "**Warning** Do not attempt to view all the tweets in a notebook.  It will likely freeze your browser.  The following would be a **bad idea**:\n",
    "```python\n",
    "    pprint(example_tweets)\n",
    "```\n",
    "\n",
    "</span> "
   ]
  },
  {
   "cell_type": "code",
   "execution_count": 7,
   "metadata": {
    "deletable": false,
    "editable": false,
    "nbgrader": {
     "cell_type": "code",
     "checksum": "de383bb55c2e4e13c896209b5f7589c0",
     "grade": false,
     "grade_id": "first-tweet",
     "locked": true,
     "schema_version": 2,
     "solution": false
    }
   },
   "outputs": [
    {
     "name": "stdout",
     "output_type": "stream",
     "text": [
      "{'contributors': None,\n",
      " 'coordinates': None,\n",
      " 'created_at': 'Thu Oct 11 18:24:57 +0000 2018',\n",
      " 'display_text_range': [0, 239],\n",
      " 'entities': {'hashtags': [{'indices': [221, 239],\n",
      "                            'text': 'PoliticalPendulum'}],\n",
      "              'media': [{'display_url': 'pic.twitter.com/syRJJiCdwU',\n",
      "                         'expanded_url': 'https://twitter.com/BerkeleyData/status/1050452208104431616/photo/1',\n",
      "                         'id': 1050450189239037952,\n",
      "                         'id_str': '1050450189239037952',\n",
      "                         'indices': [240, 263],\n",
      "                         'media_url': 'http://pbs.twimg.com/media/DpPy4a_VsAAsFkB.jpg',\n",
      "                         'media_url_https': 'https://pbs.twimg.com/media/DpPy4a_VsAAsFkB.jpg',\n",
      "                         'sizes': {'large': {'h': 729,\n",
      "                                             'resize': 'fit',\n",
      "                                             'w': 1400},\n",
      "                                   'medium': {'h': 625,\n",
      "                                              'resize': 'fit',\n",
      "                                              'w': 1200},\n",
      "                                   'small': {'h': 354,\n",
      "                                             'resize': 'fit',\n",
      "                                             'w': 680},\n",
      "                                   'thumb': {'h': 150,\n",
      "                                             'resize': 'crop',\n",
      "                                             'w': 150}},\n",
      "                         'type': 'photo',\n",
      "                         'url': 'https://t.co/syRJJiCdwU'}],\n",
      "              'symbols': [],\n",
      "              'urls': [{'display_url': 'bit.ly/PoliticalPendu…',\n",
      "                        'expanded_url': 'http://bit.ly/PoliticalPendulum',\n",
      "                        'indices': [197, 220],\n",
      "                        'url': 'https://t.co/hxpyFJLXvc'}],\n",
      "              'user_mentions': []},\n",
      " 'extended_entities': {'media': [{'display_url': 'pic.twitter.com/syRJJiCdwU',\n",
      "                                  'expanded_url': 'https://twitter.com/BerkeleyData/status/1050452208104431616/photo/1',\n",
      "                                  'id': 1050450189239037952,\n",
      "                                  'id_str': '1050450189239037952',\n",
      "                                  'indices': [240, 263],\n",
      "                                  'media_url': 'http://pbs.twimg.com/media/DpPy4a_VsAAsFkB.jpg',\n",
      "                                  'media_url_https': 'https://pbs.twimg.com/media/DpPy4a_VsAAsFkB.jpg',\n",
      "                                  'sizes': {'large': {'h': 729,\n",
      "                                                      'resize': 'fit',\n",
      "                                                      'w': 1400},\n",
      "                                            'medium': {'h': 625,\n",
      "                                                       'resize': 'fit',\n",
      "                                                       'w': 1200},\n",
      "                                            'small': {'h': 354,\n",
      "                                                      'resize': 'fit',\n",
      "                                                      'w': 680},\n",
      "                                            'thumb': {'h': 150,\n",
      "                                                      'resize': 'crop',\n",
      "                                                      'w': 150}},\n",
      "                                  'type': 'photo',\n",
      "                                  'url': 'https://t.co/syRJJiCdwU'}]},\n",
      " 'favorite_count': 13,\n",
      " 'favorited': False,\n",
      " 'full_text': 'Political power in the United States tends to shift back and '\n",
      "              'forth between two parties, creating a political “pendulum.\" We '\n",
      "              'look at the timing of the pendulum and its speed and strength '\n",
      "              'over time: https://t.co/hxpyFJLXvc #PoliticalPendulum '\n",
      "              'https://t.co/syRJJiCdwU',\n",
      " 'geo': None,\n",
      " 'id': 1050452208104431616,\n",
      " 'id_str': '1050452208104431616',\n",
      " 'in_reply_to_screen_name': None,\n",
      " 'in_reply_to_status_id': None,\n",
      " 'in_reply_to_status_id_str': None,\n",
      " 'in_reply_to_user_id': None,\n",
      " 'in_reply_to_user_id_str': None,\n",
      " 'is_quote_status': False,\n",
      " 'lang': 'en',\n",
      " 'place': None,\n",
      " 'possibly_sensitive': False,\n",
      " 'retweet_count': 11,\n",
      " 'retweeted': False,\n",
      " 'source': '<a href=\"http://twitter.com\" rel=\"nofollow\">Twitter Web Client</a>',\n",
      " 'truncated': False,\n",
      " 'user': {'contributors_enabled': False,\n",
      "          'created_at': 'Thu Feb 28 14:37:26 +0000 2013',\n",
      "          'default_profile': False,\n",
      "          'default_profile_image': False,\n",
      "          'description': 'An online Master of Information and Data Science '\n",
      "                         '(MIDS) degree from the UC Berkeley School of '\n",
      "                         'Information. Learn more at: http://t.co/zf6gfBWovQ',\n",
      "          'entities': {'description': {'urls': [{'display_url': 'bit.ly/tBerkeleyData',\n",
      "                                                 'expanded_url': 'http://bit.ly/tBerkeleyData',\n",
      "                                                 'indices': [122, 144],\n",
      "                                                 'url': 'http://t.co/zf6gfBWovQ'}]},\n",
      "                       'url': {'urls': [{'display_url': 'datascience.berkeley.edu',\n",
      "                                         'expanded_url': 'http://datascience.berkeley.edu',\n",
      "                                         'indices': [0, 22],\n",
      "                                         'url': 'http://t.co/S79Ul3oCaa'}]}},\n",
      "          'favourites_count': 168,\n",
      "          'follow_request_sent': False,\n",
      "          'followers_count': 11759,\n",
      "          'following': False,\n",
      "          'friends_count': 412,\n",
      "          'geo_enabled': False,\n",
      "          'has_extended_profile': False,\n",
      "          'id': 1227698863,\n",
      "          'id_str': '1227698863',\n",
      "          'is_translation_enabled': False,\n",
      "          'is_translator': False,\n",
      "          'lang': 'en',\n",
      "          'listed_count': 485,\n",
      "          'location': 'Berkeley, CA',\n",
      "          'name': 'datascience@berkeley',\n",
      "          'notifications': False,\n",
      "          'profile_background_color': 'CCCCCC',\n",
      "          'profile_background_image_url': 'http://abs.twimg.com/images/themes/theme1/bg.png',\n",
      "          'profile_background_image_url_https': 'https://abs.twimg.com/images/themes/theme1/bg.png',\n",
      "          'profile_background_tile': False,\n",
      "          'profile_banner_url': 'https://pbs.twimg.com/profile_banners/1227698863/1502212054',\n",
      "          'profile_image_url': 'http://pbs.twimg.com/profile_images/894968224973897728/lI8iiF3J_normal.jpg',\n",
      "          'profile_image_url_https': 'https://pbs.twimg.com/profile_images/894968224973897728/lI8iiF3J_normal.jpg',\n",
      "          'profile_link_color': '5173B6',\n",
      "          'profile_sidebar_border_color': 'FFFFFF',\n",
      "          'profile_sidebar_fill_color': 'DDEEF6',\n",
      "          'profile_text_color': '333333',\n",
      "          'profile_use_background_image': True,\n",
      "          'protected': False,\n",
      "          'screen_name': 'BerkeleyData',\n",
      "          'statuses_count': 2404,\n",
      "          'time_zone': None,\n",
      "          'translator_type': 'none',\n",
      "          'url': 'http://t.co/S79Ul3oCaa',\n",
      "          'utc_offset': None,\n",
      "          'verified': False}}\n"
     ]
    }
   ],
   "source": [
    "# Looking at one tweet object, which has type Status: \n",
    "from pprint import pprint # ...to get a more easily-readable view.\n",
    "pprint(example_tweets[0])"
   ]
  },
  {
   "cell_type": "markdown",
   "metadata": {
    "collapsed": true,
    "deletable": false,
    "editable": false,
    "nbgrader": {
     "cell_type": "markdown",
     "checksum": "43ce65ddda5bb1543856611dd2c536f9",
     "grade": false,
     "grade_id": "q2a",
     "locked": true,
     "schema_version": 2,
     "solution": false
    }
   },
   "source": [
    "## Question 2a\n",
    "\n",
    "### What you need to do. \n",
    "\n",
    "Re-factor the above code fragment into reusable snippets below.  You should not need to make major modifications; this is mostly an exercise in understanding the above code block. "
   ]
  },
  {
   "cell_type": "code",
   "execution_count": 8,
   "metadata": {
    "deletable": false,
    "nbgrader": {
     "cell_type": "code",
     "checksum": "bd6de9d61c340450539455afd0f8fdf3",
     "grade": false,
     "grade_id": "load-keys",
     "locked": false,
     "schema_version": 2,
     "solution": true
    },
    "tags": [
     "student"
    ]
   },
   "outputs": [],
   "source": [
    "def load_keys(path):\n",
    "    \"\"\"Loads your Twitter authentication keys from a file on disk.\n",
    "    \n",
    "    Args:\n",
    "        path (str): The path to your key file.  The file should\n",
    "          be in JSON format and look like this (but filled in):\n",
    "            {\n",
    "                \"consumer_key\": \"<your Consumer Key here>\",\n",
    "                \"consumer_secret\":  \"<your Consumer Secret here>\",\n",
    "                \"access_token\": \"<your Access Token here>\",\n",
    "                \"access_token_secret\": \"<your Access Token Secret here>\"\n",
    "            }\n",
    "    \n",
    "    Returns:\n",
    "        dict: A dictionary mapping key names (like \"consumer_key\") to\n",
    "          key values.\"\"\"\n",
    "    \n",
    "    \n",
    "    with open(path) as f:\n",
    "        keys = json.load(f)\n",
    "    return keys\n"
   ]
  },
  {
   "cell_type": "code",
   "execution_count": 9,
   "metadata": {
    "deletable": false,
    "nbgrader": {
     "cell_type": "code",
     "checksum": "76ff200bf064ab3f5c457bc4725d8cd8",
     "grade": false,
     "grade_id": "download-recent-tweets",
     "locked": false,
     "schema_version": 2,
     "solution": true
    },
    "tags": [
     "student"
    ]
   },
   "outputs": [],
   "source": [
    "def download_recent_tweets_by_user(user_account_name, keys):\n",
    "    \"\"\"Downloads tweets by one Twitter user.\n",
    "\n",
    "    Args:\n",
    "        user_account_name (str): The name of the Twitter account\n",
    "          whose tweets will be downloaded.\n",
    "        keys (dict): A Python dictionary with Twitter authentication\n",
    "          keys (strings), like this (but filled in):\n",
    "            {\n",
    "                \"consumer_key\": \"<your Consumer Key here>\",\n",
    "                \"consumer_secret\":  \"<your Consumer Secret here>\",\n",
    "                \"access_token\": \"<your Access Token here>\",\n",
    "                \"access_token_secret\": \"<your Access Token Secret here>\"\n",
    "            }\n",
    "\n",
    "    Returns:\n",
    "        list: A list of Dictonary objects, each representing one tweet.\"\"\"\n",
    "    \n",
    "    \n",
    "    try:\n",
    "        auth = tweepy.OAuthHandler(keys[\"consumer_key\"], keys[\"consumer_secret\"])\n",
    "        auth.set_access_token(keys[\"access_token\"], keys[\"access_token_secret\"])\n",
    "        api = tweepy.API(auth)\n",
    "    except TweepError as e:\n",
    "        logging.warning(\"There was a Tweepy error. Double check your API keys and try again.\")\n",
    "        logging.warning(e)\n",
    "    \n",
    "    tweets = [t._json for t in tweepy.Cursor(api.user_timeline, id=user_account_name, \n",
    "                                             tweet_mode='extended').items()]\n",
    "    return tweets\n"
   ]
  },
  {
   "cell_type": "code",
   "execution_count": 10,
   "metadata": {
    "deletable": false,
    "nbgrader": {
     "cell_type": "code",
     "checksum": "75d788899e9212031d95685b7ebb4505",
     "grade": false,
     "grade_id": "save-tweets",
     "locked": false,
     "schema_version": 2,
     "solution": true
    },
    "tags": [
     "student"
    ]
   },
   "outputs": [],
   "source": [
    "def save_tweets(tweets, path):\n",
    "    \"\"\"Saves a list of tweets to a file in the local filesystem.\n",
    "    \n",
    "    This function makes no guarantee about the format of the saved\n",
    "    tweets, **except** that calling load_tweets(path) after\n",
    "    save_tweets(tweets, path) will produce the same list of tweets\n",
    "    and that only the file at the given path is used to store the\n",
    "    tweets.  (That means you can implement this function however\n",
    "    you want, as long as saving and loading works!)\n",
    "\n",
    "    Args:\n",
    "        tweets (list): A list of tweet objects (of type Dictionary) to\n",
    "          be saved.\n",
    "        path (str): The place where the tweets will be saved.\n",
    "\n",
    "    Returns:\n",
    "        None\"\"\"\n",
    "    with open(path, \"w\") as f:        \n",
    "        json.dump(tweets, f)\n",
    "    \n",
    "    \n",
    "    # YOUR CODE HERE\n",
    "    # raise NotImplementedError()"
   ]
  },
  {
   "cell_type": "code",
   "execution_count": 11,
   "metadata": {
    "deletable": false,
    "nbgrader": {
     "cell_type": "code",
     "checksum": "31f5a74addf3b0211c65b0220160568c",
     "grade": false,
     "grade_id": "load-tweets",
     "locked": false,
     "schema_version": 2,
     "solution": true
    },
    "tags": [
     "student"
    ]
   },
   "outputs": [],
   "source": [
    "def load_tweets(path):\n",
    "    \"\"\"Loads tweets that have previously been saved.\n",
    "    \n",
    "    Calling load_tweets(path) after save_tweets(tweets, path)\n",
    "    will produce the same list of tweets.\n",
    "    \n",
    "    Args:\n",
    "        path (str): The place where the tweets were be saved.\n",
    "\n",
    "    Returns:\n",
    "        list: A list of Dictionary objects, each representing one tweet.\"\"\"\n",
    "    with open(path, \"r\") as f:\n",
    "        tweets = json.load(f)\n",
    "    \n",
    "    return tweets\n",
    "    \n",
    "    "
   ]
  },
  {
   "cell_type": "code",
   "execution_count": 12,
   "metadata": {
    "deletable": false,
    "nbgrader": {
     "cell_type": "code",
     "checksum": "2c2633d5128de6e4aadf225aa291118d",
     "grade": false,
     "grade_id": "get-tweets-with-cache",
     "locked": false,
     "schema_version": 2,
     "solution": true
    },
    "tags": [
     "student"
    ]
   },
   "outputs": [],
   "source": [
    "\n",
    "def get_tweets_with_cache(user_account_name, keys_path):\n",
    "    \"\"\"Get recent tweets from one user, loading from a disk cache if available.\n",
    "    \n",
    "    The first time you call this function, it will download tweets by\n",
    "    a user.  Subsequent calls will not re-download the tweets; instead\n",
    "    they'll load the tweets from a save file in your local filesystem.\n",
    "    All this is done using the functions you defined in the previous cell.\n",
    "    This has benefits and drawbacks that often appear when you cache data:\n",
    "    \n",
    "    +: Using this function will prevent extraneous usage of the Twitter API.\n",
    "    +: You will get your data much faster after the first time it's called.\n",
    "    -: If you really want to re-download the tweets (say, to get newer ones,\n",
    "       or because you screwed up something in the previous cell and your\n",
    "       tweets aren't what you wanted), you'll have to find the save file\n",
    "       (which will look like <something>_recent_tweets.pkl) and delete it.\n",
    "    \n",
    "    Args:\n",
    "        user_account_name (str): The Twitter handle of a user, without the @.\n",
    "        keys_path (str): The path to a JSON keys file in your filesystem.\n",
    "    \"\"\"\n",
    "    k = load_keys(keys_path)\n",
    "\n",
    "    if not Path(keys_path).is_file():\n",
    "        tweets = download_recent_tweets_by_user(user_account_name, k)\n",
    "        \n",
    "        save_tweets(tweets, keys_path)\n",
    "        return tweets\n",
    "    \n",
    "    \n",
    "        \n",
    "    return load_tweets(keys_path)\n",
    "        \n",
    "    \n",
    "    \n",
    "    \n",
    "    \n",
    "    \n",
    "    # YOUR CODE HERE\n",
    "    # raise NotImplementedError()"
   ]
  },
  {
   "cell_type": "markdown",
   "metadata": {
    "deletable": false,
    "editable": false,
    "nbgrader": {
     "cell_type": "markdown",
     "checksum": "a2ddaff40134b8cf8f582c1df5db3883",
     "grade": false,
     "grade_id": "about-to-get-real",
     "locked": true,
     "schema_version": 2,
     "solution": false
    }
   },
   "source": [
    "If everything was implemented correctly you should be able to obtain roughly the last 3000 tweets by the `realdonaldtrump`.  (This may take a few minutes)"
   ]
  },
  {
   "cell_type": "code",
   "execution_count": 13,
   "metadata": {
    "deletable": false,
    "editable": false,
    "nbgrader": {
     "cell_type": "code",
     "checksum": "8ac3bb2120526571535abbe412929bfd",
     "grade": false,
     "grade_id": "trump-tweets",
     "locked": true,
     "schema_version": 2,
     "solution": false
    }
   },
   "outputs": [
    {
     "name": "stdout",
     "output_type": "stream",
     "text": [
      "Number of tweets downloaded: 3235\n"
     ]
    }
   ],
   "source": [
    "# When you are done, run this cell to load @realdonaldtrump's tweets.\n",
    "# Note the function get_tweets_with_cache.  You may find it useful\n",
    "# later.\n",
    "trump_tweets = get_tweets_with_cache(\"realdonaldtrump\", key_file)\n",
    "print(\"Number of tweets downloaded:\", len(trump_tweets))"
   ]
  },
  {
   "cell_type": "code",
   "execution_count": 14,
   "metadata": {
    "deletable": false,
    "editable": false,
    "nbgrader": {
     "cell_type": "code",
     "checksum": "afaf66b3188a4752b0271beed957ef6c",
     "grade": true,
     "grade_id": "trump-tweets-test",
     "locked": true,
     "points": 1,
     "schema_version": 2,
     "solution": false
    }
   },
   "outputs": [],
   "source": [
    "assert 2000 <= len(trump_tweets) <= 4000"
   ]
  },
  {
   "cell_type": "markdown",
   "metadata": {
    "deletable": false,
    "editable": false,
    "nbgrader": {
     "cell_type": "markdown",
     "checksum": "e991a5d45fd0eeebe8b1c6371a4019f9",
     "grade": false,
     "grade_id": "q2b",
     "locked": true,
     "schema_version": 2,
     "solution": false
    }
   },
   "source": [
    "### Question 2b\n",
    "\n",
    "We are limited to how many tweets we can download.  In what month is the oldest tweet from Trump?"
   ]
  },
  {
   "cell_type": "code",
   "execution_count": 15,
   "metadata": {
    "deletable": false,
    "nbgrader": {
     "cell_type": "code",
     "checksum": "1b46b55114772326e527b1dd67a17a8e",
     "grade": false,
     "grade_id": "oldest-month-question",
     "locked": false,
     "schema_version": 2,
     "solution": true
    }
   },
   "outputs": [],
   "source": [
    "# Enter the number of the month of the oldest tweet (e.g. 1 for January)\n",
    "oldest_month = 10\n",
    "\n",
    "# YOUR CODE HERE\n",
    "# raise NotImplementedError()"
   ]
  },
  {
   "cell_type": "code",
   "execution_count": 16,
   "metadata": {},
   "outputs": [
    {
     "name": "stdout",
     "output_type": "stream",
     "text": [
      "{'contributors': None,\n",
      " 'coordinates': None,\n",
      " 'created_at': 'Tue Oct 31 19:14:31 +0000 2017',\n",
      " 'display_text_range': [0, 83],\n",
      " 'entities': {'hashtags': [],\n",
      "              'media': [{'display_url': 'pic.twitter.com/STBtR6mO2j',\n",
      "                         'expanded_url': 'https://twitter.com/realDonaldTrump/status/925440868575797252/photo/1',\n",
      "                         'id': 925440863186059265,\n",
      "                         'id_str': '925440863186059265',\n",
      "                         'indices': [84, 107],\n",
      "                         'media_url': 'http://pbs.twimg.com/media/DNfTj9bWAAEp-3j.jpg',\n",
      "                         'media_url_https': 'https://pbs.twimg.com/media/DNfTj9bWAAEp-3j.jpg',\n",
      "                         'sizes': {'large': {'h': 531,\n",
      "                                             'resize': 'fit',\n",
      "                                             'w': 750},\n",
      "                                   'medium': {'h': 531,\n",
      "                                              'resize': 'fit',\n",
      "                                              'w': 750},\n",
      "                                   'small': {'h': 481,\n",
      "                                             'resize': 'fit',\n",
      "                                             'w': 680},\n",
      "                                   'thumb': {'h': 150,\n",
      "                                             'resize': 'crop',\n",
      "                                             'w': 150}},\n",
      "                         'type': 'photo',\n",
      "                         'url': 'https://t.co/STBtR6mO2j'}],\n",
      "              'symbols': [],\n",
      "              'urls': [{'display_url': '45.wh.gov/AllTimeHigh',\n",
      "                        'expanded_url': 'http://45.wh.gov/AllTimeHigh',\n",
      "                        'indices': [60, 83],\n",
      "                        'url': 'https://t.co/XzJiZgGQ8R'}],\n",
      "              'user_mentions': []},\n",
      " 'extended_entities': {'media': [{'display_url': 'pic.twitter.com/STBtR6mO2j',\n",
      "                                  'expanded_url': 'https://twitter.com/realDonaldTrump/status/925440868575797252/photo/1',\n",
      "                                  'id': 925440863186059265,\n",
      "                                  'id_str': '925440863186059265',\n",
      "                                  'indices': [84, 107],\n",
      "                                  'media_url': 'http://pbs.twimg.com/media/DNfTj9bWAAEp-3j.jpg',\n",
      "                                  'media_url_https': 'https://pbs.twimg.com/media/DNfTj9bWAAEp-3j.jpg',\n",
      "                                  'sizes': {'large': {'h': 531,\n",
      "                                                      'resize': 'fit',\n",
      "                                                      'w': 750},\n",
      "                                            'medium': {'h': 531,\n",
      "                                                       'resize': 'fit',\n",
      "                                                       'w': 750},\n",
      "                                            'small': {'h': 481,\n",
      "                                                      'resize': 'fit',\n",
      "                                                      'w': 680},\n",
      "                                            'thumb': {'h': 150,\n",
      "                                                      'resize': 'crop',\n",
      "                                                      'w': 150}},\n",
      "                                  'type': 'photo',\n",
      "                                  'url': 'https://t.co/STBtR6mO2j'},\n",
      "                                 {'display_url': 'pic.twitter.com/STBtR6mO2j',\n",
      "                                  'expanded_url': 'https://twitter.com/realDonaldTrump/status/925440868575797252/photo/1',\n",
      "                                  'id': 925440863202889728,\n",
      "                                  'id_str': '925440863202889728',\n",
      "                                  'indices': [84, 107],\n",
      "                                  'media_url': 'http://pbs.twimg.com/media/DNfTj9fW0AA79Nq.jpg',\n",
      "                                  'media_url_https': 'https://pbs.twimg.com/media/DNfTj9fW0AA79Nq.jpg',\n",
      "                                  'sizes': {'large': {'h': 954,\n",
      "                                                      'resize': 'fit',\n",
      "                                                      'w': 1141},\n",
      "                                            'medium': {'h': 954,\n",
      "                                                       'resize': 'fit',\n",
      "                                                       'w': 1141},\n",
      "                                            'small': {'h': 569,\n",
      "                                                      'resize': 'fit',\n",
      "                                                      'w': 680},\n",
      "                                            'thumb': {'h': 150,\n",
      "                                                      'resize': 'crop',\n",
      "                                                      'w': 150}},\n",
      "                                  'type': 'photo',\n",
      "                                  'url': 'https://t.co/STBtR6mO2j'},\n",
      "                                 {'display_url': 'pic.twitter.com/STBtR6mO2j',\n",
      "                                  'expanded_url': 'https://twitter.com/realDonaldTrump/status/925440868575797252/photo/1',\n",
      "                                  'id': 925440863190306816,\n",
      "                                  'id_str': '925440863190306816',\n",
      "                                  'indices': [84, 107],\n",
      "                                  'media_url': 'http://pbs.twimg.com/media/DNfTj9cW0AAujAx.jpg',\n",
      "                                  'media_url_https': 'https://pbs.twimg.com/media/DNfTj9cW0AAujAx.jpg',\n",
      "                                  'sizes': {'large': {'h': 298,\n",
      "                                                      'resize': 'fit',\n",
      "                                                      'w': 530},\n",
      "                                            'medium': {'h': 298,\n",
      "                                                       'resize': 'fit',\n",
      "                                                       'w': 530},\n",
      "                                            'small': {'h': 298,\n",
      "                                                      'resize': 'fit',\n",
      "                                                      'w': 530},\n",
      "                                            'thumb': {'h': 150,\n",
      "                                                      'resize': 'crop',\n",
      "                                                      'w': 150}},\n",
      "                                  'type': 'photo',\n",
      "                                  'url': 'https://t.co/STBtR6mO2j'}]},\n",
      " 'favorite_count': 27846,\n",
      " 'favorited': False,\n",
      " 'full_text': '“Home Prices Reach New All-Time Highs in August” Read more: '\n",
      "              'https://t.co/XzJiZgGQ8R https://t.co/STBtR6mO2j',\n",
      " 'geo': None,\n",
      " 'id': 925440868575797252,\n",
      " 'id_str': '925440868575797252',\n",
      " 'in_reply_to_screen_name': None,\n",
      " 'in_reply_to_status_id': None,\n",
      " 'in_reply_to_status_id_str': None,\n",
      " 'in_reply_to_user_id': None,\n",
      " 'in_reply_to_user_id_str': None,\n",
      " 'is_quote_status': False,\n",
      " 'lang': 'en',\n",
      " 'place': None,\n",
      " 'possibly_sensitive': False,\n",
      " 'retweet_count': 5975,\n",
      " 'retweeted': False,\n",
      " 'source': '<a href=\"http://twitter.com/download/iphone\" '\n",
      "           'rel=\"nofollow\">Twitter for iPhone</a>',\n",
      " 'truncated': False,\n",
      " 'user': {'contributors_enabled': False,\n",
      "          'created_at': 'Wed Mar 18 13:46:38 +0000 2009',\n",
      "          'default_profile': False,\n",
      "          'default_profile_image': False,\n",
      "          'description': '45th President of the United States of America🇺🇸',\n",
      "          'entities': {'description': {'urls': []},\n",
      "                       'url': {'urls': [{'display_url': 'Instagram.com/realDonaldTrump',\n",
      "                                         'expanded_url': 'http://www.Instagram.com/realDonaldTrump',\n",
      "                                         'indices': [0, 23],\n",
      "                                         'url': 'https://t.co/OMxB0xp8tD'}]}},\n",
      "          'favourites_count': 7,\n",
      "          'follow_request_sent': False,\n",
      "          'followers_count': 55293191,\n",
      "          'following': False,\n",
      "          'friends_count': 46,\n",
      "          'geo_enabled': True,\n",
      "          'has_extended_profile': False,\n",
      "          'id': 25073877,\n",
      "          'id_str': '25073877',\n",
      "          'is_translation_enabled': True,\n",
      "          'is_translator': False,\n",
      "          'lang': 'en',\n",
      "          'listed_count': 95028,\n",
      "          'location': 'Washington, DC',\n",
      "          'name': 'Donald J. Trump',\n",
      "          'notifications': False,\n",
      "          'profile_background_color': '6D5C18',\n",
      "          'profile_background_image_url': 'http://abs.twimg.com/images/themes/theme1/bg.png',\n",
      "          'profile_background_image_url_https': 'https://abs.twimg.com/images/themes/theme1/bg.png',\n",
      "          'profile_background_tile': True,\n",
      "          'profile_banner_url': 'https://pbs.twimg.com/profile_banners/25073877/1540264974',\n",
      "          'profile_image_url': 'http://pbs.twimg.com/profile_images/874276197357596672/kUuht00m_normal.jpg',\n",
      "          'profile_image_url_https': 'https://pbs.twimg.com/profile_images/874276197357596672/kUuht00m_normal.jpg',\n",
      "          'profile_link_color': '1B95E0',\n",
      "          'profile_sidebar_border_color': 'BDDCAD',\n",
      "          'profile_sidebar_fill_color': 'C5CEC0',\n",
      "          'profile_text_color': '333333',\n",
      "          'profile_use_background_image': True,\n",
      "          'protected': False,\n",
      "          'screen_name': 'realDonaldTrump',\n",
      "          'statuses_count': 39424,\n",
      "          'time_zone': None,\n",
      "          'translator_type': 'regular',\n",
      "          'url': 'https://t.co/OMxB0xp8tD',\n",
      "          'utc_offset': None,\n",
      "          'verified': True}}\n"
     ]
    }
   ],
   "source": [
    "from pprint import pprint\n",
    "pprint(trump_tweets[3223])"
   ]
  },
  {
   "cell_type": "code",
   "execution_count": null,
   "metadata": {
    "deletable": false,
    "editable": false,
    "nbgrader": {
     "cell_type": "code",
     "checksum": "a1bc7ba95e8b2c50def1081519525604",
     "grade": true,
     "grade_id": "oldest-month-answer",
     "locked": true,
     "points": 1,
     "schema_version": 2,
     "solution": false
    }
   },
   "outputs": [],
   "source": []
  },
  {
   "cell_type": "markdown",
   "metadata": {
    "deletable": false,
    "editable": false,
    "nbgrader": {
     "cell_type": "markdown",
     "checksum": "06c75046cf9899a309ab35c11c403965",
     "grade": false,
     "grade_id": "q3",
     "locked": true,
     "schema_version": 2,
     "solution": false
    }
   },
   "source": [
    "\n",
    "## Question 3\n",
    "\n",
    "\n",
    "**IMPORTANT! PLEASE READ**\n",
    "\n",
    "Unfortunately, Twitter prevent us from going further back in time using the public APIs.  Fortunately, we have a snapshot of earlier tweets that we can combine with our new data.  \n",
    "\n",
    "We will again use the `fetch_and_cache` utility to download the dataset. "
   ]
  },
  {
   "cell_type": "code",
   "execution_count": 17,
   "metadata": {
    "deletable": false,
    "editable": false,
    "nbgrader": {
     "cell_type": "code",
     "checksum": "4ac0f2bbd264f78c5709e04bfaee390d",
     "grade": false,
     "grade_id": "download-data",
     "locked": true,
     "schema_version": 2,
     "solution": false
    }
   },
   "outputs": [
    {
     "name": "stdout",
     "output_type": "stream",
     "text": [
      "Using version already downloaded: Thu Oct 25 20:29:59 2018\n",
      "MD5 hash of file: b6e33874de91d1a40207cdf9f9b51a09\n",
      "Located at data/old_trump_tweets.json.zip\n"
     ]
    }
   ],
   "source": [
    "# Download the dataset\n",
    "from utils import fetch_and_cache\n",
    "data_url = 'http://www.ds100.org/fa18/assets/datasets/old_trump_tweets.json.zip'\n",
    "file_name = 'old_trump_tweets.json.zip'\n",
    "\n",
    "dest_path = fetch_and_cache(data_url=data_url, file=file_name)\n",
    "print(f'Located at {dest_path}')"
   ]
  },
  {
   "cell_type": "markdown",
   "metadata": {
    "deletable": false,
    "editable": false,
    "nbgrader": {
     "cell_type": "markdown",
     "checksum": "da803030a1c84a39afbb134dfb8b19fd",
     "grade": false,
     "grade_id": "loading-data-inst",
     "locked": true,
     "schema_version": 2,
     "solution": false
    }
   },
   "source": [
    "Finally, we we will load the tweets directly from the compressed file without decompressing it first."
   ]
  },
  {
   "cell_type": "code",
   "execution_count": 18,
   "metadata": {
    "deletable": false,
    "editable": false,
    "nbgrader": {
     "cell_type": "code",
     "checksum": "2f84519e987875b6b57d9cc5bae460cf",
     "grade": false,
     "grade_id": "loading-old-tweets",
     "locked": true,
     "schema_version": 2,
     "solution": false
    }
   },
   "outputs": [],
   "source": [
    "my_zip = zipfile.ZipFile(dest_path, 'r')\n",
    "with my_zip.open(\"old_trump_tweets.json\", \"r\") as f:\n",
    "    old_trump_tweets = json.load(f)"
   ]
  },
  {
   "cell_type": "markdown",
   "metadata": {
    "deletable": false,
    "editable": false,
    "nbgrader": {
     "cell_type": "markdown",
     "checksum": "8661fc27e5f1cdfce041efd3896ae838",
     "grade": false,
     "grade_id": "formatting-note",
     "locked": true,
     "schema_version": 2,
     "solution": false
    }
   },
   "source": [
    "This data is formatted identically to the recent tweets we just downloaded:"
   ]
  },
  {
   "cell_type": "code",
   "execution_count": 19,
   "metadata": {
    "deletable": false,
    "editable": false,
    "nbgrader": {
     "cell_type": "code",
     "checksum": "30d8ef8fa2c1b900a48779e6cf0320b6",
     "grade": false,
     "grade_id": "pprint-old-tweets",
     "locked": true,
     "schema_version": 2,
     "solution": false
    }
   },
   "outputs": [
    {
     "name": "stdout",
     "output_type": "stream",
     "text": [
      "{'contributors': None,\n",
      " 'coordinates': None,\n",
      " 'created_at': 'Wed Oct 12 14:00:48 +0000 2016',\n",
      " 'entities': {'hashtags': [{'indices': [23, 38], 'text': 'CrookedHillary'}],\n",
      "              'media': [{'display_url': 'pic.twitter.com/wjsl8ITVvk',\n",
      "                         'expanded_url': 'https://twitter.com/realDonaldTrump/status/786204978629185536/video/1',\n",
      "                         'id': 786204885318561792,\n",
      "                         'id_str': '786204885318561792',\n",
      "                         'indices': [39, 62],\n",
      "                         'media_url': 'http://pbs.twimg.com/ext_tw_video_thumb/786204885318561792/pu/img/XqMoixLm83FzkAbn.jpg',\n",
      "                         'media_url_https': 'https://pbs.twimg.com/ext_tw_video_thumb/786204885318561792/pu/img/XqMoixLm83FzkAbn.jpg',\n",
      "                         'sizes': {'large': {'h': 576,\n",
      "                                             'resize': 'fit',\n",
      "                                             'w': 1024},\n",
      "                                   'medium': {'h': 338,\n",
      "                                              'resize': 'fit',\n",
      "                                              'w': 600},\n",
      "                                   'small': {'h': 191,\n",
      "                                             'resize': 'fit',\n",
      "                                             'w': 340},\n",
      "                                   'thumb': {'h': 150,\n",
      "                                             'resize': 'crop',\n",
      "                                             'w': 150}},\n",
      "                         'type': 'photo',\n",
      "                         'url': 'https://t.co/wjsl8ITVvk'}],\n",
      "              'symbols': [],\n",
      "              'urls': [],\n",
      "              'user_mentions': []},\n",
      " 'extended_entities': {'media': [{'additional_media_info': {'monetizable': False},\n",
      "                                  'display_url': 'pic.twitter.com/wjsl8ITVvk',\n",
      "                                  'expanded_url': 'https://twitter.com/realDonaldTrump/status/786204978629185536/video/1',\n",
      "                                  'id': 786204885318561792,\n",
      "                                  'id_str': '786204885318561792',\n",
      "                                  'indices': [39, 62],\n",
      "                                  'media_url': 'http://pbs.twimg.com/ext_tw_video_thumb/786204885318561792/pu/img/XqMoixLm83FzkAbn.jpg',\n",
      "                                  'media_url_https': 'https://pbs.twimg.com/ext_tw_video_thumb/786204885318561792/pu/img/XqMoixLm83FzkAbn.jpg',\n",
      "                                  'sizes': {'large': {'h': 576,\n",
      "                                                      'resize': 'fit',\n",
      "                                                      'w': 1024},\n",
      "                                            'medium': {'h': 338,\n",
      "                                                       'resize': 'fit',\n",
      "                                                       'w': 600},\n",
      "                                            'small': {'h': 191,\n",
      "                                                      'resize': 'fit',\n",
      "                                                      'w': 340},\n",
      "                                            'thumb': {'h': 150,\n",
      "                                                      'resize': 'crop',\n",
      "                                                      'w': 150}},\n",
      "                                  'type': 'video',\n",
      "                                  'url': 'https://t.co/wjsl8ITVvk',\n",
      "                                  'video_info': {'aspect_ratio': [16, 9],\n",
      "                                                 'duration_millis': 30106,\n",
      "                                                 'variants': [{'bitrate': 832000,\n",
      "                                                               'content_type': 'video/mp4',\n",
      "                                                               'url': 'https://video.twimg.com/ext_tw_video/786204885318561792/pu/vid/640x360/6vt24D3ZQSvYuDqe.mp4'},\n",
      "                                                              {'bitrate': 2176000,\n",
      "                                                               'content_type': 'video/mp4',\n",
      "                                                               'url': 'https://video.twimg.com/ext_tw_video/786204885318561792/pu/vid/1280x720/rSbgQdvR9TPIlRWr.mp4'},\n",
      "                                                              {'bitrate': 320000,\n",
      "                                                               'content_type': 'video/mp4',\n",
      "                                                               'url': 'https://video.twimg.com/ext_tw_video/786204885318561792/pu/vid/320x180/JuNJDqr1KHqoP83N.mp4'},\n",
      "                                                              {'content_type': 'application/x-mpegURL',\n",
      "                                                               'url': 'https://video.twimg.com/ext_tw_video/786204885318561792/pu/pl/IugUNii3a7lmjApS.m3u8'}]}}]},\n",
      " 'favorite_count': 42242,\n",
      " 'favorited': False,\n",
      " 'geo': None,\n",
      " 'id': 786204978629185536,\n",
      " 'id_str': '786204978629185536',\n",
      " 'in_reply_to_screen_name': None,\n",
      " 'in_reply_to_status_id': None,\n",
      " 'in_reply_to_status_id_str': None,\n",
      " 'in_reply_to_user_id': None,\n",
      " 'in_reply_to_user_id_str': None,\n",
      " 'is_quote_status': False,\n",
      " 'lang': 'en',\n",
      " 'place': {'attributes': {},\n",
      "           'bounding_box': {'coordinates': [[[-87.634643, 24.396308],\n",
      "                                             [-79.974307, 24.396308],\n",
      "                                             [-79.974307, 31.001056],\n",
      "                                             [-87.634643, 31.001056]]],\n",
      "                            'type': 'Polygon'},\n",
      "           'contained_within': [],\n",
      "           'country': 'United States',\n",
      "           'country_code': 'US',\n",
      "           'full_name': 'Florida, USA',\n",
      "           'id': '4ec01c9dbc693497',\n",
      "           'name': 'Florida',\n",
      "           'place_type': 'admin',\n",
      "           'url': 'https://api.twitter.com/1.1/geo/id/4ec01c9dbc693497.json'},\n",
      " 'possibly_sensitive': False,\n",
      " 'retweet_count': 24915,\n",
      " 'retweeted': False,\n",
      " 'source': '<a href=\"http://twitter.com/download/iphone\" '\n",
      "           'rel=\"nofollow\">Twitter for iPhone</a>',\n",
      " 'text': 'PAY TO PLAY POLITICS. \\n#CrookedHillary https://t.co/wjsl8ITVvk',\n",
      " 'truncated': False,\n",
      " 'user': {'contributors_enabled': False,\n",
      "          'created_at': 'Wed Mar 18 13:46:38 +0000 2009',\n",
      "          'default_profile': False,\n",
      "          'default_profile_image': False,\n",
      "          'description': '45th President of the United States of America🇺🇸',\n",
      "          'entities': {'description': {'urls': []}},\n",
      "          'favourites_count': 12,\n",
      "          'follow_request_sent': False,\n",
      "          'followers_count': 35307313,\n",
      "          'following': False,\n",
      "          'friends_count': 45,\n",
      "          'geo_enabled': True,\n",
      "          'has_extended_profile': False,\n",
      "          'id': 25073877,\n",
      "          'id_str': '25073877',\n",
      "          'is_translation_enabled': True,\n",
      "          'is_translator': False,\n",
      "          'lang': 'en',\n",
      "          'listed_count': 74225,\n",
      "          'location': 'Washington, DC',\n",
      "          'name': 'Donald J. Trump',\n",
      "          'notifications': False,\n",
      "          'profile_background_color': '6D5C18',\n",
      "          'profile_background_image_url': 'http://pbs.twimg.com/profile_background_images/530021613/trump_scotland__43_of_70_cc.jpg',\n",
      "          'profile_background_image_url_https': 'https://pbs.twimg.com/profile_background_images/530021613/trump_scotland__43_of_70_cc.jpg',\n",
      "          'profile_background_tile': True,\n",
      "          'profile_banner_url': 'https://pbs.twimg.com/profile_banners/25073877/1501916634',\n",
      "          'profile_image_url': 'http://pbs.twimg.com/profile_images/874276197357596672/kUuht00m_normal.jpg',\n",
      "          'profile_image_url_https': 'https://pbs.twimg.com/profile_images/874276197357596672/kUuht00m_normal.jpg',\n",
      "          'profile_link_color': '1B95E0',\n",
      "          'profile_sidebar_border_color': 'BDDCAD',\n",
      "          'profile_sidebar_fill_color': 'C5CEC0',\n",
      "          'profile_text_color': '333333',\n",
      "          'profile_use_background_image': True,\n",
      "          'protected': False,\n",
      "          'screen_name': 'realDonaldTrump',\n",
      "          'statuses_count': 35480,\n",
      "          'time_zone': 'Eastern Time (US & Canada)',\n",
      "          'translator_type': 'regular',\n",
      "          'url': None,\n",
      "          'utc_offset': -14400,\n",
      "          'verified': True}}\n"
     ]
    }
   ],
   "source": [
    "pprint(old_trump_tweets[0])"
   ]
  },
  {
   "cell_type": "markdown",
   "metadata": {
    "deletable": false,
    "editable": false,
    "nbgrader": {
     "cell_type": "markdown",
     "checksum": "15f652a6c9d0626c82b34be4253b2333",
     "grade": false,
     "grade_id": "listing-keys-inst",
     "locked": true,
     "schema_version": 2,
     "solution": false
    }
   },
   "source": [
    "As a dictionary we can also list the keys:"
   ]
  },
  {
   "cell_type": "code",
   "execution_count": 20,
   "metadata": {
    "deletable": false,
    "editable": false,
    "nbgrader": {
     "cell_type": "code",
     "checksum": "c88eaf1ba38e6c52151ad6a2922216c0",
     "grade": false,
     "grade_id": "listing-keys",
     "locked": true,
     "schema_version": 2,
     "solution": false
    }
   },
   "outputs": [
    {
     "data": {
      "text/plain": [
       "dict_keys(['created_at', 'id', 'id_str', 'text', 'truncated', 'entities', 'extended_entities', 'source', 'in_reply_to_status_id', 'in_reply_to_status_id_str', 'in_reply_to_user_id', 'in_reply_to_user_id_str', 'in_reply_to_screen_name', 'user', 'geo', 'coordinates', 'place', 'contributors', 'is_quote_status', 'retweet_count', 'favorite_count', 'favorited', 'retweeted', 'possibly_sensitive', 'lang'])"
      ]
     },
     "execution_count": 20,
     "metadata": {},
     "output_type": "execute_result"
    }
   ],
   "source": [
    "old_trump_tweets[0].keys()"
   ]
  },
  {
   "cell_type": "markdown",
   "metadata": {},
   "source": [
    "Since we're giving you a zipfile of old tweets, you may wonder why we didn't just give you a zipfile of ALL tweets and save you the trouble of creating a Twitter developer account. The reason is that we wanted you to see what it's like to collect data from the real world on your own. It can be a pain!"
   ]
  },
  {
   "cell_type": "markdown",
   "metadata": {
    "deletable": false,
    "editable": false,
    "nbgrader": {
     "cell_type": "markdown",
     "checksum": "b40bfbf5e74ba5af630326ab7a77c98c",
     "grade": false,
     "grade_id": "q3a",
     "locked": true,
     "schema_version": 2,
     "solution": false
    }
   },
   "source": [
    "### Question 3a\n",
    "\n",
    "Merge the `old_trump_tweets` and the `trump_tweets` we downloaded from twitter into one giant list of tweets. \n",
    "\n",
    "**Important:** There may be some overlap so be sure to eliminate duplicate tweets.  \n",
    "**Hint:** the `id` of a tweet is always unique."
   ]
  },
  {
   "cell_type": "code",
   "execution_count": 21,
   "metadata": {
    "deletable": false,
    "nbgrader": {
     "cell_type": "code",
     "checksum": "cfff2cf8e110d51cb3dbb7f5086b9be4",
     "grade": false,
     "grade_id": "q3a-answer",
     "locked": false,
     "schema_version": 2,
     "solution": true
    }
   },
   "outputs": [],
   "source": [
    "all_tweets = trump_tweets + [t for t in old_trump_tweets if t not in trump_tweets]\n",
    "\n",
    "\n",
    "# YOUR CODE HERE\n",
    "# raise NotImplementedError()"
   ]
  },
  {
   "cell_type": "code",
   "execution_count": 22,
   "metadata": {},
   "outputs": [
    {
     "name": "stdout",
     "output_type": "stream",
     "text": [
      "{'contributors': None,\n",
      " 'coordinates': None,\n",
      " 'created_at': 'Fri Oct 26 15:41:19 +0000 2018',\n",
      " 'display_text_range': [0, 132],\n",
      " 'entities': {'hashtags': [], 'symbols': [], 'urls': [], 'user_mentions': []},\n",
      " 'favorite_count': 24730,\n",
      " 'favorited': False,\n",
      " 'full_text': 'I will be speaking at the Young Black Leadership Summit in 15 '\n",
      "              'minutes where I will address the investigation into the bomb '\n",
      "              'packages.',\n",
      " 'geo': None,\n",
      " 'id': 1055846847502258178,\n",
      " 'id_str': '1055846847502258178',\n",
      " 'in_reply_to_screen_name': None,\n",
      " 'in_reply_to_status_id': None,\n",
      " 'in_reply_to_status_id_str': None,\n",
      " 'in_reply_to_user_id': None,\n",
      " 'in_reply_to_user_id_str': None,\n",
      " 'is_quote_status': False,\n",
      " 'lang': 'en',\n",
      " 'place': None,\n",
      " 'retweet_count': 6863,\n",
      " 'retweeted': False,\n",
      " 'source': '<a href=\"http://twitter.com/download/iphone\" '\n",
      "           'rel=\"nofollow\">Twitter for iPhone</a>',\n",
      " 'truncated': False,\n",
      " 'user': {'contributors_enabled': False,\n",
      "          'created_at': 'Wed Mar 18 13:46:38 +0000 2009',\n",
      "          'default_profile': False,\n",
      "          'default_profile_image': False,\n",
      "          'description': '45th President of the United States of America🇺🇸',\n",
      "          'entities': {'description': {'urls': []},\n",
      "                       'url': {'urls': [{'display_url': 'Instagram.com/realDonaldTrump',\n",
      "                                         'expanded_url': 'http://www.Instagram.com/realDonaldTrump',\n",
      "                                         'indices': [0, 23],\n",
      "                                         'url': 'https://t.co/OMxB0xp8tD'}]}},\n",
      "          'favourites_count': 7,\n",
      "          'follow_request_sent': False,\n",
      "          'followers_count': 55293180,\n",
      "          'following': False,\n",
      "          'friends_count': 46,\n",
      "          'geo_enabled': True,\n",
      "          'has_extended_profile': False,\n",
      "          'id': 25073877,\n",
      "          'id_str': '25073877',\n",
      "          'is_translation_enabled': True,\n",
      "          'is_translator': False,\n",
      "          'lang': 'en',\n",
      "          'listed_count': 95028,\n",
      "          'location': 'Washington, DC',\n",
      "          'name': 'Donald J. Trump',\n",
      "          'notifications': False,\n",
      "          'profile_background_color': '6D5C18',\n",
      "          'profile_background_image_url': 'http://abs.twimg.com/images/themes/theme1/bg.png',\n",
      "          'profile_background_image_url_https': 'https://abs.twimg.com/images/themes/theme1/bg.png',\n",
      "          'profile_background_tile': True,\n",
      "          'profile_banner_url': 'https://pbs.twimg.com/profile_banners/25073877/1540264974',\n",
      "          'profile_image_url': 'http://pbs.twimg.com/profile_images/874276197357596672/kUuht00m_normal.jpg',\n",
      "          'profile_image_url_https': 'https://pbs.twimg.com/profile_images/874276197357596672/kUuht00m_normal.jpg',\n",
      "          'profile_link_color': '1B95E0',\n",
      "          'profile_sidebar_border_color': 'BDDCAD',\n",
      "          'profile_sidebar_fill_color': 'C5CEC0',\n",
      "          'profile_text_color': '333333',\n",
      "          'profile_use_background_image': True,\n",
      "          'protected': False,\n",
      "          'screen_name': 'realDonaldTrump',\n",
      "          'statuses_count': 39424,\n",
      "          'time_zone': None,\n",
      "          'translator_type': 'regular',\n",
      "          'url': 'https://t.co/OMxB0xp8tD',\n",
      "          'utc_offset': None,\n",
      "          'verified': True}}\n"
     ]
    }
   ],
   "source": [
    "pprint((all_tweets[0]))"
   ]
  },
  {
   "cell_type": "code",
   "execution_count": 23,
   "metadata": {},
   "outputs": [],
   "source": [
    "i = 0\n",
    "id_list = []\n",
    "time_list = []\n",
    "source_list = []\n",
    "text_list = []\n",
    "rt_count_list = []\n",
    "while(i < len(all_tweets)):\n",
    "    id_list.append(all_tweets[i].get(\"id\"))\n",
    "    source_list.append(all_tweets[i].get(\"source\"))\n",
    "    if(all_tweets[i].get(\"full_text\") is None):\n",
    "        text_list.append(all_tweets[i].get(\"text\"))\n",
    "    else:\n",
    "        text_list.append(all_tweets[i].get(\"full_text\"))\n",
    "    \n",
    "    rt_count_list.append(all_tweets[i].get(\"retweet_count\"))\n",
    "    time_list.append(pd.to_datetime(all_tweets[i].get(\"created_at\")))\n",
    "    i = i + 1\n"
   ]
  },
  {
   "cell_type": "code",
   "execution_count": 24,
   "metadata": {
    "deletable": false,
    "editable": false,
    "nbgrader": {
     "cell_type": "code",
     "checksum": "7a21da10aa86da615b340c8edb2973c3",
     "grade": true,
     "grade_id": "q3a-test",
     "locked": true,
     "points": 2,
     "schema_version": 2,
     "solution": false
    }
   },
   "outputs": [],
   "source": [
    "assert len(all_tweets) > len(trump_tweets)\n",
    "assert len(all_tweets) > len(old_trump_tweets)"
   ]
  },
  {
   "cell_type": "markdown",
   "metadata": {
    "deletable": false,
    "editable": false,
    "nbgrader": {
     "cell_type": "markdown",
     "checksum": "532cecf04260fcadca43ce63bf296d5d",
     "grade": false,
     "grade_id": "q3b",
     "locked": true,
     "schema_version": 2,
     "solution": false
    }
   },
   "source": [
    "### Question 3b\n",
    "\n",
    "Construct a DataFrame called `trump` containing all the tweets stored in `all_tweets`. The index of the dataframe should be the ID of each tweet (looks something like `907698529606541312`). It should have these columns:\n",
    "\n",
    "- `time`: The time the tweet was created encoded as a datetime object. (Use `pd.to_datetime` to encode the timestamp.)\n",
    "- `source`: The source device of the tweet.\n",
    "- `text`: The text of the tweet.\n",
    "- `retweet_count`: The retweet count of the tweet. \n",
    "\n",
    "Finally, **the resulting dataframe should be sorted by the index.**\n",
    "\n",
    "**Warning:** *Some tweets will store the text in the `text` field and other will use the `full_text` field.*"
   ]
  },
  {
   "cell_type": "code",
   "execution_count": 25,
   "metadata": {
    "deletable": false,
    "nbgrader": {
     "cell_type": "code",
     "checksum": "dbbe93f4346b0c4ce93681c2c7d06078",
     "grade": false,
     "grade_id": "q3b-answer",
     "locked": false,
     "schema_version": 2,
     "solution": true
    },
    "tags": [
     "student"
    ]
   },
   "outputs": [
    {
     "data": {
      "text/html": [
       "<div>\n",
       "<style scoped>\n",
       "    .dataframe tbody tr th:only-of-type {\n",
       "        vertical-align: middle;\n",
       "    }\n",
       "\n",
       "    .dataframe tbody tr th {\n",
       "        vertical-align: top;\n",
       "    }\n",
       "\n",
       "    .dataframe thead th {\n",
       "        text-align: right;\n",
       "    }\n",
       "</style>\n",
       "<table border=\"1\" class=\"dataframe\">\n",
       "  <thead>\n",
       "    <tr style=\"text-align: right;\">\n",
       "      <th></th>\n",
       "      <th>retweet_count</th>\n",
       "      <th>source</th>\n",
       "      <th>text</th>\n",
       "      <th>time</th>\n",
       "    </tr>\n",
       "  </thead>\n",
       "  <tbody>\n",
       "    <tr>\n",
       "      <th>1055846847502258178</th>\n",
       "      <td>6863</td>\n",
       "      <td>&lt;a href=\"http://twitter.com/download/iphone\" rel=\"nofollow\"&gt;Twitter for iPhone&lt;/a&gt;</td>\n",
       "      <td>I will be speaking at the Young Black Leadership Summit in 15 minutes where I will address the investigation into the bomb packages.</td>\n",
       "      <td>2018-10-26 15:41:19</td>\n",
       "    </tr>\n",
       "    <tr>\n",
       "      <th>1055826295337172993</th>\n",
       "      <td>15343</td>\n",
       "      <td>&lt;a href=\"http://twitter.com/download/iphone\" rel=\"nofollow\"&gt;Twitter for iPhone&lt;/a&gt;</td>\n",
       "      <td>Republicans are doing so well in early voting, and at the polls, and now this “Bomb” stuff happens and the momentum greatly slows - news not talking politics. Very unfortunate, what is going on. Republicans, go out and vote!</td>\n",
       "      <td>2018-10-26 14:19:39</td>\n",
       "    </tr>\n",
       "    <tr>\n",
       "      <th>1055822810940129283</th>\n",
       "      <td>17734</td>\n",
       "      <td>&lt;a href=\"http://twitter.com/download/iphone\" rel=\"nofollow\"&gt;Twitter for iPhone&lt;/a&gt;</td>\n",
       "      <td>Twitter has removed many people from my account and, more importantly, they have seemingly done something that makes it much harder to join - they have stifled growth to a point where it is obvious to all. A few weeks ago it was a Rocket Ship, now it is a Blimp! Total Bias?</td>\n",
       "      <td>2018-10-26 14:05:49</td>\n",
       "    </tr>\n",
       "    <tr>\n",
       "      <th>1055820292881350656</th>\n",
       "      <td>12776</td>\n",
       "      <td>&lt;a href=\"http://twitter.com/download/iphone\" rel=\"nofollow\"&gt;Twitter for iPhone&lt;/a&gt;</td>\n",
       "      <td>The United States has been spending Billions of Dollars a year on Illegal Immigration. This will not continue. Democrats must give us the votes to pass strong (but fair) laws. If not, we will be forced to play a much tougher hand.</td>\n",
       "      <td>2018-10-26 13:55:48</td>\n",
       "    </tr>\n",
       "    <tr>\n",
       "      <th>1055719340832686080</th>\n",
       "      <td>29047</td>\n",
       "      <td>&lt;a href=\"http://twitter.com/download/iphone\" rel=\"nofollow\"&gt;Twitter for iPhone&lt;/a&gt;</td>\n",
       "      <td>Funny how lowly rated CNN, and others, can criticize me at will, even blaming me for the current spate of Bombs and ridiculously comparing this to September 11th and the Oklahoma City bombing, yet when I criticize them they go wild and scream, “it’s just not Presidential!”</td>\n",
       "      <td>2018-10-26 07:14:39</td>\n",
       "    </tr>\n",
       "    <tr>\n",
       "      <th>1055600267331285002</th>\n",
       "      <td>11606</td>\n",
       "      <td>&lt;a href=\"http://twitter.com/download/iphone\" rel=\"nofollow\"&gt;Twitter for iPhone&lt;/a&gt;</td>\n",
       "      <td>The Service Members who died that day included brave young Marines just out of high school, accomplished officers in the middle of their military careers, and enlisted men who had served in theaters all over the world... https://t.co/82Wkru7JAb</td>\n",
       "      <td>2018-10-25 23:21:30</td>\n",
       "    </tr>\n",
       "    <tr>\n",
       "      <th>1055599805395812352</th>\n",
       "      <td>10138</td>\n",
       "      <td>&lt;a href=\"http://twitter.com/download/iphone\" rel=\"nofollow\"&gt;Twitter for iPhone&lt;/a&gt;</td>\n",
       "      <td>In 1983, roughly 1,800 Marines were in Beirut to keep the peace in a Nation torn apart by Civil War. Terrorists had bombed the U.S. Embassy earlier that year, killing 63 people, including 17 Americans... https://t.co/Mp73AYv7J0</td>\n",
       "      <td>2018-10-25 23:19:40</td>\n",
       "    </tr>\n",
       "    <tr>\n",
       "      <th>1055598350228246528</th>\n",
       "      <td>14564</td>\n",
       "      <td>&lt;a href=\"http://twitter.com/download/iphone\" rel=\"nofollow\"&gt;Twitter for iPhone&lt;/a&gt;</td>\n",
       "      <td>We are gathered together on this solemn occasion to fulfill our most reverent and sacred duty. 35 years ago, 241 American service members were murdered in the terrorist attack on our Marine Barracks in Beirut, Lebanon. Today, we honor our fallen heroes... https://t.co/zPgjSFj9BM</td>\n",
       "      <td>2018-10-25 23:13:53</td>\n",
       "    </tr>\n",
       "    <tr>\n",
       "      <th>1055559438977900544</th>\n",
       "      <td>12404</td>\n",
       "      <td>&lt;a href=\"http://twitter.com/download/iphone\" rel=\"nofollow\"&gt;Twitter for iPhone&lt;/a&gt;</td>\n",
       "      <td>.@BrucePoliquin from Maine is a great Congressman. He is in a tough fight against a very liberal Nancy Pelosi Democrat. Bruce has helped bring JOBS back to his State and totally protects your Great Second Amendment. We need to keep Bruce in Washington. He has my Full Endorsem...</td>\n",
       "      <td>2018-10-25 20:39:16</td>\n",
       "    </tr>\n",
       "    <tr>\n",
       "      <th>1055555764901822466</th>\n",
       "      <td>9394</td>\n",
       "      <td>&lt;a href=\"http://twitter.com/download/iphone\" rel=\"nofollow\"&gt;Twitter for iPhone&lt;/a&gt;</td>\n",
       "      <td>.@MikeDunleavyGov will make a fantastic Governor of Alaska. Mike is for Energy and Jobs, is tough on Crime, loves our Vets and our Great Second Amendment. Mike has my Complete and Total Endorsement!</td>\n",
       "      <td>2018-10-25 20:24:40</td>\n",
       "    </tr>\n",
       "    <tr>\n",
       "      <th>1055555312864952321</th>\n",
       "      <td>9150</td>\n",
       "      <td>&lt;a href=\"http://twitter.com/download/iphone\" rel=\"nofollow\"&gt;Twitter for iPhone&lt;/a&gt;</td>\n",
       "      <td>.@LloydSmuckerPA is doing a great job for the people of Pennsylvania. He is strong on the Border, Crime, the Military, our Vets and the 2nd Amendment. Lloyd has my Total Endorsement!</td>\n",
       "      <td>2018-10-25 20:22:52</td>\n",
       "    </tr>\n",
       "    <tr>\n",
       "      <th>1055548549595873280</th>\n",
       "      <td>9501</td>\n",
       "      <td>&lt;a href=\"http://twitter.com/download/iphone\" rel=\"nofollow\"&gt;Twitter for iPhone&lt;/a&gt;</td>\n",
       "      <td>.@Troy_Balderson of Ohio is doing a great job as your Congressman, already very respected in Washington. Get out and VOTE for Troy - we need him – great guy – has my Total Endorsement!</td>\n",
       "      <td>2018-10-25 19:56:00</td>\n",
       "    </tr>\n",
       "    <tr>\n",
       "      <th>1055548456469778432</th>\n",
       "      <td>8664</td>\n",
       "      <td>&lt;a href=\"http://twitter.com/download/iphone\" rel=\"nofollow\"&gt;Twitter for iPhone&lt;/a&gt;</td>\n",
       "      <td>.@JohnChrin of Pennsylvania is fantastic. He is strong on the Border, Crime, the Military, our Vets and the 2nd Amendment. He is a powerful vote for #MAGA and loves the Great State of Pennsylvania. Please get out and vote for John, he has my Total and very Strong Endorsement!</td>\n",
       "      <td>2018-10-25 19:55:37</td>\n",
       "    </tr>\n",
       "    <tr>\n",
       "      <th>1055531231495024642</th>\n",
       "      <td>11289</td>\n",
       "      <td>&lt;a href=\"http://twitter.com/download/iphone\" rel=\"nofollow\"&gt;Twitter for iPhone&lt;/a&gt;</td>\n",
       "      <td>...I agree with their stance 100%, and the United States is likewise taking a very hard line on illegal immigration. The Prime Minister is working very hard on the economy of Italy - he will be successful!</td>\n",
       "      <td>2018-10-25 18:47:11</td>\n",
       "    </tr>\n",
       "    <tr>\n",
       "      <th>1055531230022766592</th>\n",
       "      <td>13322</td>\n",
       "      <td>&lt;a href=\"http://twitter.com/download/iphone\" rel=\"nofollow\"&gt;Twitter for iPhone&lt;/a&gt;</td>\n",
       "      <td>Just spoke with Prime Minister @GiuseppeConteIT of Italy concerning many subjects, including the fact that Italy is now taking a very hard line on illegal immigration...</td>\n",
       "      <td>2018-10-25 18:47:10</td>\n",
       "    </tr>\n",
       "    <tr>\n",
       "      <th>1055529948046331904</th>\n",
       "      <td>8127</td>\n",
       "      <td>&lt;a href=\"http://twitter.com/download/iphone\" rel=\"nofollow\"&gt;Twitter for iPhone&lt;/a&gt;</td>\n",
       "      <td>Spoke with French President @EmmanuelMacron this morning. Discussed many topics including the very exciting upcoming visit to Paris where @FLOTUS Melania and I will attend the Armistice Day Centennial Commemoration!</td>\n",
       "      <td>2018-10-25 18:42:05</td>\n",
       "    </tr>\n",
       "    <tr>\n",
       "      <th>1055527191235227648</th>\n",
       "      <td>40581</td>\n",
       "      <td>&lt;a href=\"http://twitter.com/download/iphone\" rel=\"nofollow\"&gt;Twitter for iPhone&lt;/a&gt;</td>\n",
       "      <td>To those in the Caravan, turnaround, we are not letting people into the United States illegally. Go back to your Country and if you want, apply for citizenship like millions of others are doing!</td>\n",
       "      <td>2018-10-25 18:31:07</td>\n",
       "    </tr>\n",
       "    <tr>\n",
       "      <th>1055494636775657478</th>\n",
       "      <td>9294</td>\n",
       "      <td>&lt;a href=\"http://twitter.com/download/iphone\" rel=\"nofollow\"&gt;Twitter for iPhone&lt;/a&gt;</td>\n",
       "      <td>“Remarks by President Trump on a Year of Historic Progress and Action to Combat the Opioid Crisis” https://t.co/YBTzMSOozW https://t.co/njGYwHff4t</td>\n",
       "      <td>2018-10-25 16:21:46</td>\n",
       "    </tr>\n",
       "    <tr>\n",
       "      <th>1055458320390217728</th>\n",
       "      <td>27892</td>\n",
       "      <td>&lt;a href=\"http://twitter.com/download/iphone\" rel=\"nofollow\"&gt;Twitter for iPhone&lt;/a&gt;</td>\n",
       "      <td>The New York Times has a new Fake Story that now the Russians and Chinese (glad they finally added China) are listening to all of my calls on cellphones. Except that I rarely use a cellphone, &amp;amp; when I do it’s government authorized. I like Hard Lines. Just more made up Fak...</td>\n",
       "      <td>2018-10-25 13:57:27</td>\n",
       "    </tr>\n",
       "    <tr>\n",
       "      <th>1055418269270716418</th>\n",
       "      <td>48280</td>\n",
       "      <td>&lt;a href=\"http://twitter.com/download/iphone\" rel=\"nofollow\"&gt;Twitter for iPhone&lt;/a&gt;</td>\n",
       "      <td>A very big part of the Anger we see today in our society is caused by the purposely false and inaccurate reporting of the Mainstream Media that I refer to as Fake News. It has gotten so bad and hateful that it is beyond description. Mainstream Media must clean up its act, FAST!</td>\n",
       "      <td>2018-10-25 11:18:18</td>\n",
       "    </tr>\n",
       "    <tr>\n",
       "      <th>1055414972635926528</th>\n",
       "      <td>21491</td>\n",
       "      <td>&lt;a href=\"http://twitter.com/download/iphone\" rel=\"nofollow\"&gt;Twitter for iPhone&lt;/a&gt;</td>\n",
       "      <td>Brandon Judd of the National Border Patrol Council is right when he says on @foxandfriends that the Democrat inspired laws make it tough for us to stop people at the Border. MUST BE CHANDED, but I am bringing out the military for this National Emergency. They will be stopped!</td>\n",
       "      <td>2018-10-25 11:05:12</td>\n",
       "    </tr>\n",
       "    <tr>\n",
       "      <th>1055412328571850753</th>\n",
       "      <td>19746</td>\n",
       "      <td>&lt;a href=\"http://twitter.com/download/iphone\" rel=\"nofollow\"&gt;Twitter for iPhone&lt;/a&gt;</td>\n",
       "      <td>The so-called experts on Trump over at the New York Times wrote a long and boring article on my cellphone usage that is so incorrect I do not have time here to correct it. I only use Government Phones, and have only one seldom used government cell phone. Story is soooo wrong!</td>\n",
       "      <td>2018-10-25 10:54:42</td>\n",
       "    </tr>\n",
       "    <tr>\n",
       "      <th>1055273659563171840</th>\n",
       "      <td>12698</td>\n",
       "      <td>&lt;a href=\"http://twitter.com/download/iphone\" rel=\"nofollow\"&gt;Twitter for iPhone&lt;/a&gt;</td>\n",
       "      <td>Just leaving Wisconsin. @ScottWalker and @LeahVukmir are fantastic people, badly needed for our Country! #MAGA https://t.co/6dLOBO6UQy</td>\n",
       "      <td>2018-10-25 01:43:41</td>\n",
       "    </tr>\n",
       "    <tr>\n",
       "      <th>1055246191443763201</th>\n",
       "      <td>15317</td>\n",
       "      <td>&lt;a href=\"http://twitter.com/download/iphone\" rel=\"nofollow\"&gt;Twitter for iPhone&lt;/a&gt;</td>\n",
       "      <td>Just arrived in Wisconsin to help two great people, @ScottWalker and @LeahVukmir! https://t.co/Pu1Yyl5K0G</td>\n",
       "      <td>2018-10-24 23:54:32</td>\n",
       "    </tr>\n",
       "    <tr>\n",
       "      <th>1055170989682757632</th>\n",
       "      <td>21747</td>\n",
       "      <td>&lt;a href=\"http://twitter.com/download/iphone\" rel=\"nofollow\"&gt;Twitter for iPhone&lt;/a&gt;</td>\n",
       "      <td>The safety of the American People is my highest priority. I have just concluded a briefing with the FBI, Department of Justice, Department of Homeland Security, and the U.S. Secret Service... https://t.co/nEUBcq4NOh</td>\n",
       "      <td>2018-10-24 18:55:42</td>\n",
       "    </tr>\n",
       "    <tr>\n",
       "      <th>1055127893112696832</th>\n",
       "      <td>22404</td>\n",
       "      <td>&lt;a href=\"http://twitter.com/download/iphone\" rel=\"nofollow\"&gt;Twitter for iPhone&lt;/a&gt;</td>\n",
       "      <td>I agree wholeheartedly! https://t.co/ndzu0A30vU</td>\n",
       "      <td>2018-10-24 16:04:27</td>\n",
       "    </tr>\n",
       "    <tr>\n",
       "      <th>1055077740792160256</th>\n",
       "      <td>25178</td>\n",
       "      <td>&lt;a href=\"http://twitter.com/download/iphone\" rel=\"nofollow\"&gt;Twitter for iPhone&lt;/a&gt;</td>\n",
       "      <td>Republicans will totally protect people with Pre-Existing Conditions, Democrats will not! Vote Republican.</td>\n",
       "      <td>2018-10-24 12:45:10</td>\n",
       "    </tr>\n",
       "    <tr>\n",
       "      <th>1055075245743374336</th>\n",
       "      <td>17261</td>\n",
       "      <td>&lt;a href=\"http://twitter.com/download/iphone\" rel=\"nofollow\"&gt;Twitter for iPhone&lt;/a&gt;</td>\n",
       "      <td>Brian Kemp will be a GREAT Governor of Georgia. Stacey Abrams will destroy the State. Sooooo important, get out and VOTE for Brian!</td>\n",
       "      <td>2018-10-24 12:35:15</td>\n",
       "    </tr>\n",
       "    <tr>\n",
       "      <th>1055065538890735616</th>\n",
       "      <td>29902</td>\n",
       "      <td>&lt;a href=\"http://twitter.com/download/iphone\" rel=\"nofollow\"&gt;Twitter for iPhone&lt;/a&gt;</td>\n",
       "      <td>We are a great Sovereign Nation. We have Strong Borders and will never accept people coming into our Country illegally!</td>\n",
       "      <td>2018-10-24 11:56:41</td>\n",
       "    </tr>\n",
       "    <tr>\n",
       "      <th>1055064484644089856</th>\n",
       "      <td>36331</td>\n",
       "      <td>&lt;a href=\"http://twitter.com/download/iphone\" rel=\"nofollow\"&gt;Twitter for iPhone&lt;/a&gt;</td>\n",
       "      <td>For those who want and advocate for illegal immigration, just take a good look at what has happened to Europe over the last 5 years. A total mess! They only wish they had that decision to make over again.</td>\n",
       "      <td>2018-10-24 11:52:29</td>\n",
       "    </tr>\n",
       "    <tr>\n",
       "      <th>...</th>\n",
       "      <td>...</td>\n",
       "      <td>...</td>\n",
       "      <td>...</td>\n",
       "      <td>...</td>\n",
       "    </tr>\n",
       "    <tr>\n",
       "      <th>690560942430523392</th>\n",
       "      <td>1110</td>\n",
       "      <td>&lt;a href=\"http://twitter.com/download/android\" rel=\"nofollow\"&gt;Twitter for Android&lt;/a&gt;</td>\n",
       "      <td>\"@Lisa_Milicaj: Truth be told, I  never heard of The National Review until they \"tried\" to declare war on you. No worries, you got my vote!\"</td>\n",
       "      <td>2016-01-22 15:45:33</td>\n",
       "    </tr>\n",
       "    <tr>\n",
       "      <th>690560125916975104</th>\n",
       "      <td>1661</td>\n",
       "      <td>&lt;a href=\"http://twitter.com/download/android\" rel=\"nofollow\"&gt;Twitter for Android&lt;/a&gt;</td>\n",
       "      <td>After spending $89 million, @JebBush is at the bottom of the barrel in polls. He is ashamed to use the name \"Bush\" in ads. Low energy guy!</td>\n",
       "      <td>2016-01-22 15:42:18</td>\n",
       "    </tr>\n",
       "    <tr>\n",
       "      <th>690540484154896384</th>\n",
       "      <td>2116</td>\n",
       "      <td>&lt;a href=\"http://twitter.com/download/android\" rel=\"nofollow\"&gt;Twitter for Android&lt;/a&gt;</td>\n",
       "      <td>The failing @NRO National Review Magazine has just been informed by the Republican National Committee that they cannot participate in debate</td>\n",
       "      <td>2016-01-22 14:24:15</td>\n",
       "    </tr>\n",
       "    <tr>\n",
       "      <th>690537121916923904</th>\n",
       "      <td>1738</td>\n",
       "      <td>&lt;a href=\"http://twitter.com/download/android\" rel=\"nofollow\"&gt;Twitter for Android&lt;/a&gt;</td>\n",
       "      <td>\"@MiamiNewTimes: Poll: Trump has more support in Florida than Rubio and Bush combined. https://t.co/uvH2BKQRHf https://t.co/2tvIaa2aFr\"</td>\n",
       "      <td>2016-01-22 14:10:54</td>\n",
       "    </tr>\n",
       "    <tr>\n",
       "      <th>690534576066719744</th>\n",
       "      <td>799</td>\n",
       "      <td>&lt;a href=\"http://twitter.com/download/android\" rel=\"nofollow\"&gt;Twitter for Android&lt;/a&gt;</td>\n",
       "      <td>\"@CyberCiety: #MaryBrigidMcManamon clarified how #CommonLaw is used to interpret meaning of #NaturalBorn #TedCruz https://t.co/5y6SZrTdGr\"</td>\n",
       "      <td>2016-01-22 14:00:47</td>\n",
       "    </tr>\n",
       "    <tr>\n",
       "      <th>690534215478173697</th>\n",
       "      <td>875</td>\n",
       "      <td>&lt;a href=\"http://twitter.com/download/android\" rel=\"nofollow\"&gt;Twitter for Android&lt;/a&gt;</td>\n",
       "      <td>\"@D: #MaryBrigidMcManamon, Washington Post: Constitutionally speaking, #Cruz simply isn’t eligible to be president https://t.co/DBtTgsC1il\"</td>\n",
       "      <td>2016-01-22 13:59:21</td>\n",
       "    </tr>\n",
       "    <tr>\n",
       "      <th>690532959363866625</th>\n",
       "      <td>1937</td>\n",
       "      <td>&lt;a href=\"http://twitter.com/download/android\" rel=\"nofollow\"&gt;Twitter for Android&lt;/a&gt;</td>\n",
       "      <td>Highly respected Constitutional law professor Mary Brigid McManamon has just stated, \"Ted Cruz is not eligible to be President.\" Big problem</td>\n",
       "      <td>2016-01-22 13:54:21</td>\n",
       "    </tr>\n",
       "    <tr>\n",
       "      <th>690530164711624705</th>\n",
       "      <td>637</td>\n",
       "      <td>&lt;a href=\"http://twitter.com/download/android\" rel=\"nofollow\"&gt;Twitter for Android&lt;/a&gt;</td>\n",
       "      <td>\"@TruBluMajority: #laurencetribe calls Cruz \"constitutional hypocrite\" on @WBUR https://t.co/qRFINtcJlX @pbsgwen @charlierose @jaketapper</td>\n",
       "      <td>2016-01-22 13:43:15</td>\n",
       "    </tr>\n",
       "    <tr>\n",
       "      <th>690529690205818880</th>\n",
       "      <td>753</td>\n",
       "      <td>&lt;a href=\"http://twitter.com/download/android\" rel=\"nofollow\"&gt;Twitter for Android&lt;/a&gt;</td>\n",
       "      <td>#TedCruz eligibility to be President not settled law, says Cruz' Constitutional Law Professor, #LaurenceTribe https://t.co/GWKoJsBINZ\"</td>\n",
       "      <td>2016-01-22 13:41:22</td>\n",
       "    </tr>\n",
       "    <tr>\n",
       "      <th>690529122326413314</th>\n",
       "      <td>773</td>\n",
       "      <td>&lt;a href=\"http://twitter.com/download/android\" rel=\"nofollow\"&gt;Twitter for Android&lt;/a&gt;</td>\n",
       "      <td>\"@NeilTurner_: @realDonaldTrump https://t.co/uvn95NB6M0 With your help we can #MakeAmericaGreatAgain! #VoteTrump\"</td>\n",
       "      <td>2016-01-22 13:39:06</td>\n",
       "    </tr>\n",
       "    <tr>\n",
       "      <th>690528526181601281</th>\n",
       "      <td>676</td>\n",
       "      <td>&lt;a href=\"http://twitter.com/download/android\" rel=\"nofollow\"&gt;Twitter for Android&lt;/a&gt;</td>\n",
       "      <td>\"@BornToBeGOP: @realDonaldTrump No sleep for the #TrumpTrain!\"</td>\n",
       "      <td>2016-01-22 13:36:44</td>\n",
       "    </tr>\n",
       "    <tr>\n",
       "      <th>690528407117889538</th>\n",
       "      <td>909</td>\n",
       "      <td>&lt;a href=\"http://twitter.com/download/android\" rel=\"nofollow\"&gt;Twitter for Android&lt;/a&gt;</td>\n",
       "      <td>\"@realOllieTaylor:  Isn't it time we had a president? Let goofy Glen keep Canada Cruz who can't win. The American people have Trump!\"</td>\n",
       "      <td>2016-01-22 13:36:16</td>\n",
       "    </tr>\n",
       "    <tr>\n",
       "      <th>690528062190944256</th>\n",
       "      <td>1595</td>\n",
       "      <td>&lt;a href=\"http://twitter.com/download/android\" rel=\"nofollow\"&gt;Twitter for Android&lt;/a&gt;</td>\n",
       "      <td>Ted Cruz complains about my views on eminent domain, but without it we wouldn't have roads, highways, airports, schools or even pipelines.</td>\n",
       "      <td>2016-01-22 13:34:54</td>\n",
       "    </tr>\n",
       "    <tr>\n",
       "      <th>690404308010057728</th>\n",
       "      <td>9144</td>\n",
       "      <td>&lt;a href=\"http://twitter.com/download/iphone\" rel=\"nofollow\"&gt;Twitter for iPhone&lt;/a&gt;</td>\n",
       "      <td>RT @williebosshog: Make America Great Again! #Trump2016 https://t.co/1h5j4DZDgy</td>\n",
       "      <td>2016-01-22 05:23:08</td>\n",
       "    </tr>\n",
       "    <tr>\n",
       "      <th>690382722162913280</th>\n",
       "      <td>2236</td>\n",
       "      <td>&lt;a href=\"http://twitter.com/download/iphone\" rel=\"nofollow\"&gt;Twitter for iPhone&lt;/a&gt;</td>\n",
       "      <td>The late, great, William F. Buckley would be ashamed of what had happened to his prize, the dying National Review!</td>\n",
       "      <td>2016-01-22 03:57:22</td>\n",
       "    </tr>\n",
       "    <tr>\n",
       "      <th>690382619213742082</th>\n",
       "      <td>1817</td>\n",
       "      <td>&lt;a href=\"http://twitter.com/download/iphone\" rel=\"nofollow\"&gt;Twitter for iPhone&lt;/a&gt;</td>\n",
       "      <td>Very few people read the National Review because it only knows how to criticize, but not how to lead.</td>\n",
       "      <td>2016-01-22 03:56:57</td>\n",
       "    </tr>\n",
       "    <tr>\n",
       "      <th>690382564494839809</th>\n",
       "      <td>2187</td>\n",
       "      <td>&lt;a href=\"http://twitter.com/download/iphone\" rel=\"nofollow\"&gt;Twitter for iPhone&lt;/a&gt;</td>\n",
       "      <td>National Review is a failing publication that has lost it's way. It's circulation is way down w its influence being at an all time low. Sad!</td>\n",
       "      <td>2016-01-22 03:56:44</td>\n",
       "    </tr>\n",
       "    <tr>\n",
       "      <th>690337376061788161</th>\n",
       "      <td>2422</td>\n",
       "      <td>&lt;a href=\"http://twitter.com/download/iphone\" rel=\"nofollow\"&gt;Twitter for iPhone&lt;/a&gt;</td>\n",
       "      <td>Thank you, Iowa! #FITN #IACaucus\\n#MakeAmericaGreatAgain #Trump2016 https://t.co/wVJldvTSag</td>\n",
       "      <td>2016-01-22 00:57:10</td>\n",
       "    </tr>\n",
       "    <tr>\n",
       "      <th>690336644281581568</th>\n",
       "      <td>1576</td>\n",
       "      <td>&lt;a href=\"http://twitter.com/download/iphone\" rel=\"nofollow\"&gt;Twitter for iPhone&lt;/a&gt;</td>\n",
       "      <td>Why does @Greta have a fired Bushy like dummy, John Sununu on- spewing false info? I will beat Hillary by a lot, she wants no part of Trump.</td>\n",
       "      <td>2016-01-22 00:54:16</td>\n",
       "    </tr>\n",
       "    <tr>\n",
       "      <th>690315667636023296</th>\n",
       "      <td>2217</td>\n",
       "      <td>&lt;a href=\"http://twitter.com/download/iphone\" rel=\"nofollow\"&gt;Twitter for iPhone&lt;/a&gt;</td>\n",
       "      <td>#Trump2016 #MakeAmericaGreatAgain https://t.co/vfUwGIGjN4</td>\n",
       "      <td>2016-01-21 23:30:55</td>\n",
       "    </tr>\n",
       "    <tr>\n",
       "      <th>690315366564626433</th>\n",
       "      <td>1761</td>\n",
       "      <td>&lt;a href=\"http://twitter.com/download/iphone\" rel=\"nofollow\"&gt;Twitter for iPhone&lt;/a&gt;</td>\n",
       "      <td>Thank you, New Hampshire!\\n#Trump2016 https://t.co/TG9oZKly4l</td>\n",
       "      <td>2016-01-21 23:29:43</td>\n",
       "    </tr>\n",
       "    <tr>\n",
       "      <th>690315202261155840</th>\n",
       "      <td>1463</td>\n",
       "      <td>&lt;a href=\"http://twitter.com/download/iphone\" rel=\"nofollow\"&gt;Twitter for iPhone&lt;/a&gt;</td>\n",
       "      <td>Thank you! #Trump2016 https://t.co/pcdmyIO1Zt</td>\n",
       "      <td>2016-01-21 23:29:04</td>\n",
       "    </tr>\n",
       "    <tr>\n",
       "      <th>690313350278819840</th>\n",
       "      <td>2329</td>\n",
       "      <td>&lt;a href=\"http://twitter.com/download/iphone\" rel=\"nofollow\"&gt;Twitter for iPhone&lt;/a&gt;</td>\n",
       "      <td>Thank you, Iowa! #Trump2016 https://t.co/ryhEheTLqN</td>\n",
       "      <td>2016-01-21 23:21:42</td>\n",
       "    </tr>\n",
       "    <tr>\n",
       "      <th>690272687168458754</th>\n",
       "      <td>1053</td>\n",
       "      <td>&lt;a href=\"http://twitter.com/download/android\" rel=\"nofollow\"&gt;Twitter for Android&lt;/a&gt;</td>\n",
       "      <td>Happy birthday to my friend, the great @jacknicklaus - a totally special guy!</td>\n",
       "      <td>2016-01-21 20:40:07</td>\n",
       "    </tr>\n",
       "    <tr>\n",
       "      <th>690271688127213568</th>\n",
       "      <td>1429</td>\n",
       "      <td>&lt;a href=\"http://twitter.com/download/iphone\" rel=\"nofollow\"&gt;Twitter for iPhone&lt;/a&gt;</td>\n",
       "      <td>New Day on CNN treats me very badly. @AlisynCamerota is a disaster. Not going to watch anymore.</td>\n",
       "      <td>2016-01-21 20:36:09</td>\n",
       "    </tr>\n",
       "    <tr>\n",
       "      <th>690180284189310976</th>\n",
       "      <td>2886</td>\n",
       "      <td>&lt;a href=\"http://twitter.com/download/android\" rel=\"nofollow\"&gt;Twitter for Android&lt;/a&gt;</td>\n",
       "      <td>Low energy candidate @JebBush has wasted $80 million on his failed presidential campaign. Millions spent on me. He should go home and relax!</td>\n",
       "      <td>2016-01-21 14:32:57</td>\n",
       "    </tr>\n",
       "    <tr>\n",
       "      <th>690176882055114758</th>\n",
       "      <td>2266</td>\n",
       "      <td>&lt;a href=\"http://twitter.com/download/android\" rel=\"nofollow\"&gt;Twitter for Android&lt;/a&gt;</td>\n",
       "      <td>Sad sack @JebBush has just done another ad on me, with special interest money, saying I won't beat Hillary - I WILL. But he can't beat me.</td>\n",
       "      <td>2016-01-21 14:19:26</td>\n",
       "    </tr>\n",
       "    <tr>\n",
       "      <th>690173226341691392</th>\n",
       "      <td>2006</td>\n",
       "      <td>&lt;a href=\"http://twitter.com/download/android\" rel=\"nofollow\"&gt;Twitter for Android&lt;/a&gt;</td>\n",
       "      <td>So sad that @CNN and many others refused to show the massive crowd at the arena yesterday in Oklahoma. Dishonest reporting!</td>\n",
       "      <td>2016-01-21 14:04:54</td>\n",
       "    </tr>\n",
       "    <tr>\n",
       "      <th>690171403388104704</th>\n",
       "      <td>1339</td>\n",
       "      <td>&lt;a href=\"http://twitter.com/download/android\" rel=\"nofollow\"&gt;Twitter for Android&lt;/a&gt;</td>\n",
       "      <td>\"@AmericanAsPie:  @glennbeck @SarahPalinUSA Remember when Glenn gave out gifts to ILLEGAL ALIENS at crossing the border? Me too!\"</td>\n",
       "      <td>2016-01-21 13:57:39</td>\n",
       "    </tr>\n",
       "    <tr>\n",
       "      <th>690171032150237184</th>\n",
       "      <td>1059</td>\n",
       "      <td>&lt;a href=\"http://twitter.com/download/android\" rel=\"nofollow\"&gt;Twitter for Android&lt;/a&gt;</td>\n",
       "      <td>\"@bigop1: @realDonaldTrump  @SarahPalinUSA https://t.co/3kYQGqeVyD\"</td>\n",
       "      <td>2016-01-21 13:56:11</td>\n",
       "    </tr>\n",
       "  </tbody>\n",
       "</table>\n",
       "<p>9973 rows × 4 columns</p>\n",
       "</div>"
      ],
      "text/plain": [
       "                     retweet_count  \\\n",
       "1055846847502258178           6863   \n",
       "1055826295337172993          15343   \n",
       "1055822810940129283          17734   \n",
       "1055820292881350656          12776   \n",
       "1055719340832686080          29047   \n",
       "1055600267331285002          11606   \n",
       "1055599805395812352          10138   \n",
       "1055598350228246528          14564   \n",
       "1055559438977900544          12404   \n",
       "1055555764901822466           9394   \n",
       "1055555312864952321           9150   \n",
       "1055548549595873280           9501   \n",
       "1055548456469778432           8664   \n",
       "1055531231495024642          11289   \n",
       "1055531230022766592          13322   \n",
       "1055529948046331904           8127   \n",
       "1055527191235227648          40581   \n",
       "1055494636775657478           9294   \n",
       "1055458320390217728          27892   \n",
       "1055418269270716418          48280   \n",
       "1055414972635926528          21491   \n",
       "1055412328571850753          19746   \n",
       "1055273659563171840          12698   \n",
       "1055246191443763201          15317   \n",
       "1055170989682757632          21747   \n",
       "1055127893112696832          22404   \n",
       "1055077740792160256          25178   \n",
       "1055075245743374336          17261   \n",
       "1055065538890735616          29902   \n",
       "1055064484644089856          36331   \n",
       "...                            ...   \n",
       "690560942430523392            1110   \n",
       "690560125916975104            1661   \n",
       "690540484154896384            2116   \n",
       "690537121916923904            1738   \n",
       "690534576066719744             799   \n",
       "690534215478173697             875   \n",
       "690532959363866625            1937   \n",
       "690530164711624705             637   \n",
       "690529690205818880             753   \n",
       "690529122326413314             773   \n",
       "690528526181601281             676   \n",
       "690528407117889538             909   \n",
       "690528062190944256            1595   \n",
       "690404308010057728            9144   \n",
       "690382722162913280            2236   \n",
       "690382619213742082            1817   \n",
       "690382564494839809            2187   \n",
       "690337376061788161            2422   \n",
       "690336644281581568            1576   \n",
       "690315667636023296            2217   \n",
       "690315366564626433            1761   \n",
       "690315202261155840            1463   \n",
       "690313350278819840            2329   \n",
       "690272687168458754            1053   \n",
       "690271688127213568            1429   \n",
       "690180284189310976            2886   \n",
       "690176882055114758            2266   \n",
       "690173226341691392            2006   \n",
       "690171403388104704            1339   \n",
       "690171032150237184            1059   \n",
       "\n",
       "                                                                                                   source  \\\n",
       "1055846847502258178    <a href=\"http://twitter.com/download/iphone\" rel=\"nofollow\">Twitter for iPhone</a>   \n",
       "1055826295337172993    <a href=\"http://twitter.com/download/iphone\" rel=\"nofollow\">Twitter for iPhone</a>   \n",
       "1055822810940129283    <a href=\"http://twitter.com/download/iphone\" rel=\"nofollow\">Twitter for iPhone</a>   \n",
       "1055820292881350656    <a href=\"http://twitter.com/download/iphone\" rel=\"nofollow\">Twitter for iPhone</a>   \n",
       "1055719340832686080    <a href=\"http://twitter.com/download/iphone\" rel=\"nofollow\">Twitter for iPhone</a>   \n",
       "1055600267331285002    <a href=\"http://twitter.com/download/iphone\" rel=\"nofollow\">Twitter for iPhone</a>   \n",
       "1055599805395812352    <a href=\"http://twitter.com/download/iphone\" rel=\"nofollow\">Twitter for iPhone</a>   \n",
       "1055598350228246528    <a href=\"http://twitter.com/download/iphone\" rel=\"nofollow\">Twitter for iPhone</a>   \n",
       "1055559438977900544    <a href=\"http://twitter.com/download/iphone\" rel=\"nofollow\">Twitter for iPhone</a>   \n",
       "1055555764901822466    <a href=\"http://twitter.com/download/iphone\" rel=\"nofollow\">Twitter for iPhone</a>   \n",
       "1055555312864952321    <a href=\"http://twitter.com/download/iphone\" rel=\"nofollow\">Twitter for iPhone</a>   \n",
       "1055548549595873280    <a href=\"http://twitter.com/download/iphone\" rel=\"nofollow\">Twitter for iPhone</a>   \n",
       "1055548456469778432    <a href=\"http://twitter.com/download/iphone\" rel=\"nofollow\">Twitter for iPhone</a>   \n",
       "1055531231495024642    <a href=\"http://twitter.com/download/iphone\" rel=\"nofollow\">Twitter for iPhone</a>   \n",
       "1055531230022766592    <a href=\"http://twitter.com/download/iphone\" rel=\"nofollow\">Twitter for iPhone</a>   \n",
       "1055529948046331904    <a href=\"http://twitter.com/download/iphone\" rel=\"nofollow\">Twitter for iPhone</a>   \n",
       "1055527191235227648    <a href=\"http://twitter.com/download/iphone\" rel=\"nofollow\">Twitter for iPhone</a>   \n",
       "1055494636775657478    <a href=\"http://twitter.com/download/iphone\" rel=\"nofollow\">Twitter for iPhone</a>   \n",
       "1055458320390217728    <a href=\"http://twitter.com/download/iphone\" rel=\"nofollow\">Twitter for iPhone</a>   \n",
       "1055418269270716418    <a href=\"http://twitter.com/download/iphone\" rel=\"nofollow\">Twitter for iPhone</a>   \n",
       "1055414972635926528    <a href=\"http://twitter.com/download/iphone\" rel=\"nofollow\">Twitter for iPhone</a>   \n",
       "1055412328571850753    <a href=\"http://twitter.com/download/iphone\" rel=\"nofollow\">Twitter for iPhone</a>   \n",
       "1055273659563171840    <a href=\"http://twitter.com/download/iphone\" rel=\"nofollow\">Twitter for iPhone</a>   \n",
       "1055246191443763201    <a href=\"http://twitter.com/download/iphone\" rel=\"nofollow\">Twitter for iPhone</a>   \n",
       "1055170989682757632    <a href=\"http://twitter.com/download/iphone\" rel=\"nofollow\">Twitter for iPhone</a>   \n",
       "1055127893112696832    <a href=\"http://twitter.com/download/iphone\" rel=\"nofollow\">Twitter for iPhone</a>   \n",
       "1055077740792160256    <a href=\"http://twitter.com/download/iphone\" rel=\"nofollow\">Twitter for iPhone</a>   \n",
       "1055075245743374336    <a href=\"http://twitter.com/download/iphone\" rel=\"nofollow\">Twitter for iPhone</a>   \n",
       "1055065538890735616    <a href=\"http://twitter.com/download/iphone\" rel=\"nofollow\">Twitter for iPhone</a>   \n",
       "1055064484644089856    <a href=\"http://twitter.com/download/iphone\" rel=\"nofollow\">Twitter for iPhone</a>   \n",
       "...                                                                                                   ...   \n",
       "690560942430523392   <a href=\"http://twitter.com/download/android\" rel=\"nofollow\">Twitter for Android</a>   \n",
       "690560125916975104   <a href=\"http://twitter.com/download/android\" rel=\"nofollow\">Twitter for Android</a>   \n",
       "690540484154896384   <a href=\"http://twitter.com/download/android\" rel=\"nofollow\">Twitter for Android</a>   \n",
       "690537121916923904   <a href=\"http://twitter.com/download/android\" rel=\"nofollow\">Twitter for Android</a>   \n",
       "690534576066719744   <a href=\"http://twitter.com/download/android\" rel=\"nofollow\">Twitter for Android</a>   \n",
       "690534215478173697   <a href=\"http://twitter.com/download/android\" rel=\"nofollow\">Twitter for Android</a>   \n",
       "690532959363866625   <a href=\"http://twitter.com/download/android\" rel=\"nofollow\">Twitter for Android</a>   \n",
       "690530164711624705   <a href=\"http://twitter.com/download/android\" rel=\"nofollow\">Twitter for Android</a>   \n",
       "690529690205818880   <a href=\"http://twitter.com/download/android\" rel=\"nofollow\">Twitter for Android</a>   \n",
       "690529122326413314   <a href=\"http://twitter.com/download/android\" rel=\"nofollow\">Twitter for Android</a>   \n",
       "690528526181601281   <a href=\"http://twitter.com/download/android\" rel=\"nofollow\">Twitter for Android</a>   \n",
       "690528407117889538   <a href=\"http://twitter.com/download/android\" rel=\"nofollow\">Twitter for Android</a>   \n",
       "690528062190944256   <a href=\"http://twitter.com/download/android\" rel=\"nofollow\">Twitter for Android</a>   \n",
       "690404308010057728     <a href=\"http://twitter.com/download/iphone\" rel=\"nofollow\">Twitter for iPhone</a>   \n",
       "690382722162913280     <a href=\"http://twitter.com/download/iphone\" rel=\"nofollow\">Twitter for iPhone</a>   \n",
       "690382619213742082     <a href=\"http://twitter.com/download/iphone\" rel=\"nofollow\">Twitter for iPhone</a>   \n",
       "690382564494839809     <a href=\"http://twitter.com/download/iphone\" rel=\"nofollow\">Twitter for iPhone</a>   \n",
       "690337376061788161     <a href=\"http://twitter.com/download/iphone\" rel=\"nofollow\">Twitter for iPhone</a>   \n",
       "690336644281581568     <a href=\"http://twitter.com/download/iphone\" rel=\"nofollow\">Twitter for iPhone</a>   \n",
       "690315667636023296     <a href=\"http://twitter.com/download/iphone\" rel=\"nofollow\">Twitter for iPhone</a>   \n",
       "690315366564626433     <a href=\"http://twitter.com/download/iphone\" rel=\"nofollow\">Twitter for iPhone</a>   \n",
       "690315202261155840     <a href=\"http://twitter.com/download/iphone\" rel=\"nofollow\">Twitter for iPhone</a>   \n",
       "690313350278819840     <a href=\"http://twitter.com/download/iphone\" rel=\"nofollow\">Twitter for iPhone</a>   \n",
       "690272687168458754   <a href=\"http://twitter.com/download/android\" rel=\"nofollow\">Twitter for Android</a>   \n",
       "690271688127213568     <a href=\"http://twitter.com/download/iphone\" rel=\"nofollow\">Twitter for iPhone</a>   \n",
       "690180284189310976   <a href=\"http://twitter.com/download/android\" rel=\"nofollow\">Twitter for Android</a>   \n",
       "690176882055114758   <a href=\"http://twitter.com/download/android\" rel=\"nofollow\">Twitter for Android</a>   \n",
       "690173226341691392   <a href=\"http://twitter.com/download/android\" rel=\"nofollow\">Twitter for Android</a>   \n",
       "690171403388104704   <a href=\"http://twitter.com/download/android\" rel=\"nofollow\">Twitter for Android</a>   \n",
       "690171032150237184   <a href=\"http://twitter.com/download/android\" rel=\"nofollow\">Twitter for Android</a>   \n",
       "\n",
       "                                                                                                                                                                                                                                                                                                        text  \\\n",
       "1055846847502258178                                                                                                                                                     I will be speaking at the Young Black Leadership Summit in 15 minutes where I will address the investigation into the bomb packages.   \n",
       "1055826295337172993                                                         Republicans are doing so well in early voting, and at the polls, and now this “Bomb” stuff happens and the momentum greatly slows - news not talking politics. Very unfortunate, what is going on. Republicans, go out and vote!   \n",
       "1055822810940129283       Twitter has removed many people from my account and, more importantly, they have seemingly done something that makes it much harder to join - they have stifled growth to a point where it is obvious to all. A few weeks ago it was a Rocket Ship, now it is a Blimp! Total Bias?   \n",
       "1055820292881350656                                                   The United States has been spending Billions of Dollars a year on Illegal Immigration. This will not continue. Democrats must give us the votes to pass strong (but fair) laws. If not, we will be forced to play a much tougher hand.   \n",
       "1055719340832686080        Funny how lowly rated CNN, and others, can criticize me at will, even blaming me for the current spate of Bombs and ridiculously comparing this to September 11th and the Oklahoma City bombing, yet when I criticize them they go wild and scream, “it’s just not Presidential!”   \n",
       "1055600267331285002                                     The Service Members who died that day included brave young Marines just out of high school, accomplished officers in the middle of their military careers, and enlisted men who had served in theaters all over the world... https://t.co/82Wkru7JAb   \n",
       "1055599805395812352                                                      In 1983, roughly 1,800 Marines were in Beirut to keep the peace in a Nation torn apart by Civil War. Terrorists had bombed the U.S. Embassy earlier that year, killing 63 people, including 17 Americans... https://t.co/Mp73AYv7J0   \n",
       "1055598350228246528  We are gathered together on this solemn occasion to fulfill our most reverent and sacred duty. 35 years ago, 241 American service members were murdered in the terrorist attack on our Marine Barracks in Beirut, Lebanon. Today, we honor our fallen heroes... https://t.co/zPgjSFj9BM   \n",
       "1055559438977900544  .@BrucePoliquin from Maine is a great Congressman. He is in a tough fight against a very liberal Nancy Pelosi Democrat. Bruce has helped bring JOBS back to his State and totally protects your Great Second Amendment. We need to keep Bruce in Washington. He has my Full Endorsem...   \n",
       "1055555764901822466                                                                                   .@MikeDunleavyGov will make a fantastic Governor of Alaska. Mike is for Energy and Jobs, is tough on Crime, loves our Vets and our Great Second Amendment. Mike has my Complete and Total Endorsement!   \n",
       "1055555312864952321                                                                                                   .@LloydSmuckerPA is doing a great job for the people of Pennsylvania. He is strong on the Border, Crime, the Military, our Vets and the 2nd Amendment. Lloyd has my Total Endorsement!   \n",
       "1055548549595873280                                                                                                 .@Troy_Balderson of Ohio is doing a great job as your Congressman, already very respected in Washington. Get out and VOTE for Troy - we need him – great guy – has my Total Endorsement!   \n",
       "1055548456469778432     .@JohnChrin of Pennsylvania is fantastic. He is strong on the Border, Crime, the Military, our Vets and the 2nd Amendment. He is a powerful vote for #MAGA and loves the Great State of Pennsylvania. Please get out and vote for John, he has my Total and very Strong Endorsement!   \n",
       "1055531231495024642                                                                            ...I agree with their stance 100%, and the United States is likewise taking a very hard line on illegal immigration. The Prime Minister is working very hard on the economy of Italy - he will be successful!   \n",
       "1055531230022766592                                                                                                                Just spoke with Prime Minister @GiuseppeConteIT of Italy concerning many subjects, including the fact that Italy is now taking a very hard line on illegal immigration...   \n",
       "1055529948046331904                                                                  Spoke with French President @EmmanuelMacron this morning. Discussed many topics including the very exciting upcoming visit to Paris where @FLOTUS Melania and I will attend the Armistice Day Centennial Commemoration!   \n",
       "1055527191235227648                                                                                       To those in the Caravan, turnaround, we are not letting people into the United States illegally. Go back to your Country and if you want, apply for citizenship like millions of others are doing!   \n",
       "1055494636775657478                                                                                                                                       “Remarks by President Trump on a Year of Historic Progress and Action to Combat the Opioid Crisis” https://t.co/YBTzMSOozW https://t.co/njGYwHff4t   \n",
       "1055458320390217728  The New York Times has a new Fake Story that now the Russians and Chinese (glad they finally added China) are listening to all of my calls on cellphones. Except that I rarely use a cellphone, &amp; when I do it’s government authorized. I like Hard Lines. Just more made up Fak...   \n",
       "1055418269270716418   A very big part of the Anger we see today in our society is caused by the purposely false and inaccurate reporting of the Mainstream Media that I refer to as Fake News. It has gotten so bad and hateful that it is beyond description. Mainstream Media must clean up its act, FAST!   \n",
       "1055414972635926528     Brandon Judd of the National Border Patrol Council is right when he says on @foxandfriends that the Democrat inspired laws make it tough for us to stop people at the Border. MUST BE CHANDED, but I am bringing out the military for this National Emergency. They will be stopped!   \n",
       "1055412328571850753     The so-called experts on Trump over at the New York Times wrote a long and boring article on my cellphone usage that is so incorrect I do not have time here to correct it. I only use Government Phones, and have only one seldom used government cell phone. Story is soooo wrong!   \n",
       "1055273659563171840                                                                                                                                                   Just leaving Wisconsin. @ScottWalker and @LeahVukmir are fantastic people, badly needed for our Country! #MAGA https://t.co/6dLOBO6UQy   \n",
       "1055246191443763201                                                                                                                                                                                Just arrived in Wisconsin to help two great people, @ScottWalker and @LeahVukmir! https://t.co/Pu1Yyl5K0G   \n",
       "1055170989682757632                                                                  The safety of the American People is my highest priority. I have just concluded a briefing with the FBI, Department of Justice, Department of Homeland Security, and the U.S. Secret Service... https://t.co/nEUBcq4NOh   \n",
       "1055127893112696832                                                                                                                                                                                                                                          I agree wholeheartedly! https://t.co/ndzu0A30vU   \n",
       "1055077740792160256                                                                                                                                                                               Republicans will totally protect people with Pre-Existing Conditions, Democrats will not! Vote Republican.   \n",
       "1055075245743374336                                                                                                                                                      Brian Kemp will be a GREAT Governor of Georgia. Stacey Abrams will destroy the State. Sooooo important, get out and VOTE for Brian!   \n",
       "1055065538890735616                                                                                                                                                                  We are a great Sovereign Nation. We have Strong Borders and will never accept people coming into our Country illegally!   \n",
       "1055064484644089856                                                                             For those who want and advocate for illegal immigration, just take a good look at what has happened to Europe over the last 5 years. A total mess! They only wish they had that decision to make over again.   \n",
       "...                                                                                                                                                                                                                                                                                                      ...   \n",
       "690560942430523392                                                                                                                                              \"@Lisa_Milicaj: Truth be told, I  never heard of The National Review until they \"tried\" to declare war on you. No worries, you got my vote!\"   \n",
       "690560125916975104                                                                                                                                                After spending $89 million, @JebBush is at the bottom of the barrel in polls. He is ashamed to use the name \"Bush\" in ads. Low energy guy!   \n",
       "690540484154896384                                                                                                                                              The failing @NRO National Review Magazine has just been informed by the Republican National Committee that they cannot participate in debate   \n",
       "690537121916923904                                                                                                                                                   \"@MiamiNewTimes: Poll: Trump has more support in Florida than Rubio and Bush combined. https://t.co/uvH2BKQRHf https://t.co/2tvIaa2aFr\"   \n",
       "690534576066719744                                                                                                                                                \"@CyberCiety: #MaryBrigidMcManamon clarified how #CommonLaw is used to interpret meaning of #NaturalBorn #TedCruz https://t.co/5y6SZrTdGr\"   \n",
       "690534215478173697                                                                                                                                               \"@D: #MaryBrigidMcManamon, Washington Post: Constitutionally speaking, #Cruz simply isn’t eligible to be president https://t.co/DBtTgsC1il\"   \n",
       "690532959363866625                                                                                                                                              Highly respected Constitutional law professor Mary Brigid McManamon has just stated, \"Ted Cruz is not eligible to be President.\" Big problem   \n",
       "690530164711624705                                                                                                                                                 \"@TruBluMajority: #laurencetribe calls Cruz \"constitutional hypocrite\" on @WBUR https://t.co/qRFINtcJlX @pbsgwen @charlierose @jaketapper   \n",
       "690529690205818880                                                                                                                                                    #TedCruz eligibility to be President not settled law, says Cruz' Constitutional Law Professor, #LaurenceTribe https://t.co/GWKoJsBINZ\"   \n",
       "690529122326413314                                                                                                                                                                         \"@NeilTurner_: @realDonaldTrump https://t.co/uvn95NB6M0 With your help we can #MakeAmericaGreatAgain! #VoteTrump\"   \n",
       "690528526181601281                                                                                                                                                                                                                            \"@BornToBeGOP: @realDonaldTrump No sleep for the #TrumpTrain!\"   \n",
       "690528407117889538                                                                                                                                                     \"@realOllieTaylor:  Isn't it time we had a president? Let goofy Glen keep Canada Cruz who can't win. The American people have Trump!\"   \n",
       "690528062190944256                                                                                                                                                Ted Cruz complains about my views on eminent domain, but without it we wouldn't have roads, highways, airports, schools or even pipelines.   \n",
       "690404308010057728                                                                                                                                                                                                           RT @williebosshog: Make America Great Again! #Trump2016 https://t.co/1h5j4DZDgy   \n",
       "690382722162913280                                                                                                                                                                        The late, great, William F. Buckley would be ashamed of what had happened to his prize, the dying National Review!   \n",
       "690382619213742082                                                                                                                                                                                     Very few people read the National Review because it only knows how to criticize, but not how to lead.   \n",
       "690382564494839809                                                                                                                                              National Review is a failing publication that has lost it's way. It's circulation is way down w its influence being at an all time low. Sad!   \n",
       "690337376061788161                                                                                                                                                                                               Thank you, Iowa! #FITN #IACaucus\\n#MakeAmericaGreatAgain #Trump2016 https://t.co/wVJldvTSag   \n",
       "690336644281581568                                                                                                                                              Why does @Greta have a fired Bushy like dummy, John Sununu on- spewing false info? I will beat Hillary by a lot, she wants no part of Trump.   \n",
       "690315667636023296                                                                                                                                                                                                                                 #Trump2016 #MakeAmericaGreatAgain https://t.co/vfUwGIGjN4   \n",
       "690315366564626433                                                                                                                                                                                                                             Thank you, New Hampshire!\\n#Trump2016 https://t.co/TG9oZKly4l   \n",
       "690315202261155840                                                                                                                                                                                                                                             Thank you! #Trump2016 https://t.co/pcdmyIO1Zt   \n",
       "690313350278819840                                                                                                                                                                                                                                       Thank you, Iowa! #Trump2016 https://t.co/ryhEheTLqN   \n",
       "690272687168458754                                                                                                                                                                                                             Happy birthday to my friend, the great @jacknicklaus - a totally special guy!   \n",
       "690271688127213568                                                                                                                                                                                           New Day on CNN treats me very badly. @AlisynCamerota is a disaster. Not going to watch anymore.   \n",
       "690180284189310976                                                                                                                                              Low energy candidate @JebBush has wasted $80 million on his failed presidential campaign. Millions spent on me. He should go home and relax!   \n",
       "690176882055114758                                                                                                                                                Sad sack @JebBush has just done another ad on me, with special interest money, saying I won't beat Hillary - I WILL. But he can't beat me.   \n",
       "690173226341691392                                                                                                                                                               So sad that @CNN and many others refused to show the massive crowd at the arena yesterday in Oklahoma. Dishonest reporting!   \n",
       "690171403388104704                                                                                                                                                         \"@AmericanAsPie:  @glennbeck @SarahPalinUSA Remember when Glenn gave out gifts to ILLEGAL ALIENS at crossing the border? Me too!\"   \n",
       "690171032150237184                                                                                                                                                                                                                       \"@bigop1: @realDonaldTrump  @SarahPalinUSA https://t.co/3kYQGqeVyD\"   \n",
       "\n",
       "                                   time  \n",
       "1055846847502258178 2018-10-26 15:41:19  \n",
       "1055826295337172993 2018-10-26 14:19:39  \n",
       "1055822810940129283 2018-10-26 14:05:49  \n",
       "1055820292881350656 2018-10-26 13:55:48  \n",
       "1055719340832686080 2018-10-26 07:14:39  \n",
       "1055600267331285002 2018-10-25 23:21:30  \n",
       "1055599805395812352 2018-10-25 23:19:40  \n",
       "1055598350228246528 2018-10-25 23:13:53  \n",
       "1055559438977900544 2018-10-25 20:39:16  \n",
       "1055555764901822466 2018-10-25 20:24:40  \n",
       "1055555312864952321 2018-10-25 20:22:52  \n",
       "1055548549595873280 2018-10-25 19:56:00  \n",
       "1055548456469778432 2018-10-25 19:55:37  \n",
       "1055531231495024642 2018-10-25 18:47:11  \n",
       "1055531230022766592 2018-10-25 18:47:10  \n",
       "1055529948046331904 2018-10-25 18:42:05  \n",
       "1055527191235227648 2018-10-25 18:31:07  \n",
       "1055494636775657478 2018-10-25 16:21:46  \n",
       "1055458320390217728 2018-10-25 13:57:27  \n",
       "1055418269270716418 2018-10-25 11:18:18  \n",
       "1055414972635926528 2018-10-25 11:05:12  \n",
       "1055412328571850753 2018-10-25 10:54:42  \n",
       "1055273659563171840 2018-10-25 01:43:41  \n",
       "1055246191443763201 2018-10-24 23:54:32  \n",
       "1055170989682757632 2018-10-24 18:55:42  \n",
       "1055127893112696832 2018-10-24 16:04:27  \n",
       "1055077740792160256 2018-10-24 12:45:10  \n",
       "1055075245743374336 2018-10-24 12:35:15  \n",
       "1055065538890735616 2018-10-24 11:56:41  \n",
       "1055064484644089856 2018-10-24 11:52:29  \n",
       "...                                 ...  \n",
       "690560942430523392  2016-01-22 15:45:33  \n",
       "690560125916975104  2016-01-22 15:42:18  \n",
       "690540484154896384  2016-01-22 14:24:15  \n",
       "690537121916923904  2016-01-22 14:10:54  \n",
       "690534576066719744  2016-01-22 14:00:47  \n",
       "690534215478173697  2016-01-22 13:59:21  \n",
       "690532959363866625  2016-01-22 13:54:21  \n",
       "690530164711624705  2016-01-22 13:43:15  \n",
       "690529690205818880  2016-01-22 13:41:22  \n",
       "690529122326413314  2016-01-22 13:39:06  \n",
       "690528526181601281  2016-01-22 13:36:44  \n",
       "690528407117889538  2016-01-22 13:36:16  \n",
       "690528062190944256  2016-01-22 13:34:54  \n",
       "690404308010057728  2016-01-22 05:23:08  \n",
       "690382722162913280  2016-01-22 03:57:22  \n",
       "690382619213742082  2016-01-22 03:56:57  \n",
       "690382564494839809  2016-01-22 03:56:44  \n",
       "690337376061788161  2016-01-22 00:57:10  \n",
       "690336644281581568  2016-01-22 00:54:16  \n",
       "690315667636023296  2016-01-21 23:30:55  \n",
       "690315366564626433  2016-01-21 23:29:43  \n",
       "690315202261155840  2016-01-21 23:29:04  \n",
       "690313350278819840  2016-01-21 23:21:42  \n",
       "690272687168458754  2016-01-21 20:40:07  \n",
       "690271688127213568  2016-01-21 20:36:09  \n",
       "690180284189310976  2016-01-21 14:32:57  \n",
       "690176882055114758  2016-01-21 14:19:26  \n",
       "690173226341691392  2016-01-21 14:04:54  \n",
       "690171403388104704  2016-01-21 13:57:39  \n",
       "690171032150237184  2016-01-21 13:56:11  \n",
       "\n",
       "[9973 rows x 4 columns]"
      ]
     },
     "execution_count": 25,
     "metadata": {},
     "output_type": "execute_result"
    }
   ],
   "source": [
    "trump = pd.DataFrame({'time': time_list, 'source': source_list, 'text': text_list, 'retweet_count': rt_count_list})\n",
    "trump = trump.set_index([id_list])\n",
    "trump.sort_index(ascending = False)\n",
    "# YOUR CODE HERE\n",
    "# raise NotImplementedError()"
   ]
  },
  {
   "cell_type": "code",
   "execution_count": 26,
   "metadata": {
    "deletable": false,
    "editable": false,
    "nbgrader": {
     "cell_type": "code",
     "checksum": "2dd08a7053daa04e9b2763d40dc635da",
     "grade": true,
     "grade_id": "q3b-tests",
     "locked": true,
     "points": 2,
     "schema_version": 2,
     "solution": false
    },
    "tags": [
     "test",
     "q03"
    ]
   },
   "outputs": [],
   "source": [
    "assert isinstance(trump, pd.DataFrame)\n",
    "assert trump.shape[0] < 11000\n",
    "assert trump.shape[1] >= 4\n",
    "assert 831846101179314177 in trump.index\n",
    "assert 753063644578144260 in trump.index\n",
    "assert all(col in trump.columns for col in ['time', 'source', 'text', 'retweet_count'])\n",
    "# If you fail these tests, you probably tried to use __dict__ or _json to read in the tweets\n",
    "assert np.sometrue([('Twitter for iPhone' in s) for s in trump['source'].unique()])\n",
    "assert trump['time'].dtype == np.dtype('<M8[ns]')\n",
    "assert trump['text'].dtype == np.dtype('O')\n",
    "assert trump['retweet_count'].dtype == np.dtype('int64')"
   ]
  },
  {
   "cell_type": "markdown",
   "metadata": {
    "deletable": false,
    "editable": false,
    "nbgrader": {
     "cell_type": "markdown",
     "checksum": "30d38d0c0f5988b2b1da8eadd678d083",
     "grade": false,
     "grade_id": "question4",
     "locked": true,
     "schema_version": 2,
     "solution": false
    }
   },
   "source": [
    "## Question 4: Tweet Source Analysis\n",
    "\n",
    "In the following questions, we are going to find out the charateristics of Trump tweets and the devices used for the tweets.\n",
    "\n",
    "First let's examine the source field:"
   ]
  },
  {
   "cell_type": "code",
   "execution_count": 27,
   "metadata": {
    "deletable": false,
    "editable": false,
    "nbgrader": {
     "cell_type": "code",
     "checksum": "6afb6dfe20e5154416906478ba3d9384",
     "grade": false,
     "grade_id": "unique-sources",
     "locked": true,
     "schema_version": 2,
     "solution": false
    }
   },
   "outputs": [
    {
     "data": {
      "text/plain": [
       "array([ '<a href=\"http://twitter.com/download/iphone\" rel=\"nofollow\">Twitter for iPhone</a>',\n",
       "       '<a href=\"https://studio.twitter.com\" rel=\"nofollow\">Media Studio</a>',\n",
       "       '<a href=\"http://twitter.com/#!/download/ipad\" rel=\"nofollow\">Twitter for iPad</a>',\n",
       "       '<a href=\"http://twitter.com\" rel=\"nofollow\">Twitter Web Client</a>',\n",
       "       '<a href=\"http://twitter.com/download/android\" rel=\"nofollow\">Twitter for Android</a>',\n",
       "       '<a href=\"http://instagram.com\" rel=\"nofollow\">Instagram</a>',\n",
       "       '<a href=\"https://mobile.twitter.com\" rel=\"nofollow\">Mobile Web (M5)</a>',\n",
       "       '<a href=\"https://ads.twitter.com\" rel=\"nofollow\">Twitter Ads</a>',\n",
       "       '<a href=\"https://periscope.tv\" rel=\"nofollow\">Periscope</a>'], dtype=object)"
      ]
     },
     "execution_count": 27,
     "metadata": {},
     "output_type": "execute_result"
    }
   ],
   "source": [
    "trump['source'].unique()"
   ]
  },
  {
   "cell_type": "markdown",
   "metadata": {
    "deletable": false,
    "editable": false,
    "nbgrader": {
     "cell_type": "markdown",
     "checksum": "c6456dce1f6278ee550862faf8829f32",
     "grade": false,
     "grade_id": "q4a",
     "locked": true,
     "schema_version": 2,
     "solution": false
    }
   },
   "source": [
    "## Question 4a\n",
    "\n",
    "Remove the HTML tags from the source field. \n",
    "\n",
    "**Hint:** Use `trump['source'].str.replace` and your favorite regular expression."
   ]
  },
  {
   "cell_type": "code",
   "execution_count": 28,
   "metadata": {
    "deletable": false,
    "nbgrader": {
     "cell_type": "code",
     "checksum": "a05e9dfd89d13b6b4d93b7b32b0c18d0",
     "grade": false,
     "grade_id": "q4a-answer",
     "locked": false,
     "schema_version": 2,
     "solution": true
    }
   },
   "outputs": [],
   "source": [
    "## Uncomment and complete\n",
    "exp = \"<.*?>\"\n",
    "trump['source'] = trump['source'].str.replace(exp, '')\n",
    "\n",
    "# YOUR CODE HERE\n",
    "# raise NotImplementedError()"
   ]
  },
  {
   "cell_type": "code",
   "execution_count": 29,
   "metadata": {
    "deletable": false,
    "editable": false,
    "nbgrader": {
     "cell_type": "code",
     "checksum": "ba180bc3697692747a71297f6b4dc64a",
     "grade": true,
     "grade_id": "q4a-test",
     "locked": true,
     "points": 1,
     "schema_version": 2,
     "solution": false
    }
   },
   "outputs": [],
   "source": [
    "from datetime import datetime\n",
    "ELEC_DATE = datetime(2016, 11, 8)\n",
    "INAUG_DATE = datetime(2017, 1, 20)\n",
    "assert set(trump[(trump['time'] > ELEC_DATE) & (trump['time'] < INAUG_DATE) ]['source'].unique()) == set(['Twitter Ads',\n",
    " 'Twitter Web Client',\n",
    " 'Twitter for Android',\n",
    " 'Twitter for iPhone'])"
   ]
  },
  {
   "cell_type": "markdown",
   "metadata": {
    "deletable": false,
    "editable": false,
    "nbgrader": {
     "cell_type": "markdown",
     "checksum": "fbd18f3db9b76174657bbfadec0dede6",
     "grade": false,
     "grade_id": "note-about-device-usage",
     "locked": true,
     "schema_version": 2,
     "solution": false
    }
   },
   "source": [
    "We can see in the following plot that there are two device types that are more commonly used"
   ]
  },
  {
   "cell_type": "code",
   "execution_count": 30,
   "metadata": {
    "deletable": false,
    "editable": false,
    "nbgrader": {
     "cell_type": "code",
     "checksum": "80767c65e51906a26ac3aa9c6e0d48e5",
     "grade": false,
     "grade_id": "device-usage-plot",
     "locked": true,
     "schema_version": 2,
     "solution": false
    }
   },
   "outputs": [
    {
     "data": {
      "text/plain": [
       "Text(0,0.5,'Number of Tweets')"
      ]
     },
     "execution_count": 30,
     "metadata": {},
     "output_type": "execute_result"
    },
    {
     "data": {
      "image/png": "[encoded data removed]",
      "text/plain": [
       "<matplotlib.figure.Figure at 0x7f401fffce48>"
      ]
     },
     "metadata": {},
     "output_type": "display_data"
    }
   ],
   "source": [
    "trump['source'].value_counts().plot(kind=\"bar\")\n",
    "plt.ylabel(\"Number of Tweets\")"
   ]
  },
  {
   "cell_type": "markdown",
   "metadata": {
    "deletable": false,
    "editable": false,
    "nbgrader": {
     "cell_type": "markdown",
     "checksum": "4fc8de3b5e3282ab8fa3c8f31fa6794c",
     "grade": false,
     "grade_id": "q4b",
     "locked": true,
     "schema_version": 2,
     "solution": false
    }
   },
   "source": [
    "## Question 4b\n",
    "\n",
    "\n",
    "Is there a difference between his Tweet behavior across these devices? We will attempt to answer this question in our subsequent analysis.\n",
    "\n",
    "First, we'll take a look at whether Trump's tweets from an Android come at different times than his tweets from an iPhone. Note that Twitter gives us his tweets in the [UTC timezone](https://www.wikiwand.com/en/List_of_UTC_time_offsets) (notice the `+0000` in the first few tweets)"
   ]
  },
  {
   "cell_type": "code",
   "execution_count": 31,
   "metadata": {
    "deletable": false,
    "editable": false,
    "nbgrader": {
     "cell_type": "code",
     "checksum": "8a6257dbd02d1af40cdfd288d7c37250",
     "grade": false,
     "grade_id": "tweet-created-at",
     "locked": true,
     "schema_version": 2,
     "solution": false
    }
   },
   "outputs": [
    {
     "name": "stdout",
     "output_type": "stream",
     "text": [
      "Fri Oct 26 15:41:19 +0000 2018\n",
      "Fri Oct 26 14:19:39 +0000 2018\n",
      "Fri Oct 26 14:05:49 +0000 2018\n"
     ]
    }
   ],
   "source": [
    "for t in trump_tweets[0:3]:\n",
    "    print(t['created_at'])"
   ]
  },
  {
   "cell_type": "markdown",
   "metadata": {
    "deletable": false,
    "editable": false,
    "nbgrader": {
     "cell_type": "markdown",
     "checksum": "5a4f73d1c7135ddc404472884d7ba6fa",
     "grade": false,
     "grade_id": "convert-to-est-justification",
     "locked": true,
     "schema_version": 2,
     "solution": false
    }
   },
   "source": [
    "We'll convert the tweet times to US Eastern Time, the timezone of New York and Washington D.C., since those are the places we would expect the most tweet activity from Trump."
   ]
  },
  {
   "cell_type": "code",
   "execution_count": 32,
   "metadata": {
    "deletable": false,
    "editable": false,
    "nbgrader": {
     "cell_type": "code",
     "checksum": "6adc54fdcb7560cb4586d97800b8bfab",
     "grade": false,
     "grade_id": "convert-to-est",
     "locked": true,
     "schema_version": 2,
     "solution": false
    }
   },
   "outputs": [
    {
     "data": {
      "text/html": [
       "<div>\n",
       "<style scoped>\n",
       "    .dataframe tbody tr th:only-of-type {\n",
       "        vertical-align: middle;\n",
       "    }\n",
       "\n",
       "    .dataframe tbody tr th {\n",
       "        vertical-align: top;\n",
       "    }\n",
       "\n",
       "    .dataframe thead th {\n",
       "        text-align: right;\n",
       "    }\n",
       "</style>\n",
       "<table border=\"1\" class=\"dataframe\">\n",
       "  <thead>\n",
       "    <tr style=\"text-align: right;\">\n",
       "      <th></th>\n",
       "      <th>retweet_count</th>\n",
       "      <th>source</th>\n",
       "      <th>text</th>\n",
       "      <th>time</th>\n",
       "      <th>est_time</th>\n",
       "    </tr>\n",
       "  </thead>\n",
       "  <tbody>\n",
       "    <tr>\n",
       "      <th>1055846847502258178</th>\n",
       "      <td>6863</td>\n",
       "      <td>Twitter for iPhone</td>\n",
       "      <td>I will be speaking at the Young Black Leadership Summit in 15 minutes where I will address the investigation into the bomb packages.</td>\n",
       "      <td>2018-10-26 15:41:19</td>\n",
       "      <td>2018-10-26 10:41:19-05:00</td>\n",
       "    </tr>\n",
       "    <tr>\n",
       "      <th>1055826295337172993</th>\n",
       "      <td>15343</td>\n",
       "      <td>Twitter for iPhone</td>\n",
       "      <td>Republicans are doing so well in early voting, and at the polls, and now this “Bomb” stuff happens and the momentum greatly slows - news not talking politics. Very unfortunate, what is going on. Republicans, go out and vote!</td>\n",
       "      <td>2018-10-26 14:19:39</td>\n",
       "      <td>2018-10-26 09:19:39-05:00</td>\n",
       "    </tr>\n",
       "    <tr>\n",
       "      <th>1055822810940129283</th>\n",
       "      <td>17734</td>\n",
       "      <td>Twitter for iPhone</td>\n",
       "      <td>Twitter has removed many people from my account and, more importantly, they have seemingly done something that makes it much harder to join - they have stifled growth to a point where it is obvious to all. A few weeks ago it was a Rocket Ship, now it is a Blimp! Total Bias?</td>\n",
       "      <td>2018-10-26 14:05:49</td>\n",
       "      <td>2018-10-26 09:05:49-05:00</td>\n",
       "    </tr>\n",
       "    <tr>\n",
       "      <th>1055820292881350656</th>\n",
       "      <td>12776</td>\n",
       "      <td>Twitter for iPhone</td>\n",
       "      <td>The United States has been spending Billions of Dollars a year on Illegal Immigration. This will not continue. Democrats must give us the votes to pass strong (but fair) laws. If not, we will be forced to play a much tougher hand.</td>\n",
       "      <td>2018-10-26 13:55:48</td>\n",
       "      <td>2018-10-26 08:55:48-05:00</td>\n",
       "    </tr>\n",
       "    <tr>\n",
       "      <th>1055719340832686080</th>\n",
       "      <td>29047</td>\n",
       "      <td>Twitter for iPhone</td>\n",
       "      <td>Funny how lowly rated CNN, and others, can criticize me at will, even blaming me for the current spate of Bombs and ridiculously comparing this to September 11th and the Oklahoma City bombing, yet when I criticize them they go wild and scream, “it’s just not Presidential!”</td>\n",
       "      <td>2018-10-26 07:14:39</td>\n",
       "      <td>2018-10-26 02:14:39-05:00</td>\n",
       "    </tr>\n",
       "  </tbody>\n",
       "</table>\n",
       "</div>"
      ],
      "text/plain": [
       "                     retweet_count              source  \\\n",
       "1055846847502258178           6863  Twitter for iPhone   \n",
       "1055826295337172993          15343  Twitter for iPhone   \n",
       "1055822810940129283          17734  Twitter for iPhone   \n",
       "1055820292881350656          12776  Twitter for iPhone   \n",
       "1055719340832686080          29047  Twitter for iPhone   \n",
       "\n",
       "                                                                                                                                                                                                                                                                                                   text  \\\n",
       "1055846847502258178                                                                                                                                                I will be speaking at the Young Black Leadership Summit in 15 minutes where I will address the investigation into the bomb packages.   \n",
       "1055826295337172993                                                    Republicans are doing so well in early voting, and at the polls, and now this “Bomb” stuff happens and the momentum greatly slows - news not talking politics. Very unfortunate, what is going on. Republicans, go out and vote!   \n",
       "1055822810940129283  Twitter has removed many people from my account and, more importantly, they have seemingly done something that makes it much harder to join - they have stifled growth to a point where it is obvious to all. A few weeks ago it was a Rocket Ship, now it is a Blimp! Total Bias?   \n",
       "1055820292881350656                                              The United States has been spending Billions of Dollars a year on Illegal Immigration. This will not continue. Democrats must give us the votes to pass strong (but fair) laws. If not, we will be forced to play a much tougher hand.   \n",
       "1055719340832686080   Funny how lowly rated CNN, and others, can criticize me at will, even blaming me for the current spate of Bombs and ridiculously comparing this to September 11th and the Oklahoma City bombing, yet when I criticize them they go wild and scream, “it’s just not Presidential!”   \n",
       "\n",
       "                                   time                  est_time  \n",
       "1055846847502258178 2018-10-26 15:41:19 2018-10-26 10:41:19-05:00  \n",
       "1055826295337172993 2018-10-26 14:19:39 2018-10-26 09:19:39-05:00  \n",
       "1055822810940129283 2018-10-26 14:05:49 2018-10-26 09:05:49-05:00  \n",
       "1055820292881350656 2018-10-26 13:55:48 2018-10-26 08:55:48-05:00  \n",
       "1055719340832686080 2018-10-26 07:14:39 2018-10-26 02:14:39-05:00  "
      ]
     },
     "execution_count": 32,
     "metadata": {},
     "output_type": "execute_result"
    }
   ],
   "source": [
    "trump['est_time'] = (\n",
    "    trump['time'].dt.tz_localize(\"UTC\") # Set initial timezone to UTC\n",
    "                 .dt.tz_convert(\"EST\") # Convert to Eastern Time\n",
    ")\n",
    "trump.head()"
   ]
  },
  {
   "cell_type": "markdown",
   "metadata": {
    "deletable": false,
    "editable": false,
    "nbgrader": {
     "cell_type": "markdown",
     "checksum": "62a7fe09ae5f6e81c5112a2052452467",
     "grade": false,
     "grade_id": "need-to-do",
     "locked": true,
     "schema_version": 2,
     "solution": false
    }
   },
   "source": [
    "**What you need to do:**\n",
    "\n",
    "Add a column called `hour` to the `trump` table which contains the hour of the day as floating point number computed by:\n",
    "\n",
    "$$\n",
    "\\text{hour} + \\frac{\\text{minute}}{60} + \\frac{\\text{second}}{60^2}\n",
    "$$\n"
   ]
  },
  {
   "cell_type": "code",
   "execution_count": 33,
   "metadata": {
    "deletable": false,
    "nbgrader": {
     "cell_type": "code",
     "checksum": "06c6a53e7388e12148e57710efe30726",
     "grade": false,
     "grade_id": "q4b-answer",
     "locked": false,
     "schema_version": 2,
     "solution": true
    },
    "tags": [
     "student"
    ]
   },
   "outputs": [],
   "source": [
    "time_list = []\n",
    "\n",
    "for t in trump['est_time']:\n",
    "    time_list.append(t.hour + (t.minute/60) + (t.second/(60**2)))\n",
    "    \n",
    "\n",
    "trump['hour'] = time_list\n",
    "\n",
    "# make a bar plot here\n",
    "# YOUR CODE HERE\n",
    "# raise NotImplementedError()"
   ]
  },
  {
   "cell_type": "code",
   "execution_count": 34,
   "metadata": {
    "deletable": false,
    "editable": false,
    "nbgrader": {
     "cell_type": "code",
     "checksum": "b0fcc19ae4e12541fa73e3e62f334e01",
     "grade": true,
     "grade_id": "q4b-tests",
     "locked": true,
     "points": 1,
     "schema_version": 2,
     "solution": false
    },
    "tags": [
     "test",
     "q04a"
    ]
   },
   "outputs": [],
   "source": [
    "assert np.isclose(trump.loc[690171032150237184]['hour'], 8.93639)"
   ]
  },
  {
   "cell_type": "markdown",
   "metadata": {
    "deletable": false,
    "editable": false,
    "nbgrader": {
     "cell_type": "markdown",
     "checksum": "00c6bf4a7b09b661a2e430d2fd080a55",
     "grade": false,
     "grade_id": "q4c",
     "locked": true,
     "schema_version": 2,
     "solution": false
    }
   },
   "source": [
    "## Question 4c\n",
    "\n",
    "Use this data along with the seaborn `distplot` function to examine the distribution over hours of the day in eastern time that trump tweets on each device for the 2 most commonly used devices.  Your plot should look similar to the following. \n",
    "\n",
    "<img src=\"images/device_hour2.png\" width=\"600px\" />"
   ]
  },
  {
   "cell_type": "code",
   "execution_count": 35,
   "metadata": {
    "deletable": false,
    "nbgrader": {
     "cell_type": "code",
     "checksum": "8098891f5ad326482ed42b89fb116b10",
     "grade": true,
     "grade_id": "q4c-answer",
     "locked": false,
     "points": 2,
     "schema_version": 2,
     "solution": true
    }
   },
   "outputs": [
    {
     "data": {
      "text/plain": [
       "<matplotlib.legend.Legend at 0x7f401ed5cac8>"
      ]
     },
     "execution_count": 35,
     "metadata": {},
     "output_type": "execute_result"
    },
    {
     "data": {
      "image/png": "[encoded data removed]",
      "text/plain": [
       "<matplotlib.figure.Figure at 0x7f401ed5c160>"
      ]
     },
     "metadata": {},
     "output_type": "display_data"
    }
   ],
   "source": [
    "### make your plot here\n",
    "\n",
    "iphone = trump[trump['source'] == 'Twitter for iPhone']\n",
    "android = trump[trump['source'] == 'Twitter for Android']\n",
    "\n",
    "sns.distplot(iphone['hour'], hist = False, label = 'iPhone')\n",
    "sns.distplot(android['hour'], hist = False, label = 'Android')\n",
    "plt.ylabel(\"fraction\")\n",
    "plt.legend()\n",
    "\n",
    "\n",
    "# YOUR CODE HERE\n",
    "# raise NotImplementedError()"
   ]
  },
  {
   "cell_type": "markdown",
   "metadata": {
    "deletable": false,
    "editable": false,
    "nbgrader": {
     "cell_type": "markdown",
     "checksum": "7671d02d0497957893438869ee0b2e73",
     "grade": false,
     "grade_id": "q4d",
     "locked": true,
     "schema_version": 2,
     "solution": false
    }
   },
   "source": [
    "\n",
    "## Question 4d\n",
    "\n",
    "According to [this Verge article](https://www.theverge.com/2017/3/29/15103504/donald-trump-iphone-using-switched-android), Donald Trump switched from an Android to an iPhone sometime in March 2017.\n",
    "\n",
    "Create a figure identical to your figure from 4c, except that you should show the results only from 2016.\n",
    "\n",
    "During the campaign, it was theorized that Donald Trump's tweets from Android were written by him personally, and the tweets from iPhone were from his staff. Does your figure give support to this theory?"
   ]
  },
  {
   "cell_type": "code",
   "execution_count": 36,
   "metadata": {
    "deletable": false,
    "nbgrader": {
     "cell_type": "code",
     "checksum": "2a4bfea63d20cf7bdd4eeaedd3cd3d2d",
     "grade": true,
     "grade_id": "cell-ba90f75e6f9b73d6",
     "locked": false,
     "points": 1,
     "schema_version": 2,
     "solution": true
    }
   },
   "outputs": [
    {
     "data": {
      "text/plain": [
       "<matplotlib.axes._subplots.AxesSubplot at 0x7f4020146400>"
      ]
     },
     "execution_count": 36,
     "metadata": {},
     "output_type": "execute_result"
    },
    {
     "data": {
      "image/png": "[encoded data removed]",
      "text/plain": [
       "<matplotlib.figure.Figure at 0x7f4020160b00>"
      ]
     },
     "metadata": {},
     "output_type": "display_data"
    }
   ],
   "source": [
    "### make your plot here\n",
    "# YOUR CODE HERE\n",
    "from datetime import datetime\n",
    "\n",
    "START_DATE = datetime(2016, 1, 1)\n",
    "END_DATE = datetime(2016, 12, 31)\n",
    "\n",
    "ip_2016 = iphone[(iphone['time'] >= START_DATE) & (iphone['time'] <= END_DATE)]\n",
    "an_2016 = android[(android['time'] >= START_DATE) & (android['time'] <= END_DATE)]\n",
    "\n",
    "sns.distplot(ip_2016['hour'], hist = False, label = 'iPhone')\n",
    "sns.distplot(an_2016['hour'], hist = False, label = 'Android')\n",
    "\n",
    "\n",
    "# raise NotImplementedError()"
   ]
  },
  {
   "cell_type": "markdown",
   "metadata": {
    "deletable": false,
    "nbgrader": {
     "cell_type": "markdown",
     "checksum": "dd2a71cbda4d42eaf1a86490a723f4ea",
     "grade": true,
     "grade_id": "q4d-answer",
     "locked": false,
     "points": 1,
     "schema_version": 2,
     "solution": true
    },
    "tags": [
     "student",
     "written"
    ]
   },
   "source": [
    "Yes we see that during the campaign most of the tweets from iphone ranged between hours 10-20 this could be due to a specific time frame that Donald Trumps staff was assigned to write tweets. But the android curve spikes between hours 0-10 which is also the same spike in the curve that contained all the years this indicates that Donald Trump was using an android around those hours until the switch to iphone where the shift in the android curve begins to resemble the android curve."
   ]
  },
  {
   "cell_type": "markdown",
   "metadata": {
    "deletable": false,
    "editable": false,
    "nbgrader": {
     "cell_type": "markdown",
     "checksum": "a59afe12404b1f0811e16801674c53cf",
     "grade": false,
     "grade_id": "q5",
     "locked": true,
     "schema_version": 2,
     "solution": false
    }
   },
   "source": [
    "## Question 5\n",
    "\n",
    "Let's now look at which device he has used over the entire time period of this dataset.\n",
    "\n",
    "To examine the distribution of dates we will convert the date to a fractional year that can be plotted as a distribution.\n",
    "\n",
    "(Code borrowed from https://stackoverflow.com/questions/6451655/python-how-to-convert-datetime-dates-to-decimal-years)"
   ]
  },
  {
   "cell_type": "code",
   "execution_count": 37,
   "metadata": {
    "deletable": false,
    "editable": false,
    "nbgrader": {
     "cell_type": "code",
     "checksum": "473e641d026c095c438d79d7aa94b2f2",
     "grade": false,
     "grade_id": "fractional-year",
     "locked": true,
     "schema_version": 2,
     "solution": false
    }
   },
   "outputs": [],
   "source": [
    "import datetime\n",
    "def year_fraction(date):\n",
    "    start = datetime.date(date.year, 1, 1).toordinal()\n",
    "    year_length = datetime.date(date.year+1, 1, 1).toordinal() - start\n",
    "    return date.year + float(date.toordinal() - start) / year_length\n",
    "\n",
    "\n",
    "trump['year'] = trump['time'].apply(year_fraction)"
   ]
  },
  {
   "cell_type": "markdown",
   "metadata": {
    "deletable": false,
    "editable": false,
    "nbgrader": {
     "cell_type": "markdown",
     "checksum": "64eb067a351f92005ef87b72f2298f8a",
     "grade": false,
     "grade_id": "q5a",
     "locked": true,
     "schema_version": 2,
     "solution": false
    }
   },
   "source": [
    "### Question 5a\n",
    "\n",
    "Use the `sns.distplot` to overlay the distributions of the 2 most frequently used web technologies over the years.  Your final plot should look like:\n",
    "\n",
    "<img src=\"images/source_years.png\" width=\"600px\" />\n"
   ]
  },
  {
   "cell_type": "code",
   "execution_count": 38,
   "metadata": {
    "deletable": false,
    "nbgrader": {
     "cell_type": "code",
     "checksum": "1e4c5f933e6074bd85bb221f71bf9e9b",
     "grade": true,
     "grade_id": "q5a-answer",
     "locked": false,
     "points": 2,
     "schema_version": 2,
     "solution": true
    }
   },
   "outputs": [
    {
     "data": {
      "text/plain": [
       "<matplotlib.legend.Legend at 0x7f401ed33e80>"
      ]
     },
     "execution_count": 38,
     "metadata": {},
     "output_type": "execute_result"
    },
    {
     "data": {
      "image/png": "[encoded data removed]",
      "text/plain": [
       "<matplotlib.figure.Figure at 0x7f40201337f0>"
      ]
     },
     "metadata": {},
     "output_type": "display_data"
    }
   ],
   "source": [
    "# YOUR CODE HERE\n",
    "# raise NotImplementedError()\n",
    "\n",
    "iphone_w_year = trump[trump['source'] == 'Twitter for iPhone']\n",
    "android_w_year = trump[trump['source'] == 'Twitter for Android']\n",
    "\n",
    "sns.distplot(iphone_w_year['year'], label = 'iPhone')\n",
    "sns.distplot(android_w_year['year'], label = 'Android')\n",
    "plt.legend()\n"
   ]
  },
  {
   "cell_type": "markdown",
   "metadata": {
    "deletable": false,
    "editable": false,
    "nbgrader": {
     "cell_type": "markdown",
     "checksum": "9160f63c38f2638e31ad51b3260bef67",
     "grade": false,
     "grade_id": "q6-header",
     "locked": true,
     "schema_version": 2,
     "solution": false
    }
   },
   "source": [
    "## Question 6: Sentiment Analysis\n",
    "\n",
    "It turns out that we can use the words in Trump's tweets to calculate a measure of the sentiment of the tweet. For example, the sentence \"I love America!\" has positive sentiment, whereas the sentence \"I hate taxes!\" has a negative sentiment. In addition, some words have stronger positive / negative sentiment than others: \"I love America.\" is more positive than \"I like America.\"\n",
    "\n",
    "We will use the [VADER (Valence Aware Dictionary and sEntiment Reasoner)](https://github.com/cjhutto/vaderSentiment) lexicon to analyze the sentiment of Trump's tweets. VADER is a lexicon and rule-based sentiment analysis tool that is specifically attuned to sentiments expressed in social media which is great for our usage.\n",
    "\n",
    "The VADER lexicon gives the sentiment of individual words. Run the following cell to show the first few rows of the lexicon:"
   ]
  },
  {
   "cell_type": "code",
   "execution_count": 39,
   "metadata": {
    "deletable": false,
    "editable": false,
    "nbgrader": {
     "cell_type": "code",
     "checksum": "4bdf61c45c5bf6f12052419af685d59e",
     "grade": false,
     "grade_id": "head-vader",
     "locked": true,
     "schema_version": 2,
     "solution": false
    }
   },
   "outputs": [
    {
     "name": "stdout",
     "output_type": "stream",
     "text": [
      "$:\t-1.5\t0.80623\t[-1, -1, -1, -1, -3, -1, -3, -1, -2, -1]\n",
      "%)\t-0.4\t1.0198\t[-1, 0, -1, 0, 0, -2, -1, 2, -1, 0]\n",
      "%-)\t-1.5\t1.43178\t[-2, 0, -2, -2, -1, 2, -2, -3, -2, -3]\n",
      "&-:\t-0.4\t1.42829\t[-3, -1, 0, 0, -1, -1, -1, 2, -1, 2]\n",
      "&:\t-0.7\t0.64031\t[0, -1, -1, -1, 1, -1, -1, -1, -1, -1]\n",
      "( '}{' )\t1.6\t0.66332\t[1, 2, 2, 1, 1, 2, 2, 1, 3, 1]\n",
      "(%\t-0.9\t0.9434\t[0, 0, 1, -1, -1, -1, -2, -2, -1, -2]\n",
      "('-:\t2.2\t1.16619\t[4, 1, 4, 3, 1, 2, 3, 1, 2, 1]\n",
      "(':\t2.3\t0.9\t[1, 3, 3, 2, 2, 4, 2, 3, 1, 2]\n",
      "((-:\t2.1\t0.53852\t[2, 2, 2, 1, 2, 3, 2, 2, 3, 2]\n",
      "\n"
     ]
    }
   ],
   "source": [
    "print(''.join(open(\"vader_lexicon.txt\").readlines()[:10]))"
   ]
  },
  {
   "cell_type": "markdown",
   "metadata": {
    "deletable": false,
    "editable": false,
    "nbgrader": {
     "cell_type": "markdown",
     "checksum": "631d386141906603b7febb8ce0901638",
     "grade": false,
     "grade_id": "q6a-header",
     "locked": true,
     "schema_version": 2,
     "solution": false
    }
   },
   "source": [
    "## Question 6a\n",
    "\n",
    "As you can see, the lexicon contains emojis too! The first column of the lexicon is the *token*, or the word itself. The second column is the *polarity* of the word, or how positive / negative it is.\n",
    "\n",
    "(How did they decide the polarities of these words? What are the other two columns in the lexicon? See the link above.)\n",
    "\n",
    " Read in the lexicon into a DataFrame called `sent`. The index of the DF should be the tokens in the lexicon. `sent` should have one column: `polarity`: The polarity of each token."
   ]
  },
  {
   "cell_type": "code",
   "execution_count": 40,
   "metadata": {
    "deletable": false,
    "nbgrader": {
     "cell_type": "code",
     "checksum": "962759aad285ccfb16f06dc8dd86035c",
     "grade": false,
     "grade_id": "q6a1",
     "locked": false,
     "schema_version": 2,
     "solution": true
    },
    "tags": [
     "student"
    ]
   },
   "outputs": [],
   "source": [
    "temp = pd.read_csv(\"vader_lexicon.txt\", delimiter = '\\t', names =['Characters', 'polarity', 'Extra1', 'Extra2'] )\n",
    "\n",
    "d = {'polarity': temp[\"polarity\"].values}\n",
    "df = pd.DataFrame(data=d)\n",
    "sent = df.set_index(temp[\"Characters\"].values)\n",
    "\n",
    "# YOUR CODE HERE\n",
    "#raise NotImplementedError()"
   ]
  },
  {
   "cell_type": "code",
   "execution_count": 41,
   "metadata": {
    "deletable": false,
    "editable": false,
    "nbgrader": {
     "cell_type": "code",
     "checksum": "417f93b4eb89b4206d6b77725b72e56a",
     "grade": true,
     "grade_id": "q6a-test1",
     "locked": true,
     "points": 1,
     "schema_version": 2,
     "solution": false
    },
    "tags": [
     "test",
     "q05a"
    ]
   },
   "outputs": [],
   "source": [
    "assert isinstance(sent, pd.DataFrame)\n",
    "assert sent.shape == (7517, 1)\n",
    "assert list(sent.index[5000:5005]) == ['paranoids', 'pardon', 'pardoned', 'pardoning', 'pardons']\n",
    "assert np.allclose(sent['polarity'].head(), [-1.5, -0.4, -1.5, -0.4, -0.7])"
   ]
  },
  {
   "cell_type": "code",
   "execution_count": 42,
   "metadata": {},
   "outputs": [
    {
     "data": {
      "text/html": [
       "<div>\n",
       "<style scoped>\n",
       "    .dataframe tbody tr th:only-of-type {\n",
       "        vertical-align: middle;\n",
       "    }\n",
       "\n",
       "    .dataframe tbody tr th {\n",
       "        vertical-align: top;\n",
       "    }\n",
       "\n",
       "    .dataframe thead th {\n",
       "        text-align: right;\n",
       "    }\n",
       "</style>\n",
       "<table border=\"1\" class=\"dataframe\">\n",
       "  <thead>\n",
       "    <tr style=\"text-align: right;\">\n",
       "      <th></th>\n",
       "      <th>polarity</th>\n",
       "    </tr>\n",
       "  </thead>\n",
       "  <tbody>\n",
       "    <tr>\n",
       "      <th>$:</th>\n",
       "      <td>-1.5</td>\n",
       "    </tr>\n",
       "    <tr>\n",
       "      <th>%)</th>\n",
       "      <td>-0.4</td>\n",
       "    </tr>\n",
       "    <tr>\n",
       "      <th>%-)</th>\n",
       "      <td>-1.5</td>\n",
       "    </tr>\n",
       "    <tr>\n",
       "      <th>&amp;-:</th>\n",
       "      <td>-0.4</td>\n",
       "    </tr>\n",
       "    <tr>\n",
       "      <th>&amp;:</th>\n",
       "      <td>-0.7</td>\n",
       "    </tr>\n",
       "    <tr>\n",
       "      <th>( '}{' )</th>\n",
       "      <td>1.6</td>\n",
       "    </tr>\n",
       "    <tr>\n",
       "      <th>(%</th>\n",
       "      <td>-0.9</td>\n",
       "    </tr>\n",
       "    <tr>\n",
       "      <th>('-:</th>\n",
       "      <td>2.2</td>\n",
       "    </tr>\n",
       "    <tr>\n",
       "      <th>(':</th>\n",
       "      <td>2.3</td>\n",
       "    </tr>\n",
       "    <tr>\n",
       "      <th>((-:</th>\n",
       "      <td>2.1</td>\n",
       "    </tr>\n",
       "    <tr>\n",
       "      <th>(*</th>\n",
       "      <td>1.1</td>\n",
       "    </tr>\n",
       "    <tr>\n",
       "      <th>(-%</th>\n",
       "      <td>-0.7</td>\n",
       "    </tr>\n",
       "    <tr>\n",
       "      <th>(-*</th>\n",
       "      <td>1.3</td>\n",
       "    </tr>\n",
       "    <tr>\n",
       "      <th>(-:</th>\n",
       "      <td>1.6</td>\n",
       "    </tr>\n",
       "    <tr>\n",
       "      <th>(-:0</th>\n",
       "      <td>2.8</td>\n",
       "    </tr>\n",
       "    <tr>\n",
       "      <th>(-:&lt;</th>\n",
       "      <td>-0.4</td>\n",
       "    </tr>\n",
       "    <tr>\n",
       "      <th>(-:o</th>\n",
       "      <td>1.5</td>\n",
       "    </tr>\n",
       "    <tr>\n",
       "      <th>(-:O</th>\n",
       "      <td>1.5</td>\n",
       "    </tr>\n",
       "    <tr>\n",
       "      <th>(-:{</th>\n",
       "      <td>-0.1</td>\n",
       "    </tr>\n",
       "    <tr>\n",
       "      <th>(-:|&gt;*</th>\n",
       "      <td>1.9</td>\n",
       "    </tr>\n",
       "    <tr>\n",
       "      <th>(-;</th>\n",
       "      <td>1.3</td>\n",
       "    </tr>\n",
       "    <tr>\n",
       "      <th>(-;|</th>\n",
       "      <td>2.1</td>\n",
       "    </tr>\n",
       "    <tr>\n",
       "      <th>(8</th>\n",
       "      <td>2.6</td>\n",
       "    </tr>\n",
       "    <tr>\n",
       "      <th>(:</th>\n",
       "      <td>2.2</td>\n",
       "    </tr>\n",
       "    <tr>\n",
       "      <th>(:0</th>\n",
       "      <td>2.4</td>\n",
       "    </tr>\n",
       "    <tr>\n",
       "      <th>(:&lt;</th>\n",
       "      <td>-0.2</td>\n",
       "    </tr>\n",
       "    <tr>\n",
       "      <th>(:o</th>\n",
       "      <td>2.5</td>\n",
       "    </tr>\n",
       "    <tr>\n",
       "      <th>(:O</th>\n",
       "      <td>2.5</td>\n",
       "    </tr>\n",
       "    <tr>\n",
       "      <th>(;</th>\n",
       "      <td>1.1</td>\n",
       "    </tr>\n",
       "    <tr>\n",
       "      <th>(;&lt;</th>\n",
       "      <td>0.3</td>\n",
       "    </tr>\n",
       "    <tr>\n",
       "      <th>...</th>\n",
       "      <td>...</td>\n",
       "    </tr>\n",
       "    <tr>\n",
       "      <th>xd</th>\n",
       "      <td>2.8</td>\n",
       "    </tr>\n",
       "    <tr>\n",
       "      <th>xp</th>\n",
       "      <td>1.6</td>\n",
       "    </tr>\n",
       "    <tr>\n",
       "      <th>yay</th>\n",
       "      <td>2.4</td>\n",
       "    </tr>\n",
       "    <tr>\n",
       "      <th>yeah</th>\n",
       "      <td>1.2</td>\n",
       "    </tr>\n",
       "    <tr>\n",
       "      <th>yearning</th>\n",
       "      <td>0.5</td>\n",
       "    </tr>\n",
       "    <tr>\n",
       "      <th>yeees</th>\n",
       "      <td>1.7</td>\n",
       "    </tr>\n",
       "    <tr>\n",
       "      <th>yep</th>\n",
       "      <td>1.2</td>\n",
       "    </tr>\n",
       "    <tr>\n",
       "      <th>yes</th>\n",
       "      <td>1.7</td>\n",
       "    </tr>\n",
       "    <tr>\n",
       "      <th>youthful</th>\n",
       "      <td>1.3</td>\n",
       "    </tr>\n",
       "    <tr>\n",
       "      <th>yucky</th>\n",
       "      <td>-1.8</td>\n",
       "    </tr>\n",
       "    <tr>\n",
       "      <th>yummy</th>\n",
       "      <td>2.4</td>\n",
       "    </tr>\n",
       "    <tr>\n",
       "      <th>zealot</th>\n",
       "      <td>-1.9</td>\n",
       "    </tr>\n",
       "    <tr>\n",
       "      <th>zealots</th>\n",
       "      <td>-0.8</td>\n",
       "    </tr>\n",
       "    <tr>\n",
       "      <th>zealous</th>\n",
       "      <td>0.5</td>\n",
       "    </tr>\n",
       "    <tr>\n",
       "      <th>{:</th>\n",
       "      <td>1.8</td>\n",
       "    </tr>\n",
       "    <tr>\n",
       "      <th>|-0</th>\n",
       "      <td>-1.2</td>\n",
       "    </tr>\n",
       "    <tr>\n",
       "      <th>|-:</th>\n",
       "      <td>-0.8</td>\n",
       "    </tr>\n",
       "    <tr>\n",
       "      <th>|-:&gt;</th>\n",
       "      <td>-1.6</td>\n",
       "    </tr>\n",
       "    <tr>\n",
       "      <th>|-o</th>\n",
       "      <td>-1.2</td>\n",
       "    </tr>\n",
       "    <tr>\n",
       "      <th>|:</th>\n",
       "      <td>-0.5</td>\n",
       "    </tr>\n",
       "    <tr>\n",
       "      <th>|;-)</th>\n",
       "      <td>2.2</td>\n",
       "    </tr>\n",
       "    <tr>\n",
       "      <th>|=</th>\n",
       "      <td>-0.4</td>\n",
       "    </tr>\n",
       "    <tr>\n",
       "      <th>|^:</th>\n",
       "      <td>-1.1</td>\n",
       "    </tr>\n",
       "    <tr>\n",
       "      <th>|o:</th>\n",
       "      <td>-0.9</td>\n",
       "    </tr>\n",
       "    <tr>\n",
       "      <th>||-:</th>\n",
       "      <td>-2.3</td>\n",
       "    </tr>\n",
       "    <tr>\n",
       "      <th>}:</th>\n",
       "      <td>-2.1</td>\n",
       "    </tr>\n",
       "    <tr>\n",
       "      <th>}:(</th>\n",
       "      <td>-2.0</td>\n",
       "    </tr>\n",
       "    <tr>\n",
       "      <th>}:)</th>\n",
       "      <td>0.4</td>\n",
       "    </tr>\n",
       "    <tr>\n",
       "      <th>}:-(</th>\n",
       "      <td>-2.1</td>\n",
       "    </tr>\n",
       "    <tr>\n",
       "      <th>}:-)</th>\n",
       "      <td>0.3</td>\n",
       "    </tr>\n",
       "  </tbody>\n",
       "</table>\n",
       "<p>7517 rows × 1 columns</p>\n",
       "</div>"
      ],
      "text/plain": [
       "          polarity\n",
       "$:            -1.5\n",
       "%)            -0.4\n",
       "%-)           -1.5\n",
       "&-:           -0.4\n",
       "&:            -0.7\n",
       "( '}{' )       1.6\n",
       "(%            -0.9\n",
       "('-:           2.2\n",
       "(':            2.3\n",
       "((-:           2.1\n",
       "(*             1.1\n",
       "(-%           -0.7\n",
       "(-*            1.3\n",
       "(-:            1.6\n",
       "(-:0           2.8\n",
       "(-:<          -0.4\n",
       "(-:o           1.5\n",
       "(-:O           1.5\n",
       "(-:{          -0.1\n",
       "(-:|>*         1.9\n",
       "(-;            1.3\n",
       "(-;|           2.1\n",
       "(8             2.6\n",
       "(:             2.2\n",
       "(:0            2.4\n",
       "(:<           -0.2\n",
       "(:o            2.5\n",
       "(:O            2.5\n",
       "(;             1.1\n",
       "(;<            0.3\n",
       "...            ...\n",
       "xd             2.8\n",
       "xp             1.6\n",
       "yay            2.4\n",
       "yeah           1.2\n",
       "yearning       0.5\n",
       "yeees          1.7\n",
       "yep            1.2\n",
       "yes            1.7\n",
       "youthful       1.3\n",
       "yucky         -1.8\n",
       "yummy          2.4\n",
       "zealot        -1.9\n",
       "zealots       -0.8\n",
       "zealous        0.5\n",
       "{:             1.8\n",
       "|-0           -1.2\n",
       "|-:           -0.8\n",
       "|-:>          -1.6\n",
       "|-o           -1.2\n",
       "|:            -0.5\n",
       "|;-)           2.2\n",
       "|=            -0.4\n",
       "|^:           -1.1\n",
       "|o:           -0.9\n",
       "||-:          -2.3\n",
       "}:            -2.1\n",
       "}:(           -2.0\n",
       "}:)            0.4\n",
       "}:-(          -2.1\n",
       "}:-)           0.3\n",
       "\n",
       "[7517 rows x 1 columns]"
      ]
     },
     "execution_count": 42,
     "metadata": {},
     "output_type": "execute_result"
    }
   ],
   "source": [
    "sent"
   ]
  },
  {
   "cell_type": "markdown",
   "metadata": {
    "deletable": false,
    "editable": false,
    "nbgrader": {
     "cell_type": "markdown",
     "checksum": "53a09bb6ee188a572ee0c8501087ac9c",
     "grade": false,
     "grade_id": "q6b-header",
     "locked": true,
     "schema_version": 2,
     "solution": false
    }
   },
   "source": [
    "## Question 6b\n",
    "\n",
    "Now, let's use this lexicon to calculate the overall sentiment for each of Trump's tweets. Here's the basic idea:\n",
    "\n",
    "1. For each tweet, find the sentiment of each word.\n",
    "2. Calculate the sentiment of each tweet by taking the sum of the sentiments of its words.\n",
    "\n",
    "First, let's lowercase the text in the tweets since the lexicon is also lowercase. Set the `text` column of the `trump` DF to be the lowercased text of each tweet."
   ]
  },
  {
   "cell_type": "code",
   "execution_count": 43,
   "metadata": {
    "deletable": false,
    "nbgrader": {
     "cell_type": "code",
     "checksum": "a8bb2469a666ad8f1388abb6ad808881",
     "grade": false,
     "grade_id": "q6b-answer",
     "locked": false,
     "schema_version": 2,
     "solution": true
    },
    "tags": [
     "student"
    ]
   },
   "outputs": [],
   "source": [
    "trump['text'] = trump['text'].str.lower()\n",
    "\n",
    "# YOUR CODE HERE\n",
    "# raise NotImplementedError()"
   ]
  },
  {
   "cell_type": "code",
   "execution_count": 44,
   "metadata": {
    "deletable": false,
    "editable": false,
    "nbgrader": {
     "cell_type": "code",
     "checksum": "13de085e42b82bf985f60f6489ed6946",
     "grade": true,
     "grade_id": "q6b-test",
     "locked": true,
     "points": 1,
     "schema_version": 2,
     "solution": false
    },
    "tags": [
     "test",
     "q05b"
    ]
   },
   "outputs": [],
   "source": [
    "assert trump['text'].loc[884740553040175104] == 'working hard to get the olympics for the united states (l.a.). stay tuned!'"
   ]
  },
  {
   "cell_type": "markdown",
   "metadata": {
    "deletable": false,
    "editable": false,
    "nbgrader": {
     "cell_type": "markdown",
     "checksum": "b985c716dee1121b3764f29e1648fe14",
     "grade": false,
     "grade_id": "q6c-header",
     "locked": true,
     "schema_version": 2,
     "solution": false
    }
   },
   "source": [
    "## Question 6c\n",
    "\n",
    "Now, let's get rid of punctuation since it'll cause us to fail to match words. Create a new column called `no_punc` in the `trump` DF to be the lowercased text of each tweet with all punctuation replaced by a single space. We consider punctuation characters to be any character that isn't a Unicode word character or a whitespace character. You may want to consult the Python documentation on regexes for this problem.\n",
    "\n",
    "(Why don't we simply remove punctuation instead of replacing with a space? See if you can figure this out by looking at the tweet data.)"
   ]
  },
  {
   "cell_type": "code",
   "execution_count": 45,
   "metadata": {
    "deletable": false,
    "nbgrader": {
     "cell_type": "code",
     "checksum": "2901325706be092abb437c239e7d3d83",
     "grade": false,
     "grade_id": "q6c",
     "locked": false,
     "schema_version": 2,
     "solution": true
    },
    "tags": [
     "student"
    ]
   },
   "outputs": [],
   "source": [
    "# Save your regex in punct_re\n",
    "\n",
    "\n",
    "punct_re = r'[^\\w\\s]'\n",
    "trump['no_punc'] = trump['text'].str.replace(punct_re ,' ')\n",
    "\n",
    "# YOUR CODE HERE\n",
    "# raise NotImplementedError()"
   ]
  },
  {
   "cell_type": "code",
   "execution_count": 46,
   "metadata": {
    "deletable": false,
    "editable": false,
    "nbgrader": {
     "cell_type": "code",
     "checksum": "acba51f5c1ed85ceafe923184be4be33",
     "grade": true,
     "grade_id": "q6c-test",
     "locked": true,
     "points": 1,
     "schema_version": 2,
     "solution": false
    },
    "tags": [
     "test",
     "q05c"
    ]
   },
   "outputs": [],
   "source": [
    "assert isinstance(punct_re, str)\n",
    "assert re.search(punct_re, 'this') is None\n",
    "assert re.search(punct_re, 'this is ok') is None\n",
    "assert re.search(punct_re, 'this is\\nok') is None\n",
    "assert re.search(punct_re, 'this is not ok.') is not None\n",
    "assert re.search(punct_re, 'this#is#ok') is not None\n",
    "assert re.search(punct_re, 'this^is ok') is not None\n",
    "assert trump['no_punc'].loc[800329364986626048] == 'i watched parts of  nbcsnl saturday night live last night  it is a totally one sided  biased show   nothing funny at all  equal time for us '\n",
    "assert trump['no_punc'].loc[894620077634592769] == 'on  purpleheartday i thank all the brave men and women who have sacrificed in battle for this great nation   usa   https   t co qmfdlslp6p'\n",
    "# If you fail these tests, you accidentally changed the text column\n",
    "assert trump['text'].loc[884740553040175104] == 'working hard to get the olympics for the united states (l.a.). stay tuned!'"
   ]
  },
  {
   "cell_type": "markdown",
   "metadata": {
    "deletable": false,
    "editable": false,
    "nbgrader": {
     "cell_type": "markdown",
     "checksum": "f5839488bd1747eb5a57c1f22124fd25",
     "grade": false,
     "grade_id": "q6d-header",
     "locked": true,
     "schema_version": 2,
     "solution": false
    }
   },
   "source": [
    "## Question 6d:\n",
    "\n",
    "\n",
    "Now, let's convert the tweets into what's called a [*tidy format*](https://cran.r-project.org/web/packages/tidyr/vignettes/tidy-data.html) to make the sentiments easier to calculate. Use the `no_punc` column of `trump` to create a table called `tidy_format`. The index of the table should be the IDs of the tweets, repeated once for every word in the tweet. It has two columns:\n",
    "\n",
    "1. `num`: The location of the word in the tweet. For example, if the tweet was \"i love america\", then the location of the word \"i\" is 0, \"love\" is 1, and \"america\" is 2.\n",
    "2. `word`: The individual words of each tweet.\n",
    "\n",
    "The first few rows of our `tidy_format` table look like:\n",
    "\n",
    "<table border=\"1\" class=\"dataframe\">\n",
    "  <thead>\n",
    "    <tr style=\"text-align: right;\">\n",
    "      <th></th>\n",
    "      <th>num</th>\n",
    "      <th>word</th>\n",
    "    </tr>\n",
    "  </thead>\n",
    "  <tbody>\n",
    "    <tr>\n",
    "      <th>894661651760377856</th>\n",
    "      <td>0</td>\n",
    "      <td>i</td>\n",
    "    </tr>\n",
    "    <tr>\n",
    "      <th>894661651760377856</th>\n",
    "      <td>1</td>\n",
    "      <td>think</td>\n",
    "    </tr>\n",
    "    <tr>\n",
    "      <th>894661651760377856</th>\n",
    "      <td>2</td>\n",
    "      <td>senator</td>\n",
    "    </tr>\n",
    "    <tr>\n",
    "      <th>894661651760377856</th>\n",
    "      <td>3</td>\n",
    "      <td>blumenthal</td>\n",
    "    </tr>\n",
    "    <tr>\n",
    "      <th>894661651760377856</th>\n",
    "      <td>4</td>\n",
    "      <td>should</td>\n",
    "    </tr>\n",
    "  </tbody>\n",
    "</table>\n",
    "\n",
    "**Note that you'll get different results depending on when you pulled in the tweets.** However, you can double check that your tweet with ID `894661651760377856` has the same rows as ours. Our tests don't check whether your table looks exactly like ours.\n",
    "\n",
    "As usual, try to avoid using any for loops. Our solution uses a chain of 5 methods on the 'trump' DF, albeit using some rather advanced Pandas hacking.\n",
    "\n",
    "* **Hint 1:** Try looking at the `expand` argument to pandas' `str.split`.\n",
    "\n",
    "* **Hint 2:** Try looking at the `stack()` method.\n",
    "\n",
    "* **Hint 3:** Try looking at the `level` parameter of the `reset_index` method.\n"
   ]
  },
  {
   "cell_type": "code",
   "execution_count": 47,
   "metadata": {
    "deletable": false,
    "nbgrader": {
     "cell_type": "code",
     "checksum": "71f93a81cbd4dd1b2ff47a6d65ef758e",
     "grade": false,
     "grade_id": "q6d-answer",
     "locked": false,
     "schema_version": 2,
     "solution": true
    },
    "tags": [
     "student"
    ]
   },
   "outputs": [],
   "source": [
    "\n",
    "\n",
    "tidy_format = trump[\"no_punc\"].str.split(expand = True).stack().reset_index(level = 1).rename(columns={\"level_1\": \"num\", 0: \"word\"})\n"
   ]
  },
  {
   "cell_type": "code",
   "execution_count": 48,
   "metadata": {
    "deletable": false,
    "editable": false,
    "nbgrader": {
     "cell_type": "code",
     "checksum": "78b35d7cc8348ceb6ffbd17591dfd4f1",
     "grade": true,
     "grade_id": "q6d-tests",
     "locked": true,
     "points": 1,
     "schema_version": 2,
     "solution": false
    },
    "tags": [
     "test",
     "q05d"
    ]
   },
   "outputs": [],
   "source": [
    "assert tidy_format.loc[894661651760377856].shape == (27, 2)\n",
    "assert ' '.join(list(tidy_format.loc[894661651760377856]['word'])) == 'i think senator blumenthal should take a nice long vacation in vietnam where he lied about his service so he can at least say he was there'"
   ]
  },
  {
   "cell_type": "markdown",
   "metadata": {
    "deletable": false,
    "editable": false,
    "nbgrader": {
     "cell_type": "markdown",
     "checksum": "b170181366bfdd62b6d5df9e487479b3",
     "grade": false,
     "grade_id": "q6e-header",
     "locked": true,
     "schema_version": 2,
     "solution": false
    }
   },
   "source": [
    "## Question 6e:\n",
    "\n",
    "Now that we have this table in the tidy format, it becomes much easier to find the sentiment of each tweet: we can join the table with the lexicon table. \n",
    "\n",
    "Add a `polarity` column to the `trump` table.  The `polarity` column should contain the sum of the sentiment polarity of each word in the text of the tweet.\n",
    "\n",
    "**Hint** you will need to merge the `tidy_format` and `sent` tables and group the final answer.\n"
   ]
  },
  {
   "cell_type": "code",
   "execution_count": 49,
   "metadata": {
    "deletable": false,
    "nbgrader": {
     "cell_type": "code",
     "checksum": "5ad778cbb8a86c9255acac2d8799fa96",
     "grade": false,
     "grade_id": "q6e",
     "locked": false,
     "schema_version": 2,
     "solution": true
    },
    "tags": [
     "student"
    ]
   },
   "outputs": [],
   "source": [
    "\n",
    "merge = tidy_format.merge(sent, left_on = 'word', right_index = True, how = 'left')\n",
    "merge.fillna(0)\n",
    "trump['polarity'] = merge.groupby(merge.index).aggregate(sum)['polarity']"
   ]
  },
  {
   "cell_type": "code",
   "execution_count": 50,
   "metadata": {
    "deletable": false,
    "editable": false,
    "nbgrader": {
     "cell_type": "code",
     "checksum": "ff43fac8ac5a95a2eef4bbb52405ad16",
     "grade": true,
     "grade_id": "q6e-tests",
     "locked": true,
     "points": 2,
     "schema_version": 2,
     "solution": false
    },
    "tags": [
     "test",
     "q05e"
    ]
   },
   "outputs": [],
   "source": [
    "assert np.allclose(trump.loc[744701872456536064, 'polarity'], 8.4)\n",
    "assert np.allclose(trump.loc[745304731346702336, 'polarity'], 2.5)\n",
    "assert np.allclose(trump.loc[744519497764184064, 'polarity'], 1.7)\n",
    "assert np.allclose(trump.loc[894661651760377856, 'polarity'], 0.2)\n",
    "assert np.allclose(trump.loc[894620077634592769, 'polarity'], 5.4)\n",
    "# If you fail this test, you dropped tweets with 0 polarity\n",
    "assert np.allclose(trump.loc[744355251365511169, 'polarity'], 0.0)"
   ]
  },
  {
   "cell_type": "markdown",
   "metadata": {
    "deletable": false,
    "editable": false,
    "nbgrader": {
     "cell_type": "markdown",
     "checksum": "1d52c721610f2c6a5e4862a1866e5abc",
     "grade": false,
     "grade_id": "a-note-on-vader",
     "locked": true,
     "schema_version": 2,
     "solution": false
    }
   },
   "source": [
    "Now we have a measure of the sentiment of each of his tweets! Note that this calculation is rather basic; you can read over the VADER readme to understand a more robust sentiment analysis.\n",
    "\n",
    "Now, run the cells below to see the most positive and most negative tweets from Trump in your dataset:"
   ]
  },
  {
   "cell_type": "code",
   "execution_count": 51,
   "metadata": {
    "deletable": false,
    "editable": false,
    "nbgrader": {
     "cell_type": "code",
     "checksum": "3ea0c421557a05c5a03c51515a5fdc78",
     "grade": false,
     "grade_id": "negative-tweets",
     "locked": true,
     "schema_version": 2,
     "solution": false
    }
   },
   "outputs": [
    {
     "name": "stdout",
     "output_type": "stream",
     "text": [
      "Most negative tweets:\n",
      "\n",
      "   horrible and cowardly terrorist attack on innocent and defenseless worshipers in egypt. the world cannot tolerate terrorism, we must defeat them militarily and discredit the extremist ideology that forms the basis of their existence!\n",
      "\n",
      "   horrible and cowardly terrorist attack on innocent and defenseless worshipers in egypt. the world cannot tolerate terrorism, we must defeat them militarily and discredit the extremist ideology that forms the basis of their existence!\n",
      "\n",
      "   nyc terrorist was happy as he asked to hang isis flag in his hospital room. he killed 8 people, badly injured 12. should get death penalty!\n",
      "\n",
      "   nyc terrorist was happy as he asked to hang isis flag in his hospital room. he killed 8 people, badly injured 12. should get death penalty!\n",
      "\n",
      "   fake news cnn made a vicious and purposeful mistake yesterday. they were caught red handed, just like lonely brian ross at abc news (who should be immediately fired for his “mistake”). watch to see if @cnn fires those responsible, or was it just gross incompetence?\n"
     ]
    }
   ],
   "source": [
    "print('Most negative tweets:')\n",
    "for t in trump.sort_values('polarity').head()['text']:\n",
    "    print('\\n  ', t)"
   ]
  },
  {
   "cell_type": "code",
   "execution_count": 52,
   "metadata": {
    "deletable": false,
    "editable": false,
    "nbgrader": {
     "cell_type": "code",
     "checksum": "e0d27a82de94a1ce5cf64a2c72ffb7aa",
     "grade": false,
     "grade_id": "postive-tweets",
     "locked": true,
     "schema_version": 2,
     "solution": false
    }
   },
   "outputs": [
    {
     "name": "stdout",
     "output_type": "stream",
     "text": [
      "Most positive tweets:\n",
      "\n",
      "   it was my great honor to celebrate the opening of two extraordinary museums-the mississippi state history museum &amp; the mississippi civil rights museum. we pay solemn tribute to our heroes of the past &amp; dedicate ourselves to building a future of freedom, equality, justice &amp; peace. https://t.co/5akgvpv8aa\n",
      "\n",
      "   it was my great honor to celebrate the opening of two extraordinary museums-the mississippi state history museum &amp; the mississippi civil rights museum. we pay solemn tribute to our heroes of the past &amp; dedicate ourselves to building a future of freedom, equality, justice &amp; peace. https://t.co/5akgvpv8aa\n",
      "\n",
      "   today, it was my great honor to sign a new executive order to ensure veterans have the resources they need as they transition back to civilian life. we must ensure that our heroes are given the care and support they so richly deserve! https://t.co/0mdp9ddias https://t.co/lp2a8kcbap\n",
      "\n",
      "   today, it was my great honor to sign a new executive order to ensure veterans have the resources they need as they transition back to civilian life. we must ensure that our heroes are given the care and support they so richly deserve! https://t.co/0mdp9ddias https://t.co/lp2a8kcbap\n",
      "\n",
      "   it was my great honor to welcome mayor’s from across america to the wh. my administration will always support local government - and listen to the leaders who know their communities best. together, we will usher in a bold new era of peace and prosperity! https://t.co/dmyectnk0a https://t.co/rsv7v7r0dt\n"
     ]
    }
   ],
   "source": [
    "print('Most positive tweets:')\n",
    "for t in trump.sort_values('polarity', ascending=False).head()['text']:\n",
    "    print('\\n  ', t)"
   ]
  },
  {
   "cell_type": "markdown",
   "metadata": {
    "deletable": false,
    "editable": false,
    "nbgrader": {
     "cell_type": "markdown",
     "checksum": "0f2ca7db78e7689cdd731e11c9dcffb9",
     "grade": false,
     "grade_id": "q6g",
     "locked": true,
     "schema_version": 2,
     "solution": false
    }
   },
   "source": [
    "## Question 6g\n",
    "\n",
    "Plot the distribution of tweet sentiments broken down by whether the text of the tweet contains `nyt` or `fox`.  Then in the box below comment on what we observe?"
   ]
  },
  {
   "cell_type": "code",
   "execution_count": 53,
   "metadata": {
    "deletable": false,
    "nbgrader": {
     "cell_type": "code",
     "checksum": "4eb3b83e9188000a1a52427c06ea3c62",
     "grade": true,
     "grade_id": "q6g-answer",
     "locked": false,
     "points": 1,
     "schema_version": 2,
     "solution": true
    },
    "tags": [
     "student"
    ]
   },
   "outputs": [
    {
     "data": {
      "text/plain": [
       "<matplotlib.legend.Legend at 0x7f401fffcc88>"
      ]
     },
     "execution_count": 53,
     "metadata": {},
     "output_type": "execute_result"
    },
    {
     "data": {
      "image/png": "[encoded data removed]",
      "text/plain": [
       "<matplotlib.figure.Figure at 0x7f401d4de780>"
      ]
     },
     "metadata": {},
     "output_type": "display_data"
    }
   ],
   "source": [
    "# YOUR CODE HERE\n",
    "#trump[trump['source'] == 'Twitter for iPhone']\n",
    "f = trump[trump.no_punc.str.contains('fox') == True]\n",
    "ny = trump[trump.no_punc.str.contains('nyt') == True]\n",
    "\n",
    "sns.distplot(f['polarity'], hist = True, label = \"fox\")\n",
    "sns.distplot(ny['polarity'], hist = True, label = 'nyt')\n",
    "plt.legend()\n",
    "\n"
   ]
  },
  {
   "cell_type": "markdown",
   "metadata": {
    "deletable": false,
    "editable": false,
    "nbgrader": {
     "cell_type": "markdown",
     "checksum": "88e3a81cb1d24df731e4d72d10f08d9f",
     "grade": false,
     "grade_id": "comment-on-faux-news",
     "locked": true,
     "schema_version": 2,
     "solution": false
    }
   },
   "source": [
    "#### Comment on what you observe:"
   ]
  },
  {
   "cell_type": "markdown",
   "metadata": {
    "deletable": false,
    "nbgrader": {
     "cell_type": "markdown",
     "checksum": "07f011cfd9a34c2b3314f2a3aa210187",
     "grade": true,
     "grade_id": "q6g-written",
     "locked": false,
     "points": 1,
     "schema_version": 2,
     "solution": true
    }
   },
   "source": [
    "From this plot we see that tweets that contain the word 'fox' have polarity leaning toward the right which indicates that Donald Trump relates the word 'fox' with a more positive connotation as most of the graph leans toward the right and has a much higher distribution as he mentions it more. The word 'nyt' has a much more negative polarity and a much lower distribution which means that Donald Trump does not mention the word as much but when he does it is usually in a negative connotation."
   ]
  },
  {
   "cell_type": "code",
   "execution_count": 54,
   "metadata": {},
   "outputs": [
    {
     "data": {
      "text/html": [
       "<div>\n",
       "<style scoped>\n",
       "    .dataframe tbody tr th:only-of-type {\n",
       "        vertical-align: middle;\n",
       "    }\n",
       "\n",
       "    .dataframe tbody tr th {\n",
       "        vertical-align: top;\n",
       "    }\n",
       "\n",
       "    .dataframe thead th {\n",
       "        text-align: right;\n",
       "    }\n",
       "</style>\n",
       "<table border=\"1\" class=\"dataframe\">\n",
       "  <thead>\n",
       "    <tr style=\"text-align: right;\">\n",
       "      <th></th>\n",
       "      <th>num</th>\n",
       "      <th>word</th>\n",
       "    </tr>\n",
       "  </thead>\n",
       "  <tbody>\n",
       "    <tr>\n",
       "      <th>1055846847502258178</th>\n",
       "      <td>0</td>\n",
       "      <td>i</td>\n",
       "    </tr>\n",
       "    <tr>\n",
       "      <th>1055846847502258178</th>\n",
       "      <td>1</td>\n",
       "      <td>will</td>\n",
       "    </tr>\n",
       "    <tr>\n",
       "      <th>1055846847502258178</th>\n",
       "      <td>2</td>\n",
       "      <td>be</td>\n",
       "    </tr>\n",
       "    <tr>\n",
       "      <th>1055846847502258178</th>\n",
       "      <td>3</td>\n",
       "      <td>speaking</td>\n",
       "    </tr>\n",
       "    <tr>\n",
       "      <th>1055846847502258178</th>\n",
       "      <td>4</td>\n",
       "      <td>at</td>\n",
       "    </tr>\n",
       "    <tr>\n",
       "      <th>1055846847502258178</th>\n",
       "      <td>5</td>\n",
       "      <td>the</td>\n",
       "    </tr>\n",
       "    <tr>\n",
       "      <th>1055846847502258178</th>\n",
       "      <td>6</td>\n",
       "      <td>young</td>\n",
       "    </tr>\n",
       "    <tr>\n",
       "      <th>1055846847502258178</th>\n",
       "      <td>7</td>\n",
       "      <td>black</td>\n",
       "    </tr>\n",
       "    <tr>\n",
       "      <th>1055846847502258178</th>\n",
       "      <td>8</td>\n",
       "      <td>leadership</td>\n",
       "    </tr>\n",
       "    <tr>\n",
       "      <th>1055846847502258178</th>\n",
       "      <td>9</td>\n",
       "      <td>summit</td>\n",
       "    </tr>\n",
       "    <tr>\n",
       "      <th>1055846847502258178</th>\n",
       "      <td>10</td>\n",
       "      <td>in</td>\n",
       "    </tr>\n",
       "    <tr>\n",
       "      <th>1055846847502258178</th>\n",
       "      <td>11</td>\n",
       "      <td>15</td>\n",
       "    </tr>\n",
       "    <tr>\n",
       "      <th>1055846847502258178</th>\n",
       "      <td>12</td>\n",
       "      <td>minutes</td>\n",
       "    </tr>\n",
       "    <tr>\n",
       "      <th>1055846847502258178</th>\n",
       "      <td>13</td>\n",
       "      <td>where</td>\n",
       "    </tr>\n",
       "    <tr>\n",
       "      <th>1055846847502258178</th>\n",
       "      <td>14</td>\n",
       "      <td>i</td>\n",
       "    </tr>\n",
       "    <tr>\n",
       "      <th>1055846847502258178</th>\n",
       "      <td>15</td>\n",
       "      <td>will</td>\n",
       "    </tr>\n",
       "    <tr>\n",
       "      <th>1055846847502258178</th>\n",
       "      <td>16</td>\n",
       "      <td>address</td>\n",
       "    </tr>\n",
       "    <tr>\n",
       "      <th>1055846847502258178</th>\n",
       "      <td>17</td>\n",
       "      <td>the</td>\n",
       "    </tr>\n",
       "    <tr>\n",
       "      <th>1055846847502258178</th>\n",
       "      <td>18</td>\n",
       "      <td>investigation</td>\n",
       "    </tr>\n",
       "    <tr>\n",
       "      <th>1055846847502258178</th>\n",
       "      <td>19</td>\n",
       "      <td>into</td>\n",
       "    </tr>\n",
       "    <tr>\n",
       "      <th>1055846847502258178</th>\n",
       "      <td>20</td>\n",
       "      <td>the</td>\n",
       "    </tr>\n",
       "    <tr>\n",
       "      <th>1055846847502258178</th>\n",
       "      <td>21</td>\n",
       "      <td>bomb</td>\n",
       "    </tr>\n",
       "    <tr>\n",
       "      <th>1055846847502258178</th>\n",
       "      <td>22</td>\n",
       "      <td>packages</td>\n",
       "    </tr>\n",
       "    <tr>\n",
       "      <th>1055826295337172993</th>\n",
       "      <td>0</td>\n",
       "      <td>republicans</td>\n",
       "    </tr>\n",
       "    <tr>\n",
       "      <th>1055826295337172993</th>\n",
       "      <td>1</td>\n",
       "      <td>are</td>\n",
       "    </tr>\n",
       "    <tr>\n",
       "      <th>1055826295337172993</th>\n",
       "      <td>2</td>\n",
       "      <td>doing</td>\n",
       "    </tr>\n",
       "    <tr>\n",
       "      <th>1055826295337172993</th>\n",
       "      <td>3</td>\n",
       "      <td>so</td>\n",
       "    </tr>\n",
       "    <tr>\n",
       "      <th>1055826295337172993</th>\n",
       "      <td>4</td>\n",
       "      <td>well</td>\n",
       "    </tr>\n",
       "    <tr>\n",
       "      <th>1055826295337172993</th>\n",
       "      <td>5</td>\n",
       "      <td>in</td>\n",
       "    </tr>\n",
       "    <tr>\n",
       "      <th>1055826295337172993</th>\n",
       "      <td>6</td>\n",
       "      <td>early</td>\n",
       "    </tr>\n",
       "    <tr>\n",
       "      <th>...</th>\n",
       "      <td>...</td>\n",
       "      <td>...</td>\n",
       "    </tr>\n",
       "    <tr>\n",
       "      <th>894875602045607936</th>\n",
       "      <td>7</td>\n",
       "      <td>from</td>\n",
       "    </tr>\n",
       "    <tr>\n",
       "      <th>894875602045607936</th>\n",
       "      <td>8</td>\n",
       "      <td>obamacare</td>\n",
       "    </tr>\n",
       "    <tr>\n",
       "      <th>894875602045607936</th>\n",
       "      <td>9</td>\n",
       "      <td>exchange</td>\n",
       "    </tr>\n",
       "    <tr>\n",
       "      <th>894875602045607936</th>\n",
       "      <td>10</td>\n",
       "      <td>in</td>\n",
       "    </tr>\n",
       "    <tr>\n",
       "      <th>894875602045607936</th>\n",
       "      <td>11</td>\n",
       "      <td>nevada</td>\n",
       "    </tr>\n",
       "    <tr>\n",
       "      <th>894875602045607936</th>\n",
       "      <td>12</td>\n",
       "      <td>https</td>\n",
       "    </tr>\n",
       "    <tr>\n",
       "      <th>894875602045607936</th>\n",
       "      <td>13</td>\n",
       "      <td>t</td>\n",
       "    </tr>\n",
       "    <tr>\n",
       "      <th>894875602045607936</th>\n",
       "      <td>14</td>\n",
       "      <td>co</td>\n",
       "    </tr>\n",
       "    <tr>\n",
       "      <th>894875602045607936</th>\n",
       "      <td>15</td>\n",
       "      <td>d0cxehqkwz</td>\n",
       "    </tr>\n",
       "    <tr>\n",
       "      <th>894871302250668032</th>\n",
       "      <td>0</td>\n",
       "      <td>rt</td>\n",
       "    </tr>\n",
       "    <tr>\n",
       "      <th>894871302250668032</th>\n",
       "      <td>1</td>\n",
       "      <td>foxandfriends</td>\n",
       "    </tr>\n",
       "    <tr>\n",
       "      <th>894871302250668032</th>\n",
       "      <td>2</td>\n",
       "      <td>u</td>\n",
       "    </tr>\n",
       "    <tr>\n",
       "      <th>894871302250668032</th>\n",
       "      <td>3</td>\n",
       "      <td>s</td>\n",
       "    </tr>\n",
       "    <tr>\n",
       "      <th>894871302250668032</th>\n",
       "      <td>4</td>\n",
       "      <td>spy</td>\n",
       "    </tr>\n",
       "    <tr>\n",
       "      <th>894871302250668032</th>\n",
       "      <td>5</td>\n",
       "      <td>satellites</td>\n",
       "    </tr>\n",
       "    <tr>\n",
       "      <th>894871302250668032</th>\n",
       "      <td>6</td>\n",
       "      <td>detect</td>\n",
       "    </tr>\n",
       "    <tr>\n",
       "      <th>894871302250668032</th>\n",
       "      <td>7</td>\n",
       "      <td>north</td>\n",
       "    </tr>\n",
       "    <tr>\n",
       "      <th>894871302250668032</th>\n",
       "      <td>8</td>\n",
       "      <td>korea</td>\n",
       "    </tr>\n",
       "    <tr>\n",
       "      <th>894871302250668032</th>\n",
       "      <td>9</td>\n",
       "      <td>moving</td>\n",
       "    </tr>\n",
       "    <tr>\n",
       "      <th>894871302250668032</th>\n",
       "      <td>10</td>\n",
       "      <td>anti</td>\n",
       "    </tr>\n",
       "    <tr>\n",
       "      <th>894871302250668032</th>\n",
       "      <td>11</td>\n",
       "      <td>ship</td>\n",
       "    </tr>\n",
       "    <tr>\n",
       "      <th>894871302250668032</th>\n",
       "      <td>12</td>\n",
       "      <td>cruise</td>\n",
       "    </tr>\n",
       "    <tr>\n",
       "      <th>894871302250668032</th>\n",
       "      <td>13</td>\n",
       "      <td>missiles</td>\n",
       "    </tr>\n",
       "    <tr>\n",
       "      <th>894871302250668032</th>\n",
       "      <td>14</td>\n",
       "      <td>to</td>\n",
       "    </tr>\n",
       "    <tr>\n",
       "      <th>894871302250668032</th>\n",
       "      <td>15</td>\n",
       "      <td>patrol</td>\n",
       "    </tr>\n",
       "    <tr>\n",
       "      <th>894871302250668032</th>\n",
       "      <td>16</td>\n",
       "      <td>boat</td>\n",
       "    </tr>\n",
       "    <tr>\n",
       "      <th>894871302250668032</th>\n",
       "      <td>17</td>\n",
       "      <td>https</td>\n",
       "    </tr>\n",
       "    <tr>\n",
       "      <th>894871302250668032</th>\n",
       "      <td>18</td>\n",
       "      <td>t</td>\n",
       "    </tr>\n",
       "    <tr>\n",
       "      <th>894871302250668032</th>\n",
       "      <td>19</td>\n",
       "      <td>co</td>\n",
       "    </tr>\n",
       "    <tr>\n",
       "      <th>894871302250668032</th>\n",
       "      <td>20</td>\n",
       "      <td>bpfxslffgy</td>\n",
       "    </tr>\n",
       "  </tbody>\n",
       "</table>\n",
       "<p>244868 rows × 2 columns</p>\n",
       "</div>"
      ],
      "text/plain": [
       "                     num           word\n",
       "1055846847502258178    0              i\n",
       "1055846847502258178    1           will\n",
       "1055846847502258178    2             be\n",
       "1055846847502258178    3       speaking\n",
       "1055846847502258178    4             at\n",
       "1055846847502258178    5            the\n",
       "1055846847502258178    6          young\n",
       "1055846847502258178    7          black\n",
       "1055846847502258178    8     leadership\n",
       "1055846847502258178    9         summit\n",
       "1055846847502258178   10             in\n",
       "1055846847502258178   11             15\n",
       "1055846847502258178   12        minutes\n",
       "1055846847502258178   13          where\n",
       "1055846847502258178   14              i\n",
       "1055846847502258178   15           will\n",
       "1055846847502258178   16        address\n",
       "1055846847502258178   17            the\n",
       "1055846847502258178   18  investigation\n",
       "1055846847502258178   19           into\n",
       "1055846847502258178   20            the\n",
       "1055846847502258178   21           bomb\n",
       "1055846847502258178   22       packages\n",
       "1055826295337172993    0    republicans\n",
       "1055826295337172993    1            are\n",
       "1055826295337172993    2          doing\n",
       "1055826295337172993    3             so\n",
       "1055826295337172993    4           well\n",
       "1055826295337172993    5             in\n",
       "1055826295337172993    6          early\n",
       "...                  ...            ...\n",
       "894875602045607936     7           from\n",
       "894875602045607936     8      obamacare\n",
       "894875602045607936     9       exchange\n",
       "894875602045607936    10             in\n",
       "894875602045607936    11         nevada\n",
       "894875602045607936    12          https\n",
       "894875602045607936    13              t\n",
       "894875602045607936    14             co\n",
       "894875602045607936    15     d0cxehqkwz\n",
       "894871302250668032     0             rt\n",
       "894871302250668032     1  foxandfriends\n",
       "894871302250668032     2              u\n",
       "894871302250668032     3              s\n",
       "894871302250668032     4            spy\n",
       "894871302250668032     5     satellites\n",
       "894871302250668032     6         detect\n",
       "894871302250668032     7          north\n",
       "894871302250668032     8          korea\n",
       "894871302250668032     9         moving\n",
       "894871302250668032    10           anti\n",
       "894871302250668032    11           ship\n",
       "894871302250668032    12         cruise\n",
       "894871302250668032    13       missiles\n",
       "894871302250668032    14             to\n",
       "894871302250668032    15         patrol\n",
       "894871302250668032    16           boat\n",
       "894871302250668032    17          https\n",
       "894871302250668032    18              t\n",
       "894871302250668032    19             co\n",
       "894871302250668032    20     bpfxslffgy\n",
       "\n",
       "[244868 rows x 2 columns]"
      ]
     },
     "execution_count": 54,
     "metadata": {},
     "output_type": "execute_result"
    }
   ],
   "source": [
    "tidy_format"
   ]
  },
  {
   "cell_type": "markdown",
   "metadata": {
    "deletable": false,
    "editable": false,
    "nbgrader": {
     "cell_type": "markdown",
     "checksum": "c5ecdf3a6f728a340b159acc71ac1abe",
     "grade": false,
     "grade_id": "q7-header",
     "locked": true,
     "schema_version": 2,
     "solution": false
    }
   },
   "source": [
    "## Question 7: Engagement\n",
    "\n",
    "## Question 7a\n",
    "\n",
    "In this problem, we'll explore which words led to a greater average number of retweets. For example, at the time of this writing, Donald Trump has two tweets that contain the word 'oakland' (tweets 932570628451954688 and 1016609920031117312) with 36757 and 10286 retweets respectively, for an average of 23,521.5.\n",
    "\n",
    "Find the top 20 most retweeted words. Include only words that appear in at least 25 tweets. As usual, try to do this without any for loops. You can string together ~7 pandas commands and get everything done on one line.\n",
    "\n",
    "Your `top_20` table should have this format:\n",
    "\n",
    "<table border=\"1\" class=\"dataframe\">\n",
    "  <thead>\n",
    "    <tr style=\"text-align: right;\">\n",
    "      <th></th>\n",
    "      <th>retweet_count</th>\n",
    "    </tr>\n",
    "    <tr>\n",
    "      <th>word</th>\n",
    "      <th></th>\n",
    "    </tr>\n",
    "  </thead>\n",
    "  <tbody>\n",
    "    <tr>\n",
    "      <th>jong</th>\n",
    "      <td>40675.666667</td>\n",
    "    </tr>\n",
    "    <tr>\n",
    "      <th>try</th>\n",
    "      <td>33937.800000</td>\n",
    "    </tr>\n",
    "    <tr>\n",
    "      <th>kim</th>\n",
    "      <td>32849.595745</td>\n",
    "    </tr>\n",
    "    <tr>\n",
    "      <th>un</th>\n",
    "      <td>32741.731707</td>\n",
    "    </tr>\n",
    "    <tr>\n",
    "      <th>maybe</th>\n",
    "      <td>30473.192308</td>\n",
    "    </tr>\n",
    "  </tbody>\n",
    "</table>"
   ]
  },
  {
   "cell_type": "code",
   "execution_count": 55,
   "metadata": {
    "deletable": false,
    "nbgrader": {
     "cell_type": "code",
     "checksum": "fd0b39f47c0462c1c6da4a8c31df384c",
     "grade": false,
     "grade_id": "q7a",
     "locked": false,
     "schema_version": 2,
     "solution": true
    },
    "tags": [
     "student"
    ]
   },
   "outputs": [],
   "source": [
    "merge_tidy_trump = tidy_format.merge(trump, left_index=True, right_index=True)\n",
    "get_words = merge_tidy_trump.groupby('word').filter(lambda f: f['word'].value_counts() >= 25).groupby('word').agg({'retweet_count':'mean'})\n",
    "final_group = get_words.sort_values(by=['retweet_count'], ascending=False)\n",
    "top_20 = final_group.head(20)\n",
    "\n",
    "# YOUR CODE HERE\n",
    "# raise NotImplementedError()"
   ]
  },
  {
   "cell_type": "code",
   "execution_count": 56,
   "metadata": {
    "deletable": false,
    "editable": false,
    "nbgrader": {
     "cell_type": "code",
     "checksum": "21c9f88159cc2a93678adbf0ed15b141",
     "grade": true,
     "grade_id": "q7a-test",
     "locked": true,
     "points": 1,
     "schema_version": 2,
     "solution": false
    },
    "tags": [
     "test",
     "q07a"
    ]
   },
   "outputs": [],
   "source": [
    "# Although it can't be guaranteed, it's very likely that the top 5 words will still be\n",
    "# in the top 20 words in the next month.\n",
    "assert 'jong'     in top_20.index\n",
    "assert 'try'     in top_20.index\n",
    "assert 'kim' in top_20.index\n",
    "assert 'un'    in top_20.index\n",
    "assert 'maybe'    in top_20.index\n"
   ]
  },
  {
   "cell_type": "markdown",
   "metadata": {
    "deletable": false,
    "editable": false,
    "nbgrader": {
     "cell_type": "markdown",
     "checksum": "a4a12be8f88ac931b51b85a1ffa5cfde",
     "grade": false,
     "grade_id": "bar-chart-results",
     "locked": true,
     "schema_version": 2,
     "solution": false
    }
   },
   "source": [
    "Here's a bar chart of your results:"
   ]
  },
  {
   "cell_type": "code",
   "execution_count": 57,
   "metadata": {
    "deletable": false,
    "editable": false,
    "nbgrader": {
     "cell_type": "code",
     "checksum": "4a962cdd19dad39e5f8aa5fe2ff096e4",
     "grade": false,
     "grade_id": "top-retweets",
     "locked": true,
     "schema_version": 2,
     "solution": false
    }
   },
   "outputs": [
    {
     "data": {
      "image/png": "[encoded data removed]",
      "text/plain": [
       "<matplotlib.figure.Figure at 0x7f401e85bf98>"
      ]
     },
     "metadata": {},
     "output_type": "display_data"
    }
   ],
   "source": [
    "top_20['retweet_count'].sort_values().plot.barh(figsize=(10, 8));"
   ]
  },
  {
   "cell_type": "markdown",
   "metadata": {
    "deletable": false,
    "editable": false,
    "nbgrader": {
     "cell_type": "markdown",
     "checksum": "70a14a09cd647399e07501fd7ba2c9e1",
     "grade": false,
     "grade_id": "q7b",
     "locked": true,
     "schema_version": 2,
     "solution": false
    }
   },
   "source": [
    "## Question 7b\n",
    "\n",
    "\"kim\", \"jong\" and \"un\" are apparently really popular in Trump's tweets! It seems like we can conclude that his tweets involving jong are more popular than his other tweets. Or can we?\n",
    "\n",
    "Consider each of the statements about possible confounding factors below. State whether each statement is true or false and explain. If the statement is true, state whether the confounding factor could have made kim jong un related tweets higher in the list than they should be.\n",
    "\n",
    "1. We didn't restrict our word list to nouns, so we have unhelpful words like \"let\" and \"any\" in our result.\n",
    "1. We didn't remove hashtags in our text, so we have duplicate words (eg. #great and great).\n",
    "1. We didn't account for the fact that Trump's follower count has increased over time."
   ]
  },
  {
   "cell_type": "markdown",
   "metadata": {
    "deletable": false,
    "nbgrader": {
     "cell_type": "markdown",
     "checksum": "577b78199cd4361dd51b92774e09beb0",
     "grade": true,
     "grade_id": "q7b-answer",
     "locked": false,
     "points": 1,
     "schema_version": 2,
     "solution": true
    },
    "tags": [
     "student",
     "written"
    ]
   },
   "source": [
    "1. True: In the case of Kim, the results are not affected. If Donald Trump uses the same nouns most of the time these usually have a high number of retweets because of his is way of writing tweets is always in a condescending tone.\n",
    "2. True: There will be an overcount of number of tweets that include the same hashtag. These possible hashtags may also be part of a trending topic on twitter which would make the tweet more popular such as Kim Jong Tweets.\n",
    "3. True: Trumps followers on twitter may make certain tweets have a higher rate of retweets and certain topics may have a higher effect on the popularity of the tweet."
   ]
  },
  {
   "cell_type": "markdown",
   "metadata": {
    "deletable": false,
    "editable": false,
    "nbgrader": {
     "cell_type": "markdown",
     "checksum": "2349bca60086e521e2127eb40b1beb29",
     "grade": false,
     "grade_id": "q8",
     "locked": true,
     "schema_version": 2,
     "solution": false
    }
   },
   "source": [
    "## Question 8\n",
    "\n",
    "Using the `trump` tweets construct an interesting plot describing a property of the data and discuss what you found below.\n",
    "\n",
    "**Ideas:**\n",
    "\n",
    "1. How has the sentiment changed with length of the tweets?\n",
    "1. Does sentiment affect retweet count?\n",
    "1. Are retweets more negative than regular tweets?\n",
    "1. Are there any spikes in the number of retweets and do the correspond to world events? \n",
    "1. *Bonus:* How many Russian twitter bots follow Trump? \n",
    "1. What terms have an especially positive or negative sentiment?\n",
    "\n",
    "You can look at other data sources and even tweets.\n"
   ]
  },
  {
   "cell_type": "markdown",
   "metadata": {
    "deletable": false,
    "editable": false,
    "nbgrader": {
     "cell_type": "markdown",
     "checksum": "9742f4a99a0e60845ad7dcc60d774fd7",
     "grade": false,
     "grade_id": "plot8-q",
     "locked": true,
     "schema_version": 2,
     "solution": false
    }
   },
   "source": [
    "### Plot:"
   ]
  },
  {
   "cell_type": "code",
   "execution_count": 73,
   "metadata": {
    "deletable": false,
    "nbgrader": {
     "cell_type": "code",
     "checksum": "1f84a32506abaa59849e1923f60afb03",
     "grade": true,
     "grade_id": "q8-plot",
     "locked": false,
     "points": 2,
     "schema_version": 2,
     "solution": true
    }
   },
   "outputs": [
    {
     "data": {
      "text/plain": [
       "Text(0.5,1,'Sentiment of four terms')"
      ]
     },
     "execution_count": 73,
     "metadata": {},
     "output_type": "execute_result"
    },
    {
     "data": {
      "image/png": "[encoded data removed]",
      "text/plain": [
       "<matplotlib.figure.Figure at 0x7f4011f30a58>"
      ]
     },
     "metadata": {},
     "output_type": "display_data"
    }
   ],
   "source": [
    "\n",
    "sns.distplot(trump.loc[trump['text'].str.contains('russia').fillna(value=False)]['polarity'],label = 'Russia', hist = False)\n",
    "sns.distplot(trump.loc[trump['text'].str.contains('china').fillna(value=False)]['polarity'],label = 'China', hist = False)\n",
    "sns.distplot(trump.loc[trump['text'].str.contains('immigration').fillna(value=False)]['polarity'], label = 'Immigration', hist = False)\n",
    "sns.distplot(trump.loc[trump['text'].str.contains('taxes').fillna(value=False)]['polarity'], label = 'Taxes', hist = False)\n",
    "\n",
    "plt.ylabel('fraction')\n",
    "plt.legend()\n",
    "plt.title('Sentiment of four terms')\n",
    "\n",
    "#raise NotImplementedError()"
   ]
  },
  {
   "cell_type": "markdown",
   "metadata": {
    "deletable": false,
    "editable": false,
    "nbgrader": {
     "cell_type": "markdown",
     "checksum": "8bcdf92134fc82c0b7dcfb54c62dadfe",
     "grade": false,
     "grade_id": "disc8-q",
     "locked": true,
     "schema_version": 2,
     "solution": false
    }
   },
   "source": [
    "### Discussion of Your Plot:"
   ]
  },
  {
   "cell_type": "markdown",
   "metadata": {
    "deletable": false,
    "nbgrader": {
     "cell_type": "markdown",
     "checksum": "36550141bfc678e4ad08057239781458",
     "grade": true,
     "grade_id": "q8-disc",
     "locked": false,
     "points": 1,
     "schema_version": 2,
     "solution": true
    }
   },
   "source": [
    "This plot relates four topics that I believe Trump associates with strong shifts in their respective polarity. I chose Russia, Immigration, Taxes and China and found that some terms such as immigration have a much higher negative polarity and terms such as Taxes have larger shifts to positive polarity. These terms indicate references to Trumps stance on various issues and how terms such as Russia and China have mostly equal density but China shifts more toward the right rather than Trumps stance on Russia. This is equally the same for immigration and taxes."
   ]
  },
  {
   "cell_type": "markdown",
   "metadata": {
    "deletable": false,
    "editable": false,
    "nbgrader": {
     "cell_type": "markdown",
     "checksum": "7cd0d0cd6110eba1fea6f1316c48f4a0",
     "grade": false,
     "grade_id": "submission",
     "locked": true,
     "schema_version": 2,
     "solution": false
    }
   },
   "source": [
    "## Submission\n",
    "\n",
    "Congrats, you just finished Project 1!"
   ]
  },
  {
   "cell_type": "markdown",
   "metadata": {},
   "source": [
    "## Submission\n",
    "\n",
    "You're done!\n",
    "\n",
    "Before submitting this assignment, ensure to:\n",
    "\n",
    "1. Restart the Kernel (in the menubar, select Kernel->Restart & Run All)\n",
    "2. Validate the notebook by clicking the \"Validate\" button\n",
    "\n",
    "Finally, make sure to **submit** the assignment via the Assignments tab in Datahub"
   ]
  },
  {
   "cell_type": "code",
   "execution_count": null,
   "metadata": {},
   "outputs": [],
   "source": []
  }
 ],
 "metadata": {
  "kernelspec": {
   "display_name": "Python 3",
   "language": "python",
   "name": "python3"
  },
  "language_info": {
   "codemirror_mode": {
    "name": "ipython",
    "version": 3
   },
   "file_extension": ".py",
   "mimetype": "text/x-python",
   "name": "python",
   "nbconvert_exporter": "python",
   "pygments_lexer": "ipython3",
   "version": "3.6.4"
  }
 },
 "nbformat": 4,
 "nbformat_minor": 2
}
